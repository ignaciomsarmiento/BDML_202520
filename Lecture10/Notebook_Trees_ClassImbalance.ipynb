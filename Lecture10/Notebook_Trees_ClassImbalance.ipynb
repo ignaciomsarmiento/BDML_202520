{
 "cells": [
  {
   "cell_type": "markdown",
   "id": "340f63f6-93da-4633-9f43-43927ea8d65c",
   "metadata": {},
   "source": [
    "<div >\n",
    "<img src = \"../banner.jpg\" />\n",
    "</div>"
   ]
  },
  {
   "cell_type": "markdown",
   "id": "c206490e",
   "metadata": {},
   "source": [
    "<a target=\"_blank\" href=\"https://colab.research.google.com/github/ignaciomsarmiento/BDML_202520/blob/main/Lecture10/Notebook_Trees_ClassImbalance.ipynb\">\n",
    "  <img src=\"https://colab.research.google.com/assets/colab-badge.svg\" alt=\"Open In Colab\"/>\n",
    "</a>\n",
    "\n"
   ]
  },
  {
   "cell_type": "markdown",
   "id": "d8e20450",
   "metadata": {},
   "source": [
    "# Clasificación con Bosques y Desbalance de Clases"
   ]
  },
  {
   "cell_type": "markdown",
   "id": "a5c24b15",
   "metadata": {},
   "source": [
    "Para trabajar los pasos de clasificación basada en probabilidad, utilizaremos un conjunto de datos reales sobre desempleo de la Encuesta Permanente de Hogares (EPH) de Argentina. Este conjunto de datos incluye variables socioeconómicas y demográficas que nos permitirán predecir si una persona está desempleada o no.  \n",
    "\n",
    "La predicción del desempleo es un problema clásico de clasificación y sigue siendo una de las áreas clave de aplicación en el aprendizaje automático: usamos información previa sobre la condición laboral de las personas (empleado versus desempleado) para entrenar un modelo que pueda predecir el estado de empleo en nuevos casos.  \n",
    "\n",
    "\\begin{align}\n",
    "Desempleado_i = f(X_i) + u_i\n",
    "\\end{align}\n",
    "\n",
    "donde $Desempleado_i$ es una variable dicotómica que toma el valor de 1 si el individuo \\( i \\) está desempleado y 0 en caso contrario."
   ]
  },
  {
   "cell_type": "code",
   "execution_count": 1,
   "id": "6fd78316-f5f0-4b38-86d5-a91cebea8523",
   "metadata": {
    "vscode": {
     "languageId": "r"
    }
   },
   "outputs": [],
   "source": [
    "# install.packages(\"pacman\") #correr esto en Google Colab"
   ]
  },
  {
   "cell_type": "code",
   "execution_count": 2,
   "id": "592ee382",
   "metadata": {
    "vscode": {
     "languageId": "r"
    }
   },
   "outputs": [
    {
     "name": "stderr",
     "output_type": "stream",
     "text": [
      "Loading required package: pacman\n",
      "\n"
     ]
    }
   ],
   "source": [
    "#Cargar librerías \n",
    "require(\"pacman\")\n",
    "p_load(\"tidyverse\",  # Conjunto de paquetes para manipulación, visualización y análisis de datos \n",
    "       \"caret\",       # Herramientas para preprocesamiento, selección de modelos y evaluación de algoritmos de machine learning.\n",
    "       \"MLeval\",      # Funciones para evaluar modelos de clasificación y regresión con métricas y gráficos.\n",
    "       \"MLmetrics\")   # Colección de métricas de evaluación para modelos de machine learning.\n",
    "       \n",
    "set.seed(1011)  # Fijar semilla para reproducibilidad de resultados.\n",
    "\n",
    "# Leer los datos desde un archivo RDS alojado en GitHub\n",
    "db <- readRDS(url(\"https://github.com/ignaciomsarmiento/datasets/blob/main/desempelo_arg_2010.Rds?raw=true\"))"
   ]
  },
  {
   "cell_type": "markdown",
   "id": "fd20a026-466e-4e8c-8fa2-6ecc042538e4",
   "metadata": {},
   "source": [
    "Antes de comenzar con el análisis, es fundamental realizar algunas tareas de limpieza y preparación de los datos, comúnmente conocidas como housekeeping. Estas tareas incluyen la filtración de datos para quedarnos con los relevantes, la conversión de variables categóricas a factores sin niveles innecesarios y la recodificación de valores para facilitar la interpretación. A continuación, se detallan los pasos realizados:"
   ]
  },
  {
   "cell_type": "code",
   "execution_count": 3,
   "id": "8795384b",
   "metadata": {
    "vscode": {
     "languageId": "r"
    }
   },
   "outputs": [],
   "source": [
    "\n",
    "# Filtrar los datos para incluir solo observaciones de \"Partidos del GBA\", \"Ciudad de Buenos Aires\" y \"Gran La Plata\"\n",
    "# Para que sea un poquito más rapido el analisis\n",
    "db <- db %>% filter(ciudad %in% c(\"Partidos del GBA\", \"Ciudad de Buenos Aires\", \"Gran La Plata\"))\n",
    "\n",
    "# Filtrar niveles vacíos, el siguiente código no funciona porque solo elimina las filas con \"Ns./Nr.\",  \n",
    "# pero el nivel sigue existiendo en la estructura del factor.  \n",
    "# Esto sucede porque R no elimina automáticamente los niveles de un factor al filtrar filas.  \n",
    "# Un nivel es una categoría posible dentro de una variable de tipo factor, incluso si no tiene observaciones.  \n",
    "# db <- db %>% filter(nivel_ed != \"Ns./Nr.\")\n",
    "\n",
    "# Eliminar niveles vacíos del factor nivel_ed que quedaron después del filtrado\n",
    "db$nivel_ed <- droplevels(db$nivel_ed)\n",
    "\n",
    "\n",
    "# Eliminar niveles innecesarios de la variable tipo_vivienda\n",
    "db$tipo_vivienda <- droplevels(db$tipo_vivienda)\n",
    "\n",
    "# Eliminar niveles innecesarios de la variable parentesco\n",
    "db$parentesco <- droplevels(db$parentesco)\n",
    "\n",
    "# Recodificar la variable tipo_vivienda agrupando ciertas categorías en \"Otros\"\n",
    "db <- db %>% mutate(tipo_vivienda = recode(tipo_vivienda,\n",
    "                                           \"Pieza de inquilino\" = \"Otros\",\n",
    "                                           \"Pieza en hotel/pension\" = \"Otros\",\n",
    "                                           \"Local no construido para habitacion\" = \"Otros\"))\n",
    "\n",
    "# Recodificar la variable tipo_vivienda agrupando ciertas categorías en \"Otros\"\n",
    "db <- db %>% mutate(tipo_vivienda = recode(tipo_vivienda,\n",
    "                                           \"Pieza de inquilino\" = \"Otros\",\n",
    "                                           \"Pieza en hotel/pension\" = \"Otros\",\n",
    "                                           \"Local no construido para habitacion\" = \"Otros\"))\n",
    "\n",
    "# Recodificar la variable nivel_ed \n",
    "db <- db %>% mutate(nivel_ed = recode(nivel_ed,\n",
    "                                           \"Primaria Incompleta (incluye educación especial)\" = \"Primaria Incompleta\",\n",
    "                                           \"Sin instrucción\" = \"Primaria Incompleta\"))\n",
    "\n",
    "# Convertir la variable mujer en un factor con etiquetas más descriptivas (0 = \"hombre\", 1 = \"mujer\")\n",
    "db <- db %>% mutate(mujer = factor(mujer, levels = c(0,1), labels = c(\"hombre\", \"mujer\")))\n"
   ]
  },
  {
   "cell_type": "code",
   "execution_count": 4,
   "id": "5239d757-39b3-4806-af92-129171cae255",
   "metadata": {
    "vscode": {
     "languageId": "r"
    }
   },
   "outputs": [
    {
     "data": {
      "text/html": [
       "<table class=\"dataframe\">\n",
       "<caption>A tibble: 6 × 13</caption>\n",
       "<thead>\n",
       "\t<tr><th scope=col>desempleado</th><th scope=col>edad</th><th scope=col>mujer</th><th scope=col>parentesco</th><th scope=col>nivel_ed</th><th scope=col>estado_civil</th><th scope=col>total_miembros_hogar</th><th scope=col>miembros_hogar_menores10</th><th scope=col>ing_tot_fam</th><th scope=col>tipo_vivienda</th><th scope=col>ciudad</th><th scope=col>trimestre</th><th scope=col>id_hogar</th></tr>\n",
       "\t<tr><th scope=col>&lt;dbl&gt;</th><th scope=col>&lt;dbl&gt;</th><th scope=col>&lt;fct&gt;</th><th scope=col>&lt;fct&gt;</th><th scope=col>&lt;fct&gt;</th><th scope=col>&lt;fct&gt;</th><th scope=col>&lt;dbl&gt;</th><th scope=col>&lt;dbl&gt;</th><th scope=col>&lt;dbl&gt;</th><th scope=col>&lt;fct&gt;</th><th scope=col>&lt;fct&gt;</th><th scope=col>&lt;dbl&gt;</th><th scope=col>&lt;chr&gt;</th></tr>\n",
       "</thead>\n",
       "<tbody>\n",
       "\t<tr><td>0</td><td>31</td><td>hombre</td><td>Jefe/a        </td><td>Superior Universitaria Incompleta</td><td>Unido/a </td><td>3</td><td>1</td><td>8400</td><td>Casa        </td><td>Partidos del GBA</td><td>1</td><td>  1251051</td></tr>\n",
       "\t<tr><td>0</td><td>33</td><td>mujer </td><td>Conyuge/Pareja</td><td>Superior Universitaria Completa  </td><td>Unido/a </td><td>3</td><td>1</td><td>8400</td><td>Casa        </td><td>Partidos del GBA</td><td>1</td><td>  1251051</td></tr>\n",
       "\t<tr><td>0</td><td>54</td><td>mujer </td><td>Conyuge/Pareja</td><td>Secundaria Incompleta            </td><td>Casado/a</td><td>2</td><td>0</td><td>4000</td><td>Departamento</td><td>Gran La Plata   </td><td>1</td><td>  1251191</td></tr>\n",
       "\t<tr><td>0</td><td>48</td><td>hombre</td><td>Jefe/a        </td><td>Primaria Completa                </td><td>Casado/a</td><td>3</td><td>0</td><td>3150</td><td>Casa        </td><td>Partidos del GBA</td><td>1</td><td>  1251801</td></tr>\n",
       "\t<tr><td>0</td><td>46</td><td>mujer </td><td>Conyuge/Pareja</td><td>Secundaria Incompleta            </td><td>Casado/a</td><td>3</td><td>0</td><td>3150</td><td>Casa        </td><td>Partidos del GBA</td><td>1</td><td>  1251801</td></tr>\n",
       "\t<tr><td>0</td><td>63</td><td>hombre</td><td>Jefe/a        </td><td>Superior Universitaria Incompleta</td><td>Casado/a</td><td>2</td><td>0</td><td>3550</td><td>Casa        </td><td>Partidos del GBA</td><td>1</td><td>  1253471</td></tr>\n",
       "</tbody>\n",
       "</table>\n"
      ],
      "text/latex": [
       "A tibble: 6 × 13\n",
       "\\begin{tabular}{lllllllllllll}\n",
       " desempleado & edad & mujer & parentesco & nivel\\_ed & estado\\_civil & total\\_miembros\\_hogar & miembros\\_hogar\\_menores10 & ing\\_tot\\_fam & tipo\\_vivienda & ciudad & trimestre & id\\_hogar\\\\\n",
       " <dbl> & <dbl> & <fct> & <fct> & <fct> & <fct> & <dbl> & <dbl> & <dbl> & <fct> & <fct> & <dbl> & <chr>\\\\\n",
       "\\hline\n",
       "\t 0 & 31 & hombre & Jefe/a         & Superior Universitaria Incompleta & Unido/a  & 3 & 1 & 8400 & Casa         & Partidos del GBA & 1 &   1251051\\\\\n",
       "\t 0 & 33 & mujer  & Conyuge/Pareja & Superior Universitaria Completa   & Unido/a  & 3 & 1 & 8400 & Casa         & Partidos del GBA & 1 &   1251051\\\\\n",
       "\t 0 & 54 & mujer  & Conyuge/Pareja & Secundaria Incompleta             & Casado/a & 2 & 0 & 4000 & Departamento & Gran La Plata    & 1 &   1251191\\\\\n",
       "\t 0 & 48 & hombre & Jefe/a         & Primaria Completa                 & Casado/a & 3 & 0 & 3150 & Casa         & Partidos del GBA & 1 &   1251801\\\\\n",
       "\t 0 & 46 & mujer  & Conyuge/Pareja & Secundaria Incompleta             & Casado/a & 3 & 0 & 3150 & Casa         & Partidos del GBA & 1 &   1251801\\\\\n",
       "\t 0 & 63 & hombre & Jefe/a         & Superior Universitaria Incompleta & Casado/a & 2 & 0 & 3550 & Casa         & Partidos del GBA & 1 &   1253471\\\\\n",
       "\\end{tabular}\n"
      ],
      "text/markdown": [
       "\n",
       "A tibble: 6 × 13\n",
       "\n",
       "| desempleado &lt;dbl&gt; | edad &lt;dbl&gt; | mujer &lt;fct&gt; | parentesco &lt;fct&gt; | nivel_ed &lt;fct&gt; | estado_civil &lt;fct&gt; | total_miembros_hogar &lt;dbl&gt; | miembros_hogar_menores10 &lt;dbl&gt; | ing_tot_fam &lt;dbl&gt; | tipo_vivienda &lt;fct&gt; | ciudad &lt;fct&gt; | trimestre &lt;dbl&gt; | id_hogar &lt;chr&gt; |\n",
       "|---|---|---|---|---|---|---|---|---|---|---|---|---|\n",
       "| 0 | 31 | hombre | Jefe/a         | Superior Universitaria Incompleta | Unido/a  | 3 | 1 | 8400 | Casa         | Partidos del GBA | 1 |   1251051 |\n",
       "| 0 | 33 | mujer  | Conyuge/Pareja | Superior Universitaria Completa   | Unido/a  | 3 | 1 | 8400 | Casa         | Partidos del GBA | 1 |   1251051 |\n",
       "| 0 | 54 | mujer  | Conyuge/Pareja | Secundaria Incompleta             | Casado/a | 2 | 0 | 4000 | Departamento | Gran La Plata    | 1 |   1251191 |\n",
       "| 0 | 48 | hombre | Jefe/a         | Primaria Completa                 | Casado/a | 3 | 0 | 3150 | Casa         | Partidos del GBA | 1 |   1251801 |\n",
       "| 0 | 46 | mujer  | Conyuge/Pareja | Secundaria Incompleta             | Casado/a | 3 | 0 | 3150 | Casa         | Partidos del GBA | 1 |   1251801 |\n",
       "| 0 | 63 | hombre | Jefe/a         | Superior Universitaria Incompleta | Casado/a | 2 | 0 | 3550 | Casa         | Partidos del GBA | 1 |   1253471 |\n",
       "\n"
      ],
      "text/plain": [
       "  desempleado edad mujer  parentesco     nivel_ed                         \n",
       "1 0           31   hombre Jefe/a         Superior Universitaria Incompleta\n",
       "2 0           33   mujer  Conyuge/Pareja Superior Universitaria Completa  \n",
       "3 0           54   mujer  Conyuge/Pareja Secundaria Incompleta            \n",
       "4 0           48   hombre Jefe/a         Primaria Completa                \n",
       "5 0           46   mujer  Conyuge/Pareja Secundaria Incompleta            \n",
       "6 0           63   hombre Jefe/a         Superior Universitaria Incompleta\n",
       "  estado_civil total_miembros_hogar miembros_hogar_menores10 ing_tot_fam\n",
       "1 Unido/a      3                    1                        8400       \n",
       "2 Unido/a      3                    1                        8400       \n",
       "3 Casado/a     2                    0                        4000       \n",
       "4 Casado/a     3                    0                        3150       \n",
       "5 Casado/a     3                    0                        3150       \n",
       "6 Casado/a     2                    0                        3550       \n",
       "  tipo_vivienda ciudad           trimestre id_hogar \n",
       "1 Casa          Partidos del GBA 1           1251051\n",
       "2 Casa          Partidos del GBA 1           1251051\n",
       "3 Departamento  Gran La Plata    1           1251191\n",
       "4 Casa          Partidos del GBA 1           1251801\n",
       "5 Casa          Partidos del GBA 1           1251801\n",
       "6 Casa          Partidos del GBA 1           1253471"
      ]
     },
     "metadata": {},
     "output_type": "display_data"
    }
   ],
   "source": [
    "head(db)"
   ]
  },
  {
   "cell_type": "markdown",
   "id": "657b79e4-5bab-41dd-8853-58bd88ddf7d7",
   "metadata": {},
   "source": [
    "Para entender mejor la distribución del desempleo en nuestro conjunto de datos, calculamos la proporción de individuos desempleados y empleados. La siguiente tabla muestra el porcentaje de observaciones en cada categoría:"
   ]
  },
  {
   "cell_type": "markdown",
   "id": "15600c13-f4e8-4ebe-954c-86fd5a9d0b59",
   "metadata": {},
   "source": [
    "Para visualizar la distribución del desempleo en nuestra muestra, generamos un gráfico de barras que muestra la proporción de individuos empleados y desempleados. "
   ]
  },
  {
   "cell_type": "code",
   "execution_count": 5,
   "id": "9ae06291",
   "metadata": {
    "vscode": {
     "languageId": "r"
    }
   },
   "outputs": [
    {
     "data": {
      "image/png": "[encoded data removed]",
      "text/plain": [
       "plot without title"
      ]
     },
     "metadata": {
      "image/png": {
       "height": 420,
       "width": 420
      }
     },
     "output_type": "display_data"
    }
   ],
   "source": [
    "# Convertir la variable desempleado en un factor con etiquetas descriptivas (\"desempleado\" y \"empleado\" )\n",
    "data <- db %>% mutate(desempleado = factor(desempleado, levels = c(1,0), labels = c(\"desempleado\",\"empleado\")))\n",
    "\n",
    "# Crear un gráfico de barras con ggplot para visualizar la distribución del desempleo\n",
    "ggplot(data, aes(x = desempleado, fill = desempleado)) +\n",
    "  geom_bar() + \n",
    "  theme_minimal() +  # Aplicar un tema limpio y sencillo\n",
    "  scale_fill_manual(values = c(\"desempleado\" = \"orange\", \"empleado\"= \"blue\")) +  # Asignar colores personalizados\n",
    "  labs(x = \"\", y = \"# de Personas\")  \n",
    "\n"
   ]
  },
  {
   "cell_type": "markdown",
   "id": "5d7eeb64-e2c7-4539-8700-91a8828c05e2",
   "metadata": {},
   "source": [
    "Si tienes un conjunto de datos desbalanceado, lo primero que debes hacer es entrenar el modelo utilizando la distribución real de los datos. Si el modelo funciona bien y generaliza correctamente a nuevos casos, no es necesario hacer ajustes adicionales. Sin embargo, si el modelo no logra un buen desempeño, puedes considerar aplicar algunas estrategias para abordar el desbalance. A continuación, exploraremos algunas soluciones para mejorar la capacidad predictiva del modelo en presencia de clases desbalanceadas."
   ]
  },
  {
   "cell_type": "markdown",
   "id": "4d8ca87f-3f45-4716-8e86-a1e59fa49835",
   "metadata": {},
   "source": [
    "## Prediciendo el Desempleo en Gran La Plata\n",
    "\n",
    "Ahora entrenaremos un modelo para predecir el desempleo en Gran La Plata. Para ello, utilizaremos los datos de \"Partidos del GBA\" y \"Ciudad de Buenos Aires\" como conjunto de entrenamiento y evaluaremos su desempeño en Gran La Plata, que será nuestra muestra fuera de muestra.\n",
    "\n",
    "Este enfoque tiene sentido porque Gran La Plata comparte características socioeconómicas y demográficas con estas regiones, lo que sugiere que un modelo entrenado en \"Partidos del GBA\" y \"Ciudad de Buenos Aires\" podría generalizar razonablemente bien. Para respaldar esta decisión, exploraremos las estadísticas descriptivas de los predictores clave en las tres regiones.\n",
    "\n"
   ]
  },
  {
   "cell_type": "markdown",
   "id": "6d59bfea-4684-4799-85ad-8959b8e7748d",
   "metadata": {},
   "source": [
    "<div >\n",
    "<img src = \"../Lecture08/figs/Aglomerado_Gran_Buenos_Aires.png\" />\n",
    "</div>"
   ]
  },
  {
   "cell_type": "code",
   "execution_count": 6,
   "id": "c306396c-7640-49b7-a288-2a61b95ec15f",
   "metadata": {
    "vscode": {
     "languageId": "r"
    }
   },
   "outputs": [],
   "source": [
    "db <- db %>% mutate(desempleado = factor(desempleado, levels = c(1,0), labels = c(\"desempleado\",\"empleado\")))\n",
    "\n",
    "db  <- db  %>% select(\"desempleado\",\"ciudad\", \"edad\", \"mujer\", \"nivel_ed\", \n",
    "                        \"parentesco\", \"estado_civil\", \"tipo_vivienda\", \n",
    "                        \"ing_tot_fam\", \"total_miembros_hogar\", \"miembros_hogar_menores10\")\n"
   ]
  },
  {
   "cell_type": "markdown",
   "id": "da5347da-8564-45c7-a301-02a6fb2681e1",
   "metadata": {},
   "source": [
    "## **Predicción Fuera de Muestra (Out-of-Sample Prediction)**  \n",
    "\n",
    "Para evaluar la capacidad del modelo de generalizar a datos no observados, entrenaremos la función $ f(\\cdot) $ utilizando los datos de **Partidos del GBA** y **Ciudad de Buenos Aires**. Luego, aplicaremos esta función aprendida en los datos de **Gran La Plata** y evaluaremos su desempeño.\n",
    "\n",
    "\n",
    "### **Entrenamiento del Modelo**\n",
    "Entrenamos el modelo en los datos de **Partidos del GBA** y **Ciudad de Buenos Aires**, estimando:\n",
    "\n",
    "\\begin{align}\n",
    "\\textcolor{blue}{\\hat{f}_{\\text{train}}} = \\arg\\min_f \\sum_{i \\in \\textcolor{blue}{\\text{train}}} L\\big( \\textcolor{red}{Desempleado_i}, f(\\textcolor{red}{X_i}) \\big)\n",
    "\\end{align}\n",
    "\n",
    "donde:\n",
    "- $ \\textcolor{red}{Desempleado_i} $ es la variable dependiente (1 si el individuo está desempleado, 0 si está empleado).\n",
    "- $ \\textcolor{red}{X_i} $ representa las variables explicativas (edad, género, educación, etc.).\n",
    "- $ L(\\cdot) $ es una función de pérdida que mide el error del modelo en los datos de entrenamiento.\n",
    "- $ \\textcolor{blue}{\\hat{f}_{\\text{train}}} $ es la función estimada en el conjunto de entrenamiento.\n",
    "\n",
    "### **Predicción/Clasificación  en el Test Set**\n",
    "Luego, usamos la función estimada $ \\textcolor{blue}{\\hat{f}_{\\text{train}}} $ para calcular la **probabilidad de desempleo** en Gran La Plata:\n",
    "\n",
    "$$\n",
    "\\hat{p}_i = \\textcolor{blue}{\\hat{f}_{\\text{train}}} (\\textcolor{green}{X_i}), \\quad \\forall i \\in \\textcolor{green}{\\text{test}}\n",
    "$$\n",
    "\n",
    "donde $ \\hat{p}_i $ **no es una clasificación aún**, sino una probabilidad entre 0 y 1. Para convertirla en una predicción de desempleo o empleo, usamos un umbral:\n",
    "\n",
    "$$\n",
    "\\hat{y}_i =\n",
    "\\begin{cases} \n",
    "1, & \\text{si } \\hat{p}_i \\geq 0.5 \\\\ \n",
    "0, & \\text{si } \\hat{p}_i < 0.5 \n",
    "\\end{cases}\n",
    "$$\n",
    "\n",
    "Así, si la probabilidad estimada de desempleo $ \\hat{p}_i $ es mayor o igual a 0.5, clasificamos al individuo como **desempleado** ($ \\hat{y}_i = 1 $), y si es menor a 0.5, lo clasificamos como **empleado** ($ \\hat{y}_i = 0 $).\n"
   ]
  },
  {
   "cell_type": "markdown",
   "id": "bb137b07-5e23-46c0-a9f7-7317b106d071",
   "metadata": {},
   "source": [
    "## A los datos"
   ]
  },
  {
   "cell_type": "code",
   "execution_count": 7,
   "id": "7527f69e-0a09-4065-bfb6-25752a991492",
   "metadata": {
    "vscode": {
     "languageId": "r"
    }
   },
   "outputs": [],
   "source": [
    "# Definir conjunto de entrenamiento (Partidos del GBA y Ciudad de Buenos Aires)\n",
    "train <- db %>% filter(ciudad %in% c(\"Partidos del GBA\", \"Ciudad de Buenos Aires\"))  %>% select(-ciudad)\n",
    "\n",
    "# Definir conjunto de test/prueba/validación (Gran La Plata)\n",
    "test  <- db %>% filter(ciudad == \"Gran La Plata\") %>% select(-ciudad)"
   ]
  },
  {
   "cell_type": "markdown",
   "id": "5cb112c7-5e97-446d-bbfe-3b63955d76cf",
   "metadata": {},
   "source": [
    "- **`train`** se usa para estimar $\\textcolor{blue}{\\hat{f}_{\\text{train}}}$ utilizando los datos de *Partidos del GBA* y *Ciudad de Buenos Aires*.\n",
    "- **`test`** se usa para evaluar la función estimada en *Gran La Plata* y medir su desempeño."
   ]
  },
  {
   "cell_type": "code",
   "execution_count": 8,
   "id": "451cc45c",
   "metadata": {
    "vscode": {
     "languageId": "r"
    }
   },
   "outputs": [
    {
     "data": {
      "text/html": [
       "<table class=\"dataframe\">\n",
       "<caption>A tibble: 6 × 10</caption>\n",
       "<thead>\n",
       "\t<tr><th scope=col>desempleado</th><th scope=col>edad</th><th scope=col>mujer</th><th scope=col>nivel_ed</th><th scope=col>parentesco</th><th scope=col>estado_civil</th><th scope=col>tipo_vivienda</th><th scope=col>ing_tot_fam</th><th scope=col>total_miembros_hogar</th><th scope=col>miembros_hogar_menores10</th></tr>\n",
       "\t<tr><th scope=col>&lt;fct&gt;</th><th scope=col>&lt;dbl&gt;</th><th scope=col>&lt;fct&gt;</th><th scope=col>&lt;fct&gt;</th><th scope=col>&lt;fct&gt;</th><th scope=col>&lt;fct&gt;</th><th scope=col>&lt;fct&gt;</th><th scope=col>&lt;dbl&gt;</th><th scope=col>&lt;dbl&gt;</th><th scope=col>&lt;dbl&gt;</th></tr>\n",
       "</thead>\n",
       "<tbody>\n",
       "\t<tr><td>empleado</td><td>31</td><td>hombre</td><td>Superior Universitaria Incompleta</td><td>Jefe/a        </td><td>Unido/a </td><td>Casa</td><td>8400</td><td>3</td><td>1</td></tr>\n",
       "\t<tr><td>empleado</td><td>33</td><td>mujer </td><td>Superior Universitaria Completa  </td><td>Conyuge/Pareja</td><td>Unido/a </td><td>Casa</td><td>8400</td><td>3</td><td>1</td></tr>\n",
       "\t<tr><td>empleado</td><td>48</td><td>hombre</td><td>Primaria Completa                </td><td>Jefe/a        </td><td>Casado/a</td><td>Casa</td><td>3150</td><td>3</td><td>0</td></tr>\n",
       "\t<tr><td>empleado</td><td>46</td><td>mujer </td><td>Secundaria Incompleta            </td><td>Conyuge/Pareja</td><td>Casado/a</td><td>Casa</td><td>3150</td><td>3</td><td>0</td></tr>\n",
       "\t<tr><td>empleado</td><td>63</td><td>hombre</td><td>Superior Universitaria Incompleta</td><td>Jefe/a        </td><td>Casado/a</td><td>Casa</td><td>3550</td><td>2</td><td>0</td></tr>\n",
       "\t<tr><td>empleado</td><td>50</td><td>hombre</td><td>Superior Universitaria Completa  </td><td>Jefe/a        </td><td>Casado/a</td><td>Casa</td><td>3500</td><td>3</td><td>0</td></tr>\n",
       "</tbody>\n",
       "</table>\n"
      ],
      "text/latex": [
       "A tibble: 6 × 10\n",
       "\\begin{tabular}{llllllllll}\n",
       " desempleado & edad & mujer & nivel\\_ed & parentesco & estado\\_civil & tipo\\_vivienda & ing\\_tot\\_fam & total\\_miembros\\_hogar & miembros\\_hogar\\_menores10\\\\\n",
       " <fct> & <dbl> & <fct> & <fct> & <fct> & <fct> & <fct> & <dbl> & <dbl> & <dbl>\\\\\n",
       "\\hline\n",
       "\t empleado & 31 & hombre & Superior Universitaria Incompleta & Jefe/a         & Unido/a  & Casa & 8400 & 3 & 1\\\\\n",
       "\t empleado & 33 & mujer  & Superior Universitaria Completa   & Conyuge/Pareja & Unido/a  & Casa & 8400 & 3 & 1\\\\\n",
       "\t empleado & 48 & hombre & Primaria Completa                 & Jefe/a         & Casado/a & Casa & 3150 & 3 & 0\\\\\n",
       "\t empleado & 46 & mujer  & Secundaria Incompleta             & Conyuge/Pareja & Casado/a & Casa & 3150 & 3 & 0\\\\\n",
       "\t empleado & 63 & hombre & Superior Universitaria Incompleta & Jefe/a         & Casado/a & Casa & 3550 & 2 & 0\\\\\n",
       "\t empleado & 50 & hombre & Superior Universitaria Completa   & Jefe/a         & Casado/a & Casa & 3500 & 3 & 0\\\\\n",
       "\\end{tabular}\n"
      ],
      "text/markdown": [
       "\n",
       "A tibble: 6 × 10\n",
       "\n",
       "| desempleado &lt;fct&gt; | edad &lt;dbl&gt; | mujer &lt;fct&gt; | nivel_ed &lt;fct&gt; | parentesco &lt;fct&gt; | estado_civil &lt;fct&gt; | tipo_vivienda &lt;fct&gt; | ing_tot_fam &lt;dbl&gt; | total_miembros_hogar &lt;dbl&gt; | miembros_hogar_menores10 &lt;dbl&gt; |\n",
       "|---|---|---|---|---|---|---|---|---|---|\n",
       "| empleado | 31 | hombre | Superior Universitaria Incompleta | Jefe/a         | Unido/a  | Casa | 8400 | 3 | 1 |\n",
       "| empleado | 33 | mujer  | Superior Universitaria Completa   | Conyuge/Pareja | Unido/a  | Casa | 8400 | 3 | 1 |\n",
       "| empleado | 48 | hombre | Primaria Completa                 | Jefe/a         | Casado/a | Casa | 3150 | 3 | 0 |\n",
       "| empleado | 46 | mujer  | Secundaria Incompleta             | Conyuge/Pareja | Casado/a | Casa | 3150 | 3 | 0 |\n",
       "| empleado | 63 | hombre | Superior Universitaria Incompleta | Jefe/a         | Casado/a | Casa | 3550 | 2 | 0 |\n",
       "| empleado | 50 | hombre | Superior Universitaria Completa   | Jefe/a         | Casado/a | Casa | 3500 | 3 | 0 |\n",
       "\n"
      ],
      "text/plain": [
       "  desempleado edad mujer  nivel_ed                          parentesco    \n",
       "1 empleado    31   hombre Superior Universitaria Incompleta Jefe/a        \n",
       "2 empleado    33   mujer  Superior Universitaria Completa   Conyuge/Pareja\n",
       "3 empleado    48   hombre Primaria Completa                 Jefe/a        \n",
       "4 empleado    46   mujer  Secundaria Incompleta             Conyuge/Pareja\n",
       "5 empleado    63   hombre Superior Universitaria Incompleta Jefe/a        \n",
       "6 empleado    50   hombre Superior Universitaria Completa   Jefe/a        \n",
       "  estado_civil tipo_vivienda ing_tot_fam total_miembros_hogar\n",
       "1 Unido/a      Casa          8400        3                   \n",
       "2 Unido/a      Casa          8400        3                   \n",
       "3 Casado/a     Casa          3150        3                   \n",
       "4 Casado/a     Casa          3150        3                   \n",
       "5 Casado/a     Casa          3550        2                   \n",
       "6 Casado/a     Casa          3500        3                   \n",
       "  miembros_hogar_menores10\n",
       "1 1                       \n",
       "2 1                       \n",
       "3 0                       \n",
       "4 0                       \n",
       "5 0                       \n",
       "6 0                       "
      ]
     },
     "metadata": {},
     "output_type": "display_data"
    }
   ],
   "source": [
    "head(train)"
   ]
  },
  {
   "cell_type": "code",
   "execution_count": 9,
   "id": "fde01f5a",
   "metadata": {
    "vscode": {
     "languageId": "r"
    }
   },
   "outputs": [
    {
     "data": {
      "text/plain": [
       "\n",
       "desempleado    empleado \n",
       " 0.08461921  0.91538079 "
      ]
     },
     "metadata": {},
     "output_type": "display_data"
    }
   ],
   "source": [
    "prop.table(table(train$desempleado))"
   ]
  },
  {
   "cell_type": "code",
   "execution_count": 10,
   "id": "8dfb633a",
   "metadata": {
    "vscode": {
     "languageId": "r"
    }
   },
   "outputs": [
    {
     "data": {
      "text/plain": [
       "\n",
       "desempleado    empleado \n",
       " 0.06979114  0.93020886 "
      ]
     },
     "metadata": {},
     "output_type": "display_data"
    }
   ],
   "source": [
    "prop.table(table(test$desempleado))"
   ]
  },
  {
   "cell_type": "markdown",
   "id": "d0e60faf",
   "metadata": {},
   "source": [
    "### Entrenamiento del Modelo con Random Forests \n",
    "\n",
    "\n",
    "Comenzamos con un modelo simple"
   ]
  },
  {
   "cell_type": "code",
   "execution_count": 11,
   "id": "2b6bdaef",
   "metadata": {
    "vscode": {
     "languageId": "r"
    }
   },
   "outputs": [],
   "source": [
    "ctrl<- trainControl(method = \"cv\",\n",
    "                    number = 5,\n",
    "                    classProbs = TRUE,\n",
    "                    verbose=FALSE,\n",
    "                    savePredictions = T)\n",
    "\n"
   ]
  },
  {
   "cell_type": "code",
   "execution_count": 12,
   "id": "2ba8cac3-f549-4a8e-a113-1c5831e0dc27",
   "metadata": {
    "vscode": {
     "languageId": "r"
    }
   },
   "outputs": [
    {
     "data": {
      "text/plain": [
       "\n",
       "desempleado    empleado \n",
       " 0.08461921  0.91538079 "
      ]
     },
     "metadata": {},
     "output_type": "display_data"
    }
   ],
   "source": [
    "# Clave que desempleado sea el primer nivel\n",
    "prop.table(table(train$desempleado))"
   ]
  },
  {
   "cell_type": "code",
   "execution_count": 13,
   "id": "7ac9f557",
   "metadata": {
    "scrolled": true,
    "vscode": {
     "languageId": "r"
    }
   },
   "outputs": [],
   "source": [
    "p_load(\"ranger\")\n",
    "\n",
    "set.seed(123)  # Fijamos semilla para reproducibilidad\n",
    "\n",
    "tree_ranger_grid <- train(desempleado~edad+mujer+nivel_ed+ parentesco +\n",
    "                        estado_civil+tipo_vivienda+ing_tot_fam+total_miembros_hogar+miembros_hogar_menores10,  # Fórmula del modelo\n",
    "    data = train,  # Dataset de entrenamiento\n",
    "    method = \"ranger\",  # Usamos el motor ranger para Random Forests\n",
    "    trControl = ctrl,  # Especificamos los controles de entrenamiento\n",
    "    tuneGrid = expand.grid(   # Definimos la grilla de hiperparámetros a explorar\n",
    "        mtry = c(3,5,9),  # Número de predictores seleccionados al azar en cada división\n",
    "        splitrule = \"gini\",  # Regla de partición basada en la reducción de varianza (gini)\n",
    "        min.node.size = c(30, 50)  # Tamaño mínimo de nodos terminales\n",
    "    ),\n",
    "    num.trees = 500\n",
    ")\n",
    "\n"
   ]
  },
  {
   "cell_type": "markdown",
   "id": "76875c51-a3dc-40a8-9429-e9eb72601165",
   "metadata": {},
   "source": [
    "#### Predicción/Clasificación  en el Test Set del modelo anterior\n",
    "\n",
    "$$\n",
    "\\hat{p}_i = \\textcolor{blue}{\\hat{f}_{\\text{train}}} (\\textcolor{green}{X_i}), \\quad \\forall \\textcolor{green}{i \\in \\text{test}}\n",
    "$$\n",
    "\n",
    "\n",
    "donde $ \\hat{p}_i $ **no es una clasificación aún**, sino una probabilidad entre 0 y 1. Para convertirla en una predicción de desempleo o empleo, usamos un umbral:\n",
    "\n",
    "$$\n",
    "\\textcolor{green}{\\hat{y}_i} =\n",
    "\\begin{cases} \n",
    "1, & \\text{si } \\hat{p}_i \\geq 0.5 \\\\ \n",
    "0, & \\text{si } \\hat{p}_i < 0.5 \n",
    "\\end{cases}\n",
    "$$\n",
    "\n",
    "Así, si la probabilidad estimada de desempleo $ \\hat{p}_i $ es mayor o igual a 0.5, clasificamos al individuo como **desempleado** ($ \\textcolor{green}{\\hat{y}_i} = 1 $), y si es menor a 0.5, lo clasificamos como **empleado** ($ \\textcolor{green}{\\hat{y}_i} = 0 $) (Regla de Bayes)."
   ]
  },
  {
   "cell_type": "code",
   "execution_count": 14,
   "id": "8d6e31c8",
   "metadata": {
    "vscode": {
     "languageId": "r"
    }
   },
   "outputs": [],
   "source": [
    "predict_ranger_base <- data.frame(\n",
    "  obs = test$desempleado,                                    ## observed class labels\n",
    "  predict(tree_ranger_grid, newdata = test, type = \"prob\"),         ## predicted class probabilities\n",
    "  pred = predict(tree_ranger_grid, newdata = test, type = \"raw\")    ## predicted class labels\n",
    ")\n"
   ]
  },
  {
   "cell_type": "code",
   "execution_count": 15,
   "id": "15166903",
   "metadata": {
    "vscode": {
     "languageId": "r"
    }
   },
   "outputs": [
    {
     "data": {
      "text/html": [
       "<table class=\"dataframe\">\n",
       "<caption>A data.frame: 6 × 4</caption>\n",
       "<thead>\n",
       "\t<tr><th></th><th scope=col>obs</th><th scope=col>desempleado</th><th scope=col>empleado</th><th scope=col>pred</th></tr>\n",
       "\t<tr><th></th><th scope=col>&lt;fct&gt;</th><th scope=col>&lt;dbl&gt;</th><th scope=col>&lt;dbl&gt;</th><th scope=col>&lt;fct&gt;</th></tr>\n",
       "</thead>\n",
       "<tbody>\n",
       "\t<tr><th scope=row>1</th><td>empleado</td><td>0.06986728</td><td>0.9301327</td><td>empleado</td></tr>\n",
       "\t<tr><th scope=row>2</th><td>empleado</td><td>0.03208146</td><td>0.9679185</td><td>empleado</td></tr>\n",
       "\t<tr><th scope=row>3</th><td>empleado</td><td>0.21254472</td><td>0.7874553</td><td>empleado</td></tr>\n",
       "\t<tr><th scope=row>4</th><td>empleado</td><td>0.06384503</td><td>0.9361550</td><td>empleado</td></tr>\n",
       "\t<tr><th scope=row>5</th><td>empleado</td><td>0.10726344</td><td>0.8927366</td><td>empleado</td></tr>\n",
       "\t<tr><th scope=row>6</th><td>empleado</td><td>0.20062419</td><td>0.7993758</td><td>empleado</td></tr>\n",
       "</tbody>\n",
       "</table>\n"
      ],
      "text/latex": [
       "A data.frame: 6 × 4\n",
       "\\begin{tabular}{r|llll}\n",
       "  & obs & desempleado & empleado & pred\\\\\n",
       "  & <fct> & <dbl> & <dbl> & <fct>\\\\\n",
       "\\hline\n",
       "\t1 & empleado & 0.06986728 & 0.9301327 & empleado\\\\\n",
       "\t2 & empleado & 0.03208146 & 0.9679185 & empleado\\\\\n",
       "\t3 & empleado & 0.21254472 & 0.7874553 & empleado\\\\\n",
       "\t4 & empleado & 0.06384503 & 0.9361550 & empleado\\\\\n",
       "\t5 & empleado & 0.10726344 & 0.8927366 & empleado\\\\\n",
       "\t6 & empleado & 0.20062419 & 0.7993758 & empleado\\\\\n",
       "\\end{tabular}\n"
      ],
      "text/markdown": [
       "\n",
       "A data.frame: 6 × 4\n",
       "\n",
       "| <!--/--> | obs &lt;fct&gt; | desempleado &lt;dbl&gt; | empleado &lt;dbl&gt; | pred &lt;fct&gt; |\n",
       "|---|---|---|---|---|\n",
       "| 1 | empleado | 0.06986728 | 0.9301327 | empleado |\n",
       "| 2 | empleado | 0.03208146 | 0.9679185 | empleado |\n",
       "| 3 | empleado | 0.21254472 | 0.7874553 | empleado |\n",
       "| 4 | empleado | 0.06384503 | 0.9361550 | empleado |\n",
       "| 5 | empleado | 0.10726344 | 0.8927366 | empleado |\n",
       "| 6 | empleado | 0.20062419 | 0.7993758 | empleado |\n",
       "\n"
      ],
      "text/plain": [
       "  obs      desempleado empleado  pred    \n",
       "1 empleado 0.06986728  0.9301327 empleado\n",
       "2 empleado 0.03208146  0.9679185 empleado\n",
       "3 empleado 0.21254472  0.7874553 empleado\n",
       "4 empleado 0.06384503  0.9361550 empleado\n",
       "5 empleado 0.10726344  0.8927366 empleado\n",
       "6 empleado 0.20062419  0.7993758 empleado"
      ]
     },
     "metadata": {},
     "output_type": "display_data"
    }
   ],
   "source": [
    "head(predict_ranger_base)"
   ]
  },
  {
   "cell_type": "markdown",
   "id": "d50be679-24f3-4846-96d8-0edb9a22e4a7",
   "metadata": {},
   "source": [
    "## **Evaluación: Comparación de Predicciones y Valores Reales**  \n",
    "\n",
    "Para validar el desempeño del modelo, compararemos las predicciones $\\textcolor{green}{\\hat{y}_i}$ con los valores reales $\\textcolor{red}{y_i}  $ en el conjunto de prueba.  \n",
    "\n",
    "Donde:\n",
    "\n",
    "- $ \\textcolor{green}{\\hat{y}_i} $ es la clasificación predicha por el modelo.\n",
    "- $ \\textcolor{red}{y_i} $ es el estado real de empleo/desempleo en Gran La Plata.\n",
    "\n",
    "\n",
    "Para ver el desempeño analizaremos las métricas de desempeño"
   ]
  },
  {
   "cell_type": "code",
   "execution_count": 16,
   "id": "26cc6bd6",
   "metadata": {
    "vscode": {
     "languageId": "r"
    }
   },
   "outputs": [],
   "source": [
    "# Evaluando en el Test Set\n",
    "test<- test  %>% mutate(desempleo_hat_ranger_orig=predict(tree_ranger_grid,newdata = test,\n",
    "                           type = \"raw\"))\n"
   ]
  },
  {
   "cell_type": "code",
   "execution_count": 17,
   "id": "4f3b7a50",
   "metadata": {
    "vscode": {
     "languageId": "r"
    }
   },
   "outputs": [
    {
     "data": {
      "text/plain": [
       "Confusion Matrix and Statistics\n",
       "\n",
       "             Reference\n",
       "Prediction    desempleado empleado\n",
       "  desempleado           4        1\n",
       "  empleado            133     1825\n",
       "                                          \n",
       "               Accuracy : 0.9317          \n",
       "                 95% CI : (0.9197, 0.9425)\n",
       "    No Information Rate : 0.9302          \n",
       "    P-Value [Acc > NIR] : 0.4171          \n",
       "                                          \n",
       "                  Kappa : 0.0517          \n",
       "                                          \n",
       " Mcnemar's Test P-Value : <2e-16          \n",
       "                                          \n",
       "              Precision : 0.800000        \n",
       "                 Recall : 0.029197        \n",
       "                     F1 : 0.056338        \n",
       "             Prevalence : 0.069791        \n",
       "         Detection Rate : 0.002038        \n",
       "   Detection Prevalence : 0.002547        \n",
       "      Balanced Accuracy : 0.514325        \n",
       "                                          \n",
       "       'Positive' Class : desempleado     \n",
       "                                          "
      ]
     },
     "metadata": {},
     "output_type": "display_data"
    }
   ],
   "source": [
    "# Matriz de Confusión\n",
    "cm_ranger_base <-confusionMatrix(data = test$desempleo_hat_ranger_orig, \n",
    "                reference = test$desempleado, \n",
    "                positive=\"desempleado\", \n",
    "                mode = \"prec_recall\")\n",
    "\n",
    "cm_ranger_base"
   ]
  },
  {
   "cell_type": "code",
   "execution_count": 18,
   "id": "1cfa446b-b384-4555-a0cb-c9532649f3e9",
   "metadata": {
    "vscode": {
     "languageId": "r"
    }
   },
   "outputs": [
    {
     "data": {
      "text/html": [
       "<table class=\"dataframe\">\n",
       "<caption>A data.frame: 1 × 5</caption>\n",
       "<thead>\n",
       "\t<tr><th scope=col>Model</th><th scope=col>Accuracy</th><th scope=col>Precision</th><th scope=col>Recall</th><th scope=col>F1_Score</th></tr>\n",
       "\t<tr><th scope=col>&lt;chr&gt;</th><th scope=col>&lt;dbl&gt;</th><th scope=col>&lt;dbl&gt;</th><th scope=col>&lt;dbl&gt;</th><th scope=col>&lt;dbl&gt;</th></tr>\n",
       "</thead>\n",
       "<tbody>\n",
       "\t<tr><td>Ranger_Basico</td><td>0.9317371</td><td>0.8</td><td>0.02919708</td><td>0.05633803</td></tr>\n",
       "</tbody>\n",
       "</table>\n"
      ],
      "text/latex": [
       "A data.frame: 1 × 5\n",
       "\\begin{tabular}{lllll}\n",
       " Model & Accuracy & Precision & Recall & F1\\_Score\\\\\n",
       " <chr> & <dbl> & <dbl> & <dbl> & <dbl>\\\\\n",
       "\\hline\n",
       "\t Ranger\\_Basico & 0.9317371 & 0.8 & 0.02919708 & 0.05633803\\\\\n",
       "\\end{tabular}\n"
      ],
      "text/markdown": [
       "\n",
       "A data.frame: 1 × 5\n",
       "\n",
       "| Model &lt;chr&gt; | Accuracy &lt;dbl&gt; | Precision &lt;dbl&gt; | Recall &lt;dbl&gt; | F1_Score &lt;dbl&gt; |\n",
       "|---|---|---|---|---|\n",
       "| Ranger_Basico | 0.9317371 | 0.8 | 0.02919708 | 0.05633803 |\n",
       "\n"
      ],
      "text/plain": [
       "  Model         Accuracy  Precision Recall     F1_Score  \n",
       "1 Ranger_Basico 0.9317371 0.8       0.02919708 0.05633803"
      ]
     },
     "metadata": {},
     "output_type": "display_data"
    }
   ],
   "source": [
    "# guardo en un data frame\n",
    "df_ranger_base <- data.frame(\n",
    "  Model = \"Ranger_Basico\",\n",
    "  Accuracy = cm_ranger_base$overall[\"Accuracy\"],\n",
    "  Precision = cm_ranger_base$byClass[\"Precision\"],\n",
    "  Recall = cm_ranger_base$byClass[\"Recall\"],\n",
    "  F1_Score = cm_ranger_base$byClass[\"F1\"]\n",
    ")\n",
    "\n",
    "# Elimino los nombres de las filas que no contienen información.\n",
    "rownames(df_ranger_base)<-NULL\n",
    "\n",
    "df_ranger_base\n"
   ]
  },
  {
   "cell_type": "markdown",
   "id": "b46618a4-5640-428b-966b-f7bb5f88fca3",
   "metadata": {},
   "source": [
    "## Curva ROC: Trade-Off entre puntos de corte de clasificación\n",
    "\n",
    "\\begin{align}\n",
    "\\hat{y}_i=1[p_i\\geq c] \\nonumber\n",
    "\\end{align}"
   ]
  },
  {
   "cell_type": "code",
   "execution_count": 19,
   "id": "5a5a9b40-11ad-46a9-8462-4ba07c406713",
   "metadata": {
    "vscode": {
     "languageId": "r"
    }
   },
   "outputs": [
    {
     "name": "stderr",
     "output_type": "stream",
     "text": [
      "***MLeval: Machine Learning Model Evaluation***\n",
      "\n",
      "Input: caret train function object\n",
      "\n",
      "Not averaging probs.\n",
      "\n",
      "Group 1 type: cv\n",
      "\n",
      "Observations: 12054\n",
      "\n",
      "Number of groups: 1\n",
      "\n",
      "Observations per group: 12054\n",
      "\n",
      "Positive: desempleado\n",
      "\n",
      "Negative: empleado\n",
      "\n",
      "Group: Ranger\n",
      "\n",
      "Positive: 1020\n",
      "\n",
      "Negative: 11034\n",
      "\n",
      "***Performance Metrics***\n",
      "\n",
      "Ranger Optimal Informedness = 0.42186610370086\n",
      "\n",
      "Ranger AUC-ROC = 0.78\n",
      "\n"
     ]
    },
    {
     "data": {
      "image/png": "[encoded data removed]",
      "text/plain": [
       "plot without title"
      ]
     },
     "metadata": {
      "image/png": {
       "height": 420,
       "width": 420
      }
     },
     "output_type": "display_data"
    }
   ],
   "source": [
    "#Curva ROC\n",
    "\n",
    "res_insample_all <- evalm(list(tree_ranger_grid),gnames=c('Ranger'),plots='r',\n",
    "                         positive=\"desempleado\")\n"
   ]
  },
  {
   "cell_type": "markdown",
   "id": "76de2d63-a25b-414e-b39d-be0a13dbc47f",
   "metadata": {},
   "source": [
    "# Desbalance de Clases"
   ]
  },
  {
   "cell_type": "markdown",
   "id": "30a876d3-ed90-4545-9ef6-ddd72373c894",
   "metadata": {},
   "source": [
    "Hasta ahora, hemos entrenado un modelo logit utilizando los datos de **Partidos del GBA** y **Ciudad de Buenos Aires**, y lo hemos aplicado a **Gran La Plata** para evaluar su capacidad predictiva. Sin embargo, antes de interpretar los resultados, es fundamental examinar un problema que hemos identificado previamente: el **desbalance de clases** en la variable de desempleo.  \n",
    "\n",
    "El desbalance de clases ocurre cuando una de las categorías de la variable objetivo  es mucho más frecuente que la otra. En nuestro caso, es probable que la cantidad de personas empleadas sea significativamente mayor que la cantidad de personas desempleadas:\n",
    "\n",
    "$$\n",
    "P(Desempleado_i = 1) \\ll P(Desempleado_i = 0)\n",
    "$$\n",
    "\n",
    "donde:\n",
    "- $ P(Desempleado_i = 1) $ es la proporción de individuos desempleados.\n",
    "- $ P(Desempleado_i = 0) $ es la proporción de individuos empleados.\n",
    "\n",
    "\n",
    "\n",
    "**¿Por qué es un problema?**  \n",
    "Cuando un modelo de clasificación enfrenta un conjunto de datos desbalanceado, puede **aprender a favorecer la clase mayoritaria** (empleados) y predecir muy pocos casos de la clase minoritaria (desempleados). Esto puede llevar a una alta **precisión global engañosa**, donde el modelo parece acertar la mayoría de los casos simplemente porque predice \"empleado\" casi siempre.  \n",
    "\n",
    "Antes de aplicar estrategias correctivas, vamos a analizar **cuán desbalanceados están nuestros datos**. Para ello, observaremos la proporción de empleados y desempleados en el conjunto de entrenamiento y de prueba.\n",
    "\n"
   ]
  },
  {
   "cell_type": "code",
   "execution_count": 20,
   "id": "fcf9f694-f666-45a8-9491-2641a6b61f99",
   "metadata": {
    "vscode": {
     "languageId": "r"
    }
   },
   "outputs": [
    {
     "data": {
      "image/png": "[encoded data removed]",
      "text/plain": [
       "plot without title"
      ]
     },
     "metadata": {
      "image/png": {
       "height": 420,
       "width": 420
      }
     },
     "output_type": "display_data"
    }
   ],
   "source": [
    "# Train Set\n",
    "ggplot(train,aes(x = desempleado, y = after_stat(count / sum(count)), fill = desempleado)) +\n",
    "  geom_bar() +\n",
    "  theme_minimal() +\n",
    "  scale_y_continuous(labels = scales::percent_format(), breaks = seq(0, 1, by = 0.05)) +  \n",
    "  scale_fill_manual(values = c(\"desempleado\" = \"orange\", \"empleado\"= \"blue\")) + \n",
    "   labs(x = \"\", y = \"%\")  "
   ]
  },
  {
   "cell_type": "code",
   "execution_count": 21,
   "id": "1e386e98-c8ca-44f3-92d0-94c685e87b2c",
   "metadata": {
    "vscode": {
     "languageId": "r"
    }
   },
   "outputs": [
    {
     "data": {
      "image/png": "[encoded data removed]",
      "text/plain": [
       "plot without title"
      ]
     },
     "metadata": {
      "image/png": {
       "height": 420,
       "width": 420
      }
     },
     "output_type": "display_data"
    }
   ],
   "source": [
    "# Test Set\n",
    "ggplot(test,aes(x = desempleado, y = after_stat(count / sum(count)), fill = desempleado)) +\n",
    "  geom_bar() +\n",
    "  theme_minimal() +\n",
    "  scale_y_continuous(labels = scales::percent_format(), breaks = seq(0, 1, by = 0.05)) +  \n",
    "  scale_fill_manual(values = c(\"desempleado\" = \"orange\", \"empleado\"= \"blue\")) + \n",
    "   labs(x = \"\", y = \"%\")  "
   ]
  },
  {
   "cell_type": "markdown",
   "id": "d6e76271-c2e2-4746-83fd-aca2e156c88d",
   "metadata": {},
   "source": [
    "## Grado de Desbalance\n",
    "\n",
    "\n",
    "| Grado de Desbalance | Proporción de la Clase Minoritaria  |\n",
    "|--------------------|----------------------------------|\n",
    "| Leve             | 20-40% de los datos     |\n",
    "| Moderado         | 1-20% de los datos     |\n",
    "| Extremo          | <1% de los datos     |\n",
    "\n",
    "\n"
   ]
  },
  {
   "cell_type": "markdown",
   "id": "13aaf386-34b0-4d20-9806-263cb7a938fa",
   "metadata": {},
   "source": [
    "## Estrategias para Manejar el Desbalance de Clases  \n",
    "\n",
    "El desbalance de clases puede afectar la capacidad del modelo para identificar correctamente la clase minoritaria (desempleados). Para mitigar este problema, consideraremos cinco estrategias principales:  \n",
    "\n",
    "### Ajuste del Modelo (*Model Tuning*)  \n",
    "Optimizar el modelo o  los hiperparámetros del modelo para mejorar su capacidad de detectar la clase minoritaria. En el caso de regresión logística, esto puede incluir:  \n",
    "- Ajustar las variables explicativas.\n",
    "- **Cambiar la métrica objetivo**, por ejemplo, podemos priorizar el *Recall* o *sensibilidad* en lugar de precisión global, de manera que el modelo maximice la tasa de verdaderos positivos (personas desempleadas bien clasificadas).  \n",
    "\n",
    "### Modificación del Umbral de Clasificación (*Alternative Cutoffs*)  \n",
    "El umbral estándar de **0.5** puede ser inadecuado para datos desbalanceados. Podemos:  \n",
    "- **Reducir el umbral** (ej. 0.3) para clasificar más casos como desempleados, aumentando la sensibilidad.  \n",
    "- **Ajustar el umbral en función de métricas como la curva ROC o el F1-score**, balanceando precisión y sensibilidad.  \n",
    "\n",
    "\n",
    "### Rebalanceo de Clases (*Class Rebalancing*)  \n",
    "Modificar la composición del conjunto de entrenamiento para hacer que el modelo aprenda con un dataset más equilibrado:  \n",
    "-  **Reponderar Observaciones**:  asignar **mayor peso** a la clase minoritaria. Esto obliga al modelo a prestar más atención a los casos de desempleo y **reduce el sesgo hacia la clase mayoritaria**.  \n",
    "- **Submuestreo**: Reducir el número de observaciones de la clase mayoritaria (empleados), para evitar que dominen el aprendizaje.  \n",
    "- **Sobremuestreo**: Aumentar artificialmente la cantidad de observaciones de la clase minoritaria (ej. replicando casos de desempleo).  \n",
    "- **Técnicas avanzadas** como **SMOTE (Synthetic Minority Over-sampling Technique)**, que genera ejemplos sintéticos en la clase minoritaria en lugar de simplemente replicarlos.  \n",
    "\n"
   ]
  },
  {
   "cell_type": "markdown",
   "id": "dd24aebc-adca-4849-b7d3-4f91448f061c",
   "metadata": {},
   "source": [
    "## **Ajuste del Modelo (*Model Tuning*)**  \n",
    "\n",
    "Una de las formas más directas de contrarrestar los efectos negativos del **desbalance de clases** es **ajustar el modelo** para que maximice la precisión en la clase minoritaria (**los desempleados**). En este caso, en lugar de optimizar la precisión general del modelo, **maximizaremos la sensibilidad (recall)**, asegurándonos de capturar la mayor cantidad posible de casos de desempleo.  \n",
    "\n",
    "Para ello, realizaremos los siguientes ajustes en el modelo:  \n",
    "1. **Definir una función de evaluación personalizada**, que incluya métricas clave como sensibilidad, precisión y la métrica F1.  \n",
    "2. **Optimizar los hiperparámetros** del modelo de regresión logística regularizada, buscando la mejor combinación de penalización Lasso/Ridge para maximizar la sensibilidad.  \n",
    "\n"
   ]
  },
  {
   "cell_type": "code",
   "execution_count": 22,
   "id": "29e19fbb-942e-4db9-a089-99b71c30e78d",
   "metadata": {
    "vscode": {
     "languageId": "r"
    }
   },
   "outputs": [],
   "source": [
    "multiStats <- function(...) c(twoClassSummary(...), defaultSummary(...), prSummary(...))\n",
    "\n",
    "\n",
    "# `twoClassSummary(...)`: Calcula métricas específicas para clasificación binaria, como AUC, sensibilidad y especificidad.  \n",
    "# `defaultSummary(...)`: Incluye métricas generales como precisión.  \n",
    "# `prSummary(...)`: Agrega métricas basadas en precisión y recall, útiles para datos desbalanceados.  \n",
    "\n",
    "\n",
    "ctrl_multiStats <- trainControl(\n",
    "  method = \"cv\",  # Usamos validación cruzada\n",
    "  number = 5,  # 5-fold cross-validation\n",
    "  summaryFunction = multiStats,  # Usamos la función de evaluación personalizada\n",
    "  classProbs = TRUE,  # Habilita el cálculo de probabilidades para cada clase\n",
    "  verbose = FALSE,  # Evita mensajes innecesarios en la consola\n",
    "  savePredictions = TRUE  # Guarda las predicciones para análisis posterior\n",
    "    )"
   ]
  },
  {
   "cell_type": "code",
   "execution_count": 23,
   "id": "6c2460ae-24a4-4f47-a4ed-2cffab2d2988",
   "metadata": {
    "vscode": {
     "languageId": "r"
    }
   },
   "outputs": [
    {
     "name": "stderr",
     "output_type": "stream",
     "text": [
      "Warning message in nominalTrainWorkflow(x = x, y = y, wts = weights, info = trainInfo, :\n",
      "“There were missing values in resampled performance measures.”\n"
     ]
    },
    {
     "data": {
      "text/plain": [
       "Random Forest \n",
       "\n",
       "12054 samples\n",
       "    9 predictor\n",
       "    2 classes: 'desempleado', 'empleado' \n",
       "\n",
       "No pre-processing\n",
       "Resampling: Cross-Validated (5 fold) \n",
       "Summary of sample sizes: 9643, 9643, 9643, 9643, 9644 \n",
       "Resampling results across tuning parameters:\n",
       "\n",
       "  mtry  min.node.size  ROC        Sens        Spec       Accuracy \n",
       "  3     30             0.7757059  0.00000000  0.9999094  0.9152978\n",
       "  3     50             0.7754320  0.00000000  1.0000000  0.9153808\n",
       "  5     30             0.7784977  0.01666667  0.9985500  0.9154637\n",
       "  5     50             0.7790164  0.01176471  0.9991844  0.9156296\n",
       "  9     30             0.7736842  0.04509804  0.9948344  0.9144683\n",
       "  9     50             0.7765583  0.03529412  0.9962844  0.9149659\n",
       "  Kappa          AUC        Precision  Recall      F         \n",
       "  -0.0001652334  0.2705313  0.0000000  0.00000000         NaN\n",
       "   0.0000000000  0.2683045        NaN  0.00000000         NaN\n",
       "   0.0269741273  0.2729181  0.5150794  0.01666667  0.03205388\n",
       "   0.0196183781  0.2735010  0.6583333  0.01176471  0.02863290\n",
       "   0.0668086850  0.2690403  0.4634602  0.04509804  0.08094706\n",
       "   0.0531625577  0.2729203  0.4319444  0.03529412  0.06390370\n",
       "\n",
       "Tuning parameter 'splitrule' was held constant at a value of gini\n",
       "Sens was used to select the optimal model using the largest value.\n",
       "The final values used for the model were mtry = 9, splitrule = gini\n",
       " and min.node.size = 30."
      ]
     },
     "metadata": {},
     "output_type": "display_data"
    }
   ],
   "source": [
    "set.seed(123)  # Fijamos la semilla para la reproducibilidad, garantizando que todos los modelos se entrenen con las mismas particiones, asegurando una comparación justa.\n",
    "\n",
    "tree_ranger_sens <- train(desempleado~edad+mujer+nivel_ed+ parentesco +\n",
    "                        estado_civil+tipo_vivienda+ing_tot_fam+total_miembros_hogar+miembros_hogar_menores10,  # Fórmula del modelo\n",
    "     data = train,  # Dataset de entrenamiento\n",
    "    method = \"ranger\",  # Usamos el motor ranger para Random Forests\n",
    "    trControl = ctrl_multiStats,  # Especificamos los controles de validación cruzada definidos antes\n",
    "    tuneGrid = expand.grid(   # Definimos la grilla de hiperparámetros a explorar\n",
    "        mtry = c(3,5,9),  # Número de predictores seleccionados al azar en cada división\n",
    "        splitrule = \"gini\",  # Regla de partición basada en la reducción de varianza (regresión)\n",
    "        min.node.size = c(30, 50)  # Tamaño mínimo de nodos terminales\n",
    "    ),\n",
    "    metric = \"Sens\",  # Optimiza la métrica de sensibilidad (recall para la clase positiva)\n",
    "    num.trees = 500\n",
    ")\n",
    "\n",
    "\n",
    "\n",
    "tree_ranger_sens  \n"
   ]
  },
  {
   "cell_type": "code",
   "execution_count": 24,
   "id": "a822b118-26e6-4542-a7b5-982c03738ad9",
   "metadata": {
    "vscode": {
     "languageId": "r"
    }
   },
   "outputs": [],
   "source": [
    "# Evaluando en el Test Set\n",
    "test<- test  %>% mutate(desempleo_hat_ranger_sens=predict(tree_ranger_sens,newdata = test,\n",
    "                           type = \"raw\"))"
   ]
  },
  {
   "cell_type": "code",
   "execution_count": 25,
   "id": "15ef6140-5ae9-4a34-a9a7-a8fe57663c71",
   "metadata": {
    "vscode": {
     "languageId": "r"
    }
   },
   "outputs": [
    {
     "data": {
      "text/plain": [
       "Confusion Matrix and Statistics\n",
       "\n",
       "             Reference\n",
       "Prediction    desempleado empleado\n",
       "  desempleado          13        6\n",
       "  empleado            124     1820\n",
       "                                          \n",
       "               Accuracy : 0.9338          \n",
       "                 95% CI : (0.9219, 0.9444)\n",
       "    No Information Rate : 0.9302          \n",
       "    P-Value [Acc > NIR] : 0.2853          \n",
       "                                          \n",
       "                  Kappa : 0.1523          \n",
       "                                          \n",
       " Mcnemar's Test P-Value : <2e-16          \n",
       "                                          \n",
       "              Precision : 0.684211        \n",
       "                 Recall : 0.094891        \n",
       "                     F1 : 0.166667        \n",
       "             Prevalence : 0.069791        \n",
       "         Detection Rate : 0.006623        \n",
       "   Detection Prevalence : 0.009679        \n",
       "      Balanced Accuracy : 0.545802        \n",
       "                                          \n",
       "       'Positive' Class : desempleado     \n",
       "                                          "
      ]
     },
     "metadata": {},
     "output_type": "display_data"
    }
   ],
   "source": [
    "# Matriz de Confusión\n",
    "cm_ranger_SENS <- confusionMatrix(data = test$desempleo_hat_ranger_sens, \n",
    "                reference = test$desempleado, positive=\"desempleado\", mode = \"prec_recall\")\n",
    "\n",
    "cm_ranger_SENS"
   ]
  },
  {
   "cell_type": "code",
   "execution_count": 26,
   "id": "1a5b1473-87c2-4c6e-a1b7-9584ec824b2a",
   "metadata": {
    "vscode": {
     "languageId": "r"
    }
   },
   "outputs": [
    {
     "data": {
      "text/html": [
       "<table class=\"dataframe\">\n",
       "<caption>A data.frame: 1 × 5</caption>\n",
       "<thead>\n",
       "\t<tr><th scope=col>Model</th><th scope=col>Accuracy</th><th scope=col>Precision</th><th scope=col>Recall</th><th scope=col>F1_Score</th></tr>\n",
       "\t<tr><th scope=col>&lt;chr&gt;</th><th scope=col>&lt;dbl&gt;</th><th scope=col>&lt;dbl&gt;</th><th scope=col>&lt;dbl&gt;</th><th scope=col>&lt;dbl&gt;</th></tr>\n",
       "</thead>\n",
       "<tbody>\n",
       "\t<tr><td>Ranger_Sens</td><td>0.9337748</td><td>0.6842105</td><td>0.09489051</td><td>0.1666667</td></tr>\n",
       "</tbody>\n",
       "</table>\n"
      ],
      "text/latex": [
       "A data.frame: 1 × 5\n",
       "\\begin{tabular}{lllll}\n",
       " Model & Accuracy & Precision & Recall & F1\\_Score\\\\\n",
       " <chr> & <dbl> & <dbl> & <dbl> & <dbl>\\\\\n",
       "\\hline\n",
       "\t Ranger\\_Sens & 0.9337748 & 0.6842105 & 0.09489051 & 0.1666667\\\\\n",
       "\\end{tabular}\n"
      ],
      "text/markdown": [
       "\n",
       "A data.frame: 1 × 5\n",
       "\n",
       "| Model &lt;chr&gt; | Accuracy &lt;dbl&gt; | Precision &lt;dbl&gt; | Recall &lt;dbl&gt; | F1_Score &lt;dbl&gt; |\n",
       "|---|---|---|---|---|\n",
       "| Ranger_Sens | 0.9337748 | 0.6842105 | 0.09489051 | 0.1666667 |\n",
       "\n"
      ],
      "text/plain": [
       "  Model       Accuracy  Precision Recall     F1_Score \n",
       "1 Ranger_Sens 0.9337748 0.6842105 0.09489051 0.1666667"
      ]
     },
     "metadata": {},
     "output_type": "display_data"
    }
   ],
   "source": [
    "# guardo en un data frame\n",
    "df_ranger_SENS <- data.frame(\n",
    "  Model = \"Ranger_Sens\",\n",
    "  Accuracy = cm_ranger_SENS$overall[\"Accuracy\"],\n",
    "  Precision = cm_ranger_SENS$byClass[\"Precision\"],\n",
    "  Recall = cm_ranger_SENS$byClass[\"Recall\"],\n",
    "  F1_Score = cm_ranger_SENS$byClass[\"F1\"]\n",
    ")\n",
    "#  Elimino los nombres de las filas que no informan nada.\n",
    "rownames(df_ranger_SENS)<-NULL\n",
    "\n",
    "# Ver los resultados\n",
    "df_ranger_SENS"
   ]
  },
  {
   "cell_type": "code",
   "execution_count": 27,
   "id": "89ee9aa0-6463-4f18-8d80-3f2ccf6bd312",
   "metadata": {
    "vscode": {
     "languageId": "r"
    }
   },
   "outputs": [
    {
     "data": {
      "text/html": [
       "<table class=\"dataframe\">\n",
       "<caption>A data.frame: 2 × 5</caption>\n",
       "<thead>\n",
       "\t<tr><th scope=col>Model</th><th scope=col>Accuracy</th><th scope=col>Precision</th><th scope=col>Recall</th><th scope=col>F1_Score</th></tr>\n",
       "\t<tr><th scope=col>&lt;chr&gt;</th><th scope=col>&lt;dbl&gt;</th><th scope=col>&lt;dbl&gt;</th><th scope=col>&lt;dbl&gt;</th><th scope=col>&lt;dbl&gt;</th></tr>\n",
       "</thead>\n",
       "<tbody>\n",
       "\t<tr><td>Ranger_Basico</td><td>0.9317371</td><td>0.8000000</td><td>0.02919708</td><td>0.05633803</td></tr>\n",
       "\t<tr><td>Ranger_Sens  </td><td>0.9337748</td><td>0.6842105</td><td>0.09489051</td><td>0.16666667</td></tr>\n",
       "</tbody>\n",
       "</table>\n"
      ],
      "text/latex": [
       "A data.frame: 2 × 5\n",
       "\\begin{tabular}{lllll}\n",
       " Model & Accuracy & Precision & Recall & F1\\_Score\\\\\n",
       " <chr> & <dbl> & <dbl> & <dbl> & <dbl>\\\\\n",
       "\\hline\n",
       "\t Ranger\\_Basico & 0.9317371 & 0.8000000 & 0.02919708 & 0.05633803\\\\\n",
       "\t Ranger\\_Sens   & 0.9337748 & 0.6842105 & 0.09489051 & 0.16666667\\\\\n",
       "\\end{tabular}\n"
      ],
      "text/markdown": [
       "\n",
       "A data.frame: 2 × 5\n",
       "\n",
       "| Model &lt;chr&gt; | Accuracy &lt;dbl&gt; | Precision &lt;dbl&gt; | Recall &lt;dbl&gt; | F1_Score &lt;dbl&gt; |\n",
       "|---|---|---|---|---|\n",
       "| Ranger_Basico | 0.9317371 | 0.8000000 | 0.02919708 | 0.05633803 |\n",
       "| Ranger_Sens   | 0.9337748 | 0.6842105 | 0.09489051 | 0.16666667 |\n",
       "\n"
      ],
      "text/plain": [
       "  Model         Accuracy  Precision Recall     F1_Score  \n",
       "1 Ranger_Basico 0.9317371 0.8000000 0.02919708 0.05633803\n",
       "2 Ranger_Sens   0.9337748 0.6842105 0.09489051 0.16666667"
      ]
     },
     "metadata": {},
     "output_type": "display_data"
    }
   ],
   "source": [
    "# Comparamos\n",
    "metrics_df <- rbind(df_ranger_base, df_ranger_SENS)\n",
    "\n",
    "metrics_df"
   ]
  },
  {
   "cell_type": "markdown",
   "id": "06017941-69e7-4c1f-8c92-4c852c280a53",
   "metadata": {},
   "source": [
    "## Modificación del Umbral de Clasificación (*Alternative Cutoffs*)  \n",
    "\n",
    "Cuando hay dos categorías posibles en la variable de respuesta, una estrategia efectiva para mejorar la precisión en la predicción de la **clase minoritaria** es ajustar el **umbral de clasificación**. En un modelo de regresión logística, la predicción es una **probabilidad**, y el umbral estándar de **0.5** puede no ser óptimo cuando los datos están desbalanceados.  \n",
    "\n",
    "Al modificar este umbral, podemos **cambiar la definición de un evento positivo (desempleado)**, ajustando la tasa de **falsos positivos (FP)** y **verdaderos positivos (TP)** del modelo. Para encontrar el umbral óptimo, utilizaremos la **curva ROC (Receiver Operating Characteristic)** y seleccionaremos un punto de corte que logre un equilibrio entre detectar la mayor cantidad posible de desempleados (TP) sin aumentar excesivamente las falsas alarmas (FP).  "
   ]
  },
  {
   "cell_type": "code",
   "execution_count": 28,
   "id": "6fe6c137-4eb4-4408-8dcc-74daf2f35cf0",
   "metadata": {
    "vscode": {
     "languageId": "r"
    }
   },
   "outputs": [],
   "source": [
    "p_load(\"pROC\") # Paquete para calcular y visualizar curvas ROC\n",
    "\n",
    "roc_obj_en<-roc(response=tree_ranger_sens$pred$obs,  # Valores reales de la variable objetivo\n",
    "                   predictor=tree_ranger_sens$pred$desempleado, # Probabilidades predichas por el modelo\n",
    "                  levels = c(\"empleado\", \"desempleado\"),  # # Establece la referencia control y caso (empleado = negativo, desempleado = positivo) \n",
    "                  direction = \"<\")  # \"<\" significa que \"desempleado\" es positivo"
   ]
  },
  {
   "cell_type": "markdown",
   "id": "d1cadbd5-b247-4e9a-9480-c245d85db56d",
   "metadata": {},
   "source": [
    "Este objeto nos almacena la curva ROC del modelo. Con este deterimemos el Mejor Punto de Corte"
   ]
  },
  {
   "cell_type": "code",
   "execution_count": 29,
   "id": "0495606a-83e1-415c-9202-f8f8523e9203",
   "metadata": {
    "vscode": {
     "languageId": "r"
    }
   },
   "outputs": [
    {
     "data": {
      "text/html": [
       "<table class=\"dataframe\">\n",
       "<caption>A data.frame: 1 × 3</caption>\n",
       "<thead>\n",
       "\t<tr><th scope=col>threshold</th><th scope=col>specificity</th><th scope=col>sensitivity</th></tr>\n",
       "\t<tr><th scope=col>&lt;dbl&gt;</th><th scope=col>&lt;dbl&gt;</th><th scope=col>&lt;dbl&gt;</th></tr>\n",
       "</thead>\n",
       "<tbody>\n",
       "\t<tr><td>0.09553875</td><td>0.7136729</td><td>0.6986928</td></tr>\n",
       "</tbody>\n",
       "</table>\n"
      ],
      "text/latex": [
       "A data.frame: 1 × 3\n",
       "\\begin{tabular}{lll}\n",
       " threshold & specificity & sensitivity\\\\\n",
       " <dbl> & <dbl> & <dbl>\\\\\n",
       "\\hline\n",
       "\t 0.09553875 & 0.7136729 & 0.6986928\\\\\n",
       "\\end{tabular}\n"
      ],
      "text/markdown": [
       "\n",
       "A data.frame: 1 × 3\n",
       "\n",
       "| threshold &lt;dbl&gt; | specificity &lt;dbl&gt; | sensitivity &lt;dbl&gt; |\n",
       "|---|---|---|\n",
       "| 0.09553875 | 0.7136729 | 0.6986928 |\n",
       "\n"
      ],
      "text/plain": [
       "  threshold  specificity sensitivity\n",
       "1 0.09553875 0.7136729   0.6986928  "
      ]
     },
     "metadata": {},
     "output_type": "display_data"
    }
   ],
   "source": [
    "rfThresh_en <- coords(roc_obj_en, x = \"best\", best.method = \"closest.topleft\")\n",
    "rfThresh_en"
   ]
  },
  {
   "cell_type": "markdown",
   "id": "1e7bb547-397b-4fbc-873e-6935b5d1b0f8",
   "metadata": {},
   "source": [
    "`threshold` es el **nuevo umbral de clasificación** en lugar de 0.5.  \n",
    "\n",
    "**¿Por qué hacemos esto?**  \n",
    "- Un umbral más bajo **aumenta los verdaderos positivos (TP)**, reduciendo el riesgo de clasificar desempleados como empleados.  \n",
    "- Un umbral más bajo también **puede aumentar los falsos positivos (FP)**, es decir, clasificar algunos empleados como desempleados.  \n",
    "- Buscamos un **balance** donde mejoremos la detección de desempleados sin generar demasiadas falsos positivos. "
   ]
  },
  {
   "cell_type": "code",
   "execution_count": 30,
   "id": "7e93b538-b660-4361-ad59-ea94e3f891cb",
   "metadata": {
    "vscode": {
     "languageId": "r"
    }
   },
   "outputs": [],
   "source": [
    "# Evaluando en el Test Set aplicando el nuevo umbral\n",
    "test<- test  %>% mutate(desempleo_ranger_sens=predict(tree_ranger_sens,newdata = test,\n",
    "                           type = \"prob\")$desempleado)\n",
    "\n",
    "# Clasificamos los Casos Usando el Nuevo Umbral\n",
    "test<- test  %>% mutate(desempleo_hat_ranger_sens_cutoff=factor(ifelse(desempleo_ranger_sens>=rfThresh_en$threshold,1,0),\n",
    "                                                                 levels = c(1,0), labels = c(\"desempleado\",\"empleado\")))"
   ]
  },
  {
   "cell_type": "code",
   "execution_count": 31,
   "id": "d9d6d372-e7a9-4037-af8e-d12d0afe655a",
   "metadata": {
    "vscode": {
     "languageId": "r"
    }
   },
   "outputs": [
    {
     "data": {
      "text/plain": [
       "Confusion Matrix and Statistics\n",
       "\n",
       "             Reference\n",
       "Prediction    desempleado empleado\n",
       "  desempleado          99      515\n",
       "  empleado             38     1311\n",
       "                                          \n",
       "               Accuracy : 0.7183          \n",
       "                 95% CI : (0.6978, 0.7381)\n",
       "    No Information Rate : 0.9302          \n",
       "    P-Value [Acc > NIR] : 1               \n",
       "                                          \n",
       "                  Kappa : 0.1688          \n",
       "                                          \n",
       " Mcnemar's Test P-Value : <2e-16          \n",
       "                                          \n",
       "              Precision : 0.16124         \n",
       "                 Recall : 0.72263         \n",
       "                     F1 : 0.26365         \n",
       "             Prevalence : 0.06979         \n",
       "         Detection Rate : 0.05043         \n",
       "   Detection Prevalence : 0.31279         \n",
       "      Balanced Accuracy : 0.72030         \n",
       "                                          \n",
       "       'Positive' Class : desempleado     \n",
       "                                          "
      ]
     },
     "metadata": {},
     "output_type": "display_data"
    }
   ],
   "source": [
    "# Matriz de Confusión\n",
    "df_ranger_sens_cutoff <- confusionMatrix(data = test$desempleo_hat_ranger_sens_cutoff, \n",
    "                 reference = test$desempleado, positive=\"desempleado\", mode = \"prec_recall\")\n",
    "df_ranger_sens_cutoff"
   ]
  },
  {
   "cell_type": "code",
   "execution_count": 32,
   "id": "889d699b-21ea-4eed-abe1-b3e70c88e3d6",
   "metadata": {
    "vscode": {
     "languageId": "r"
    }
   },
   "outputs": [
    {
     "data": {
      "text/html": [
       "<table class=\"dataframe\">\n",
       "<caption>A data.frame: 1 × 5</caption>\n",
       "<thead>\n",
       "\t<tr><th scope=col>Model</th><th scope=col>Accuracy</th><th scope=col>Precision</th><th scope=col>Recall</th><th scope=col>F1_Score</th></tr>\n",
       "\t<tr><th scope=col>&lt;chr&gt;</th><th scope=col>&lt;dbl&gt;</th><th scope=col>&lt;dbl&gt;</th><th scope=col>&lt;dbl&gt;</th><th scope=col>&lt;dbl&gt;</th></tr>\n",
       "</thead>\n",
       "<tbody>\n",
       "\t<tr><td>Ranger_Recall_Diff_cutoff</td><td>0.7182883</td><td>0.1612378</td><td>0.7226277</td><td>0.2636485</td></tr>\n",
       "</tbody>\n",
       "</table>\n"
      ],
      "text/latex": [
       "A data.frame: 1 × 5\n",
       "\\begin{tabular}{lllll}\n",
       " Model & Accuracy & Precision & Recall & F1\\_Score\\\\\n",
       " <chr> & <dbl> & <dbl> & <dbl> & <dbl>\\\\\n",
       "\\hline\n",
       "\t Ranger\\_Recall\\_Diff\\_cutoff & 0.7182883 & 0.1612378 & 0.7226277 & 0.2636485\\\\\n",
       "\\end{tabular}\n"
      ],
      "text/markdown": [
       "\n",
       "A data.frame: 1 × 5\n",
       "\n",
       "| Model &lt;chr&gt; | Accuracy &lt;dbl&gt; | Precision &lt;dbl&gt; | Recall &lt;dbl&gt; | F1_Score &lt;dbl&gt; |\n",
       "|---|---|---|---|---|\n",
       "| Ranger_Recall_Diff_cutoff | 0.7182883 | 0.1612378 | 0.7226277 | 0.2636485 |\n",
       "\n"
      ],
      "text/plain": [
       "  Model                     Accuracy  Precision Recall    F1_Score \n",
       "1 Ranger_Recall_Diff_cutoff 0.7182883 0.1612378 0.7226277 0.2636485"
      ]
     },
     "metadata": {},
     "output_type": "display_data"
    }
   ],
   "source": [
    "# guardo en un data frame\n",
    "df_ranger_sens_cutoff <- data.frame(\n",
    "  Model = \"Ranger_Recall_Diff_cutoff\",\n",
    "  Accuracy = df_ranger_sens_cutoff$overall[\"Accuracy\"],\n",
    "  Precision = df_ranger_sens_cutoff$byClass[\"Precision\"],\n",
    "  Recall = df_ranger_sens_cutoff$byClass[\"Recall\"],\n",
    "  F1_Score = df_ranger_sens_cutoff$byClass[\"F1\"]\n",
    ")\n",
    "#  Elimino los nombres de las filas que no informan nada.\n",
    "rownames(df_ranger_sens_cutoff)<-NULL\n",
    "\n",
    "# Ver los resultados\n",
    "df_ranger_sens_cutoff"
   ]
  },
  {
   "cell_type": "code",
   "execution_count": 33,
   "id": "2bc10803-fe48-4b57-a310-883581b8a7bf",
   "metadata": {
    "vscode": {
     "languageId": "r"
    }
   },
   "outputs": [
    {
     "data": {
      "text/html": [
       "<table class=\"dataframe\">\n",
       "<caption>A data.frame: 3 × 5</caption>\n",
       "<thead>\n",
       "\t<tr><th scope=col>Model</th><th scope=col>Accuracy</th><th scope=col>Precision</th><th scope=col>Recall</th><th scope=col>F1_Score</th></tr>\n",
       "\t<tr><th scope=col>&lt;chr&gt;</th><th scope=col>&lt;dbl&gt;</th><th scope=col>&lt;dbl&gt;</th><th scope=col>&lt;dbl&gt;</th><th scope=col>&lt;dbl&gt;</th></tr>\n",
       "</thead>\n",
       "<tbody>\n",
       "\t<tr><td>Ranger_Basico            </td><td>0.9317371</td><td>0.8000000</td><td>0.02919708</td><td>0.05633803</td></tr>\n",
       "\t<tr><td>Ranger_Sens              </td><td>0.9337748</td><td>0.6842105</td><td>0.09489051</td><td>0.16666667</td></tr>\n",
       "\t<tr><td>Ranger_Recall_Diff_cutoff</td><td>0.7182883</td><td>0.1612378</td><td>0.72262774</td><td>0.26364847</td></tr>\n",
       "</tbody>\n",
       "</table>\n"
      ],
      "text/latex": [
       "A data.frame: 3 × 5\n",
       "\\begin{tabular}{lllll}\n",
       " Model & Accuracy & Precision & Recall & F1\\_Score\\\\\n",
       " <chr> & <dbl> & <dbl> & <dbl> & <dbl>\\\\\n",
       "\\hline\n",
       "\t Ranger\\_Basico             & 0.9317371 & 0.8000000 & 0.02919708 & 0.05633803\\\\\n",
       "\t Ranger\\_Sens               & 0.9337748 & 0.6842105 & 0.09489051 & 0.16666667\\\\\n",
       "\t Ranger\\_Recall\\_Diff\\_cutoff & 0.7182883 & 0.1612378 & 0.72262774 & 0.26364847\\\\\n",
       "\\end{tabular}\n"
      ],
      "text/markdown": [
       "\n",
       "A data.frame: 3 × 5\n",
       "\n",
       "| Model &lt;chr&gt; | Accuracy &lt;dbl&gt; | Precision &lt;dbl&gt; | Recall &lt;dbl&gt; | F1_Score &lt;dbl&gt; |\n",
       "|---|---|---|---|---|\n",
       "| Ranger_Basico             | 0.9317371 | 0.8000000 | 0.02919708 | 0.05633803 |\n",
       "| Ranger_Sens               | 0.9337748 | 0.6842105 | 0.09489051 | 0.16666667 |\n",
       "| Ranger_Recall_Diff_cutoff | 0.7182883 | 0.1612378 | 0.72262774 | 0.26364847 |\n",
       "\n"
      ],
      "text/plain": [
       "  Model                     Accuracy  Precision Recall     F1_Score  \n",
       "1 Ranger_Basico             0.9317371 0.8000000 0.02919708 0.05633803\n",
       "2 Ranger_Sens               0.9337748 0.6842105 0.09489051 0.16666667\n",
       "3 Ranger_Recall_Diff_cutoff 0.7182883 0.1612378 0.72262774 0.26364847"
      ]
     },
     "metadata": {},
     "output_type": "display_data"
    }
   ],
   "source": [
    "# Comparamos\n",
    "metrics_df <- rbind(metrics_df, df_ranger_sens_cutoff)\n",
    "\n",
    "metrics_df"
   ]
  },
  {
   "cell_type": "markdown",
   "id": "193c8b70-3944-4d10-a043-697720e66684",
   "metadata": {},
   "source": [
    "### Precision Recall Curve\n",
    "\n",
    "En problemas de clasificación con clases desbalanceadas, la Curva ROC puede no ser la mejor métrica para evaluar el modelo, ya que no considera directamente el desempeño en la clase minoritaria. En su lugar, podemos usar la Curva de Precisión-Recall, que evalúa el equilibrio entre la precisión y el recall (TPR, sensibilidad) del modelo."
   ]
  },
  {
   "cell_type": "code",
   "execution_count": 34,
   "id": "64d31c0c-4b9d-43ec-a94c-b746ed8e77d2",
   "metadata": {
    "vscode": {
     "languageId": "r"
    }
   },
   "outputs": [
    {
     "data": {
      "text/html": [
       "<table class=\"dataframe\">\n",
       "<caption>A data.frame: 100 × 3</caption>\n",
       "<thead>\n",
       "\t<tr><th scope=col>threshold</th><th scope=col>precision</th><th scope=col>recall</th></tr>\n",
       "\t<tr><th scope=col>&lt;dbl&gt;</th><th scope=col>&lt;dbl&gt;</th><th scope=col>&lt;dbl&gt;</th></tr>\n",
       "</thead>\n",
       "<tbody>\n",
       "\t<tr><td>0.00000000</td><td>0.08461921</td><td>1.0000000</td></tr>\n",
       "\t<tr><td>0.01010101</td><td>0.09079178</td><td>0.9887255</td></tr>\n",
       "\t<tr><td>0.02020202</td><td>0.10115973</td><td>0.9663399</td></tr>\n",
       "\t<tr><td>0.03030303</td><td>0.11357055</td><td>0.9356209</td></tr>\n",
       "\t<tr><td>0.04040404</td><td>0.12453669</td><td>0.9058824</td></tr>\n",
       "\t<tr><td>0.05050505</td><td>0.13521662</td><td>0.8720588</td></tr>\n",
       "\t<tr><td>0.06060606</td><td>0.14581783</td><td>0.8323529</td></tr>\n",
       "\t<tr><td>0.07070707</td><td>0.15710048</td><td>0.7960784</td></tr>\n",
       "\t<tr><td>0.08080808</td><td>0.16808650</td><td>0.7544118</td></tr>\n",
       "\t<tr><td>0.09090909</td><td>0.17844609</td><td>0.7145425</td></tr>\n",
       "\t<tr><td>0.10101010</td><td>0.18972837</td><td>0.6790850</td></tr>\n",
       "\t<tr><td>0.11111111</td><td>0.20098864</td><td>0.6444444</td></tr>\n",
       "\t<tr><td>0.12121212</td><td>0.21022760</td><td>0.6052288</td></tr>\n",
       "\t<tr><td>0.13131313</td><td>0.22123781</td><td>0.5671569</td></tr>\n",
       "\t<tr><td>0.14141414</td><td>0.23115937</td><td>0.5287582</td></tr>\n",
       "\t<tr><td>0.15151515</td><td>0.24130191</td><td>0.4918301</td></tr>\n",
       "\t<tr><td>0.16161616</td><td>0.25263349</td><td>0.4545752</td></tr>\n",
       "\t<tr><td>0.17171717</td><td>0.26883508</td><td>0.4227124</td></tr>\n",
       "\t<tr><td>0.18181818</td><td>0.28325268</td><td>0.3921569</td></tr>\n",
       "\t<tr><td>0.19191919</td><td>0.29704158</td><td>0.3642157</td></tr>\n",
       "\t<tr><td>0.20202020</td><td>0.31260303</td><td>0.3408497</td></tr>\n",
       "\t<tr><td>0.21212121</td><td>0.32508418</td><td>0.3155229</td></tr>\n",
       "\t<tr><td>0.22222222</td><td>0.33621013</td><td>0.2928105</td></tr>\n",
       "\t<tr><td>0.23232323</td><td>0.34484202</td><td>0.2692810</td></tr>\n",
       "\t<tr><td>0.24242424</td><td>0.35247027</td><td>0.2517974</td></tr>\n",
       "\t<tr><td>0.25252525</td><td>0.36151307</td><td>0.2326797</td></tr>\n",
       "\t<tr><td>0.26262626</td><td>0.37083683</td><td>0.2165033</td></tr>\n",
       "\t<tr><td>0.27272727</td><td>0.37647059</td><td>0.1986928</td></tr>\n",
       "\t<tr><td>0.28282828</td><td>0.38374096</td><td>0.1820261</td></tr>\n",
       "\t<tr><td>0.29292929</td><td>0.39549102</td><td>0.1691176</td></tr>\n",
       "\t<tr><td>⋮</td><td>⋮</td><td>⋮</td></tr>\n",
       "\t<tr><td>0.7070707</td><td>  0</td><td>0</td></tr>\n",
       "\t<tr><td>0.7171717</td><td>  0</td><td>0</td></tr>\n",
       "\t<tr><td>0.7272727</td><td>NaN</td><td>0</td></tr>\n",
       "\t<tr><td>0.7373737</td><td>NaN</td><td>0</td></tr>\n",
       "\t<tr><td>0.7474747</td><td>NaN</td><td>0</td></tr>\n",
       "\t<tr><td>0.7575758</td><td>NaN</td><td>0</td></tr>\n",
       "\t<tr><td>0.7676768</td><td>NaN</td><td>0</td></tr>\n",
       "\t<tr><td>0.7777778</td><td>NaN</td><td>0</td></tr>\n",
       "\t<tr><td>0.7878788</td><td>NaN</td><td>0</td></tr>\n",
       "\t<tr><td>0.7979798</td><td>NaN</td><td>0</td></tr>\n",
       "\t<tr><td>0.8080808</td><td>NaN</td><td>0</td></tr>\n",
       "\t<tr><td>0.8181818</td><td>NaN</td><td>0</td></tr>\n",
       "\t<tr><td>0.8282828</td><td>NaN</td><td>0</td></tr>\n",
       "\t<tr><td>0.8383838</td><td>NaN</td><td>0</td></tr>\n",
       "\t<tr><td>0.8484848</td><td>NaN</td><td>0</td></tr>\n",
       "\t<tr><td>0.8585859</td><td>NaN</td><td>0</td></tr>\n",
       "\t<tr><td>0.8686869</td><td>NaN</td><td>0</td></tr>\n",
       "\t<tr><td>0.8787879</td><td>NaN</td><td>0</td></tr>\n",
       "\t<tr><td>0.8888889</td><td>NaN</td><td>0</td></tr>\n",
       "\t<tr><td>0.8989899</td><td>NaN</td><td>0</td></tr>\n",
       "\t<tr><td>0.9090909</td><td>NaN</td><td>0</td></tr>\n",
       "\t<tr><td>0.9191919</td><td>NaN</td><td>0</td></tr>\n",
       "\t<tr><td>0.9292929</td><td>NaN</td><td>0</td></tr>\n",
       "\t<tr><td>0.9393939</td><td>NaN</td><td>0</td></tr>\n",
       "\t<tr><td>0.9494949</td><td>NaN</td><td>0</td></tr>\n",
       "\t<tr><td>0.9595960</td><td>NaN</td><td>0</td></tr>\n",
       "\t<tr><td>0.9696970</td><td>NaN</td><td>0</td></tr>\n",
       "\t<tr><td>0.9797980</td><td>NaN</td><td>0</td></tr>\n",
       "\t<tr><td>0.9898990</td><td>NaN</td><td>0</td></tr>\n",
       "\t<tr><td>1.0000000</td><td>NaN</td><td>0</td></tr>\n",
       "</tbody>\n",
       "</table>\n"
      ],
      "text/latex": [
       "A data.frame: 100 × 3\n",
       "\\begin{tabular}{lll}\n",
       " threshold & precision & recall\\\\\n",
       " <dbl> & <dbl> & <dbl>\\\\\n",
       "\\hline\n",
       "\t 0.00000000 & 0.08461921 & 1.0000000\\\\\n",
       "\t 0.01010101 & 0.09079178 & 0.9887255\\\\\n",
       "\t 0.02020202 & 0.10115973 & 0.9663399\\\\\n",
       "\t 0.03030303 & 0.11357055 & 0.9356209\\\\\n",
       "\t 0.04040404 & 0.12453669 & 0.9058824\\\\\n",
       "\t 0.05050505 & 0.13521662 & 0.8720588\\\\\n",
       "\t 0.06060606 & 0.14581783 & 0.8323529\\\\\n",
       "\t 0.07070707 & 0.15710048 & 0.7960784\\\\\n",
       "\t 0.08080808 & 0.16808650 & 0.7544118\\\\\n",
       "\t 0.09090909 & 0.17844609 & 0.7145425\\\\\n",
       "\t 0.10101010 & 0.18972837 & 0.6790850\\\\\n",
       "\t 0.11111111 & 0.20098864 & 0.6444444\\\\\n",
       "\t 0.12121212 & 0.21022760 & 0.6052288\\\\\n",
       "\t 0.13131313 & 0.22123781 & 0.5671569\\\\\n",
       "\t 0.14141414 & 0.23115937 & 0.5287582\\\\\n",
       "\t 0.15151515 & 0.24130191 & 0.4918301\\\\\n",
       "\t 0.16161616 & 0.25263349 & 0.4545752\\\\\n",
       "\t 0.17171717 & 0.26883508 & 0.4227124\\\\\n",
       "\t 0.18181818 & 0.28325268 & 0.3921569\\\\\n",
       "\t 0.19191919 & 0.29704158 & 0.3642157\\\\\n",
       "\t 0.20202020 & 0.31260303 & 0.3408497\\\\\n",
       "\t 0.21212121 & 0.32508418 & 0.3155229\\\\\n",
       "\t 0.22222222 & 0.33621013 & 0.2928105\\\\\n",
       "\t 0.23232323 & 0.34484202 & 0.2692810\\\\\n",
       "\t 0.24242424 & 0.35247027 & 0.2517974\\\\\n",
       "\t 0.25252525 & 0.36151307 & 0.2326797\\\\\n",
       "\t 0.26262626 & 0.37083683 & 0.2165033\\\\\n",
       "\t 0.27272727 & 0.37647059 & 0.1986928\\\\\n",
       "\t 0.28282828 & 0.38374096 & 0.1820261\\\\\n",
       "\t 0.29292929 & 0.39549102 & 0.1691176\\\\\n",
       "\t ⋮ & ⋮ & ⋮\\\\\n",
       "\t 0.7070707 &   0 & 0\\\\\n",
       "\t 0.7171717 &   0 & 0\\\\\n",
       "\t 0.7272727 & NaN & 0\\\\\n",
       "\t 0.7373737 & NaN & 0\\\\\n",
       "\t 0.7474747 & NaN & 0\\\\\n",
       "\t 0.7575758 & NaN & 0\\\\\n",
       "\t 0.7676768 & NaN & 0\\\\\n",
       "\t 0.7777778 & NaN & 0\\\\\n",
       "\t 0.7878788 & NaN & 0\\\\\n",
       "\t 0.7979798 & NaN & 0\\\\\n",
       "\t 0.8080808 & NaN & 0\\\\\n",
       "\t 0.8181818 & NaN & 0\\\\\n",
       "\t 0.8282828 & NaN & 0\\\\\n",
       "\t 0.8383838 & NaN & 0\\\\\n",
       "\t 0.8484848 & NaN & 0\\\\\n",
       "\t 0.8585859 & NaN & 0\\\\\n",
       "\t 0.8686869 & NaN & 0\\\\\n",
       "\t 0.8787879 & NaN & 0\\\\\n",
       "\t 0.8888889 & NaN & 0\\\\\n",
       "\t 0.8989899 & NaN & 0\\\\\n",
       "\t 0.9090909 & NaN & 0\\\\\n",
       "\t 0.9191919 & NaN & 0\\\\\n",
       "\t 0.9292929 & NaN & 0\\\\\n",
       "\t 0.9393939 & NaN & 0\\\\\n",
       "\t 0.9494949 & NaN & 0\\\\\n",
       "\t 0.9595960 & NaN & 0\\\\\n",
       "\t 0.9696970 & NaN & 0\\\\\n",
       "\t 0.9797980 & NaN & 0\\\\\n",
       "\t 0.9898990 & NaN & 0\\\\\n",
       "\t 1.0000000 & NaN & 0\\\\\n",
       "\\end{tabular}\n"
      ],
      "text/markdown": [
       "\n",
       "A data.frame: 100 × 3\n",
       "\n",
       "| threshold &lt;dbl&gt; | precision &lt;dbl&gt; | recall &lt;dbl&gt; |\n",
       "|---|---|---|\n",
       "| 0.00000000 | 0.08461921 | 1.0000000 |\n",
       "| 0.01010101 | 0.09079178 | 0.9887255 |\n",
       "| 0.02020202 | 0.10115973 | 0.9663399 |\n",
       "| 0.03030303 | 0.11357055 | 0.9356209 |\n",
       "| 0.04040404 | 0.12453669 | 0.9058824 |\n",
       "| 0.05050505 | 0.13521662 | 0.8720588 |\n",
       "| 0.06060606 | 0.14581783 | 0.8323529 |\n",
       "| 0.07070707 | 0.15710048 | 0.7960784 |\n",
       "| 0.08080808 | 0.16808650 | 0.7544118 |\n",
       "| 0.09090909 | 0.17844609 | 0.7145425 |\n",
       "| 0.10101010 | 0.18972837 | 0.6790850 |\n",
       "| 0.11111111 | 0.20098864 | 0.6444444 |\n",
       "| 0.12121212 | 0.21022760 | 0.6052288 |\n",
       "| 0.13131313 | 0.22123781 | 0.5671569 |\n",
       "| 0.14141414 | 0.23115937 | 0.5287582 |\n",
       "| 0.15151515 | 0.24130191 | 0.4918301 |\n",
       "| 0.16161616 | 0.25263349 | 0.4545752 |\n",
       "| 0.17171717 | 0.26883508 | 0.4227124 |\n",
       "| 0.18181818 | 0.28325268 | 0.3921569 |\n",
       "| 0.19191919 | 0.29704158 | 0.3642157 |\n",
       "| 0.20202020 | 0.31260303 | 0.3408497 |\n",
       "| 0.21212121 | 0.32508418 | 0.3155229 |\n",
       "| 0.22222222 | 0.33621013 | 0.2928105 |\n",
       "| 0.23232323 | 0.34484202 | 0.2692810 |\n",
       "| 0.24242424 | 0.35247027 | 0.2517974 |\n",
       "| 0.25252525 | 0.36151307 | 0.2326797 |\n",
       "| 0.26262626 | 0.37083683 | 0.2165033 |\n",
       "| 0.27272727 | 0.37647059 | 0.1986928 |\n",
       "| 0.28282828 | 0.38374096 | 0.1820261 |\n",
       "| 0.29292929 | 0.39549102 | 0.1691176 |\n",
       "| ⋮ | ⋮ | ⋮ |\n",
       "| 0.7070707 |   0 | 0 |\n",
       "| 0.7171717 |   0 | 0 |\n",
       "| 0.7272727 | NaN | 0 |\n",
       "| 0.7373737 | NaN | 0 |\n",
       "| 0.7474747 | NaN | 0 |\n",
       "| 0.7575758 | NaN | 0 |\n",
       "| 0.7676768 | NaN | 0 |\n",
       "| 0.7777778 | NaN | 0 |\n",
       "| 0.7878788 | NaN | 0 |\n",
       "| 0.7979798 | NaN | 0 |\n",
       "| 0.8080808 | NaN | 0 |\n",
       "| 0.8181818 | NaN | 0 |\n",
       "| 0.8282828 | NaN | 0 |\n",
       "| 0.8383838 | NaN | 0 |\n",
       "| 0.8484848 | NaN | 0 |\n",
       "| 0.8585859 | NaN | 0 |\n",
       "| 0.8686869 | NaN | 0 |\n",
       "| 0.8787879 | NaN | 0 |\n",
       "| 0.8888889 | NaN | 0 |\n",
       "| 0.8989899 | NaN | 0 |\n",
       "| 0.9090909 | NaN | 0 |\n",
       "| 0.9191919 | NaN | 0 |\n",
       "| 0.9292929 | NaN | 0 |\n",
       "| 0.9393939 | NaN | 0 |\n",
       "| 0.9494949 | NaN | 0 |\n",
       "| 0.9595960 | NaN | 0 |\n",
       "| 0.9696970 | NaN | 0 |\n",
       "| 0.9797980 | NaN | 0 |\n",
       "| 0.9898990 | NaN | 0 |\n",
       "| 1.0000000 | NaN | 0 |\n",
       "\n"
      ],
      "text/plain": [
       "    threshold  precision  recall   \n",
       "1   0.00000000 0.08461921 1.0000000\n",
       "2   0.01010101 0.09079178 0.9887255\n",
       "3   0.02020202 0.10115973 0.9663399\n",
       "4   0.03030303 0.11357055 0.9356209\n",
       "5   0.04040404 0.12453669 0.9058824\n",
       "6   0.05050505 0.13521662 0.8720588\n",
       "7   0.06060606 0.14581783 0.8323529\n",
       "8   0.07070707 0.15710048 0.7960784\n",
       "9   0.08080808 0.16808650 0.7544118\n",
       "10  0.09090909 0.17844609 0.7145425\n",
       "11  0.10101010 0.18972837 0.6790850\n",
       "12  0.11111111 0.20098864 0.6444444\n",
       "13  0.12121212 0.21022760 0.6052288\n",
       "14  0.13131313 0.22123781 0.5671569\n",
       "15  0.14141414 0.23115937 0.5287582\n",
       "16  0.15151515 0.24130191 0.4918301\n",
       "17  0.16161616 0.25263349 0.4545752\n",
       "18  0.17171717 0.26883508 0.4227124\n",
       "19  0.18181818 0.28325268 0.3921569\n",
       "20  0.19191919 0.29704158 0.3642157\n",
       "21  0.20202020 0.31260303 0.3408497\n",
       "22  0.21212121 0.32508418 0.3155229\n",
       "23  0.22222222 0.33621013 0.2928105\n",
       "24  0.23232323 0.34484202 0.2692810\n",
       "25  0.24242424 0.35247027 0.2517974\n",
       "26  0.25252525 0.36151307 0.2326797\n",
       "27  0.26262626 0.37083683 0.2165033\n",
       "28  0.27272727 0.37647059 0.1986928\n",
       "29  0.28282828 0.38374096 0.1820261\n",
       "30  0.29292929 0.39549102 0.1691176\n",
       "⋮   ⋮          ⋮          ⋮        \n",
       "71  0.7070707    0        0        \n",
       "72  0.7171717    0        0        \n",
       "73  0.7272727  NaN        0        \n",
       "74  0.7373737  NaN        0        \n",
       "75  0.7474747  NaN        0        \n",
       "76  0.7575758  NaN        0        \n",
       "77  0.7676768  NaN        0        \n",
       "78  0.7777778  NaN        0        \n",
       "79  0.7878788  NaN        0        \n",
       "80  0.7979798  NaN        0        \n",
       "81  0.8080808  NaN        0        \n",
       "82  0.8181818  NaN        0        \n",
       "83  0.8282828  NaN        0        \n",
       "84  0.8383838  NaN        0        \n",
       "85  0.8484848  NaN        0        \n",
       "86  0.8585859  NaN        0        \n",
       "87  0.8686869  NaN        0        \n",
       "88  0.8787879  NaN        0        \n",
       "89  0.8888889  NaN        0        \n",
       "90  0.8989899  NaN        0        \n",
       "91  0.9090909  NaN        0        \n",
       "92  0.9191919  NaN        0        \n",
       "93  0.9292929  NaN        0        \n",
       "94  0.9393939  NaN        0        \n",
       "95  0.9494949  NaN        0        \n",
       "96  0.9595960  NaN        0        \n",
       "97  0.9696970  NaN        0        \n",
       "98  0.9797980  NaN        0        \n",
       "99  0.9898990  NaN        0        \n",
       "100 1.0000000  NaN        0        "
      ]
     },
     "metadata": {},
     "output_type": "display_data"
    }
   ],
   "source": [
    "# calculamos la curva PR para  100 valores de umbral, y para cada uno de ellos calculo la precisión y el recall del modelo\n",
    "prec_recall<-data.frame(coords(roc_obj_en, seq(0,1,length=100), ret=c(\"threshold\", \"precision\", \"recall\")))\n",
    "prec_recall"
   ]
  },
  {
   "cell_type": "markdown",
   "id": "b98440e8-b501-4ab9-a7c5-74e6b9d8225f",
   "metadata": {},
   "source": [
    "El compromiso entre precisión y recall se mide con el F1-score, que es la media armónica de ambas métricas. El objetivo es encontrar el umbral que maximiza el F1-score, ya que este nos da el mejor balance entre capturar la clase minoritaria (recall) sin perder demasiada precisión."
   ]
  },
  {
   "cell_type": "code",
   "execution_count": 35,
   "id": "d3fdc439-922d-4289-b82d-6ec0785b73e1",
   "metadata": {
    "vscode": {
     "languageId": "r"
    }
   },
   "outputs": [
    {
     "data": {
      "text/html": [
       "<table class=\"dataframe\">\n",
       "<caption>A data.frame: 100 × 4</caption>\n",
       "<thead>\n",
       "\t<tr><th scope=col>threshold</th><th scope=col>precision</th><th scope=col>recall</th><th scope=col>F1</th></tr>\n",
       "\t<tr><th scope=col>&lt;dbl&gt;</th><th scope=col>&lt;dbl&gt;</th><th scope=col>&lt;dbl&gt;</th><th scope=col>&lt;dbl&gt;</th></tr>\n",
       "</thead>\n",
       "<tbody>\n",
       "\t<tr><td>0.00000000</td><td>0.08461921</td><td>1.0000000</td><td>0.1560349</td></tr>\n",
       "\t<tr><td>0.01010101</td><td>0.09079178</td><td>0.9887255</td><td>0.1663117</td></tr>\n",
       "\t<tr><td>0.02020202</td><td>0.10115973</td><td>0.9663399</td><td>0.1831470</td></tr>\n",
       "\t<tr><td>0.03030303</td><td>0.11357055</td><td>0.9356209</td><td>0.2025540</td></tr>\n",
       "\t<tr><td>0.04040404</td><td>0.12453669</td><td>0.9058824</td><td>0.2189703</td></tr>\n",
       "\t<tr><td>0.05050505</td><td>0.13521662</td><td>0.8720588</td><td>0.2341303</td></tr>\n",
       "\t<tr><td>0.06060606</td><td>0.14581783</td><td>0.8323529</td><td>0.2481610</td></tr>\n",
       "\t<tr><td>0.07070707</td><td>0.15710048</td><td>0.7960784</td><td>0.2624152</td></tr>\n",
       "\t<tr><td>0.08080808</td><td>0.16808650</td><td>0.7544118</td><td>0.2749196</td></tr>\n",
       "\t<tr><td>0.09090909</td><td>0.17844609</td><td>0.7145425</td><td>0.2855743</td></tr>\n",
       "\t<tr><td>0.10101010</td><td>0.18972837</td><td>0.6790850</td><td>0.2965923</td></tr>\n",
       "\t<tr><td>0.11111111</td><td>0.20098864</td><td>0.6444444</td><td>0.3064134</td></tr>\n",
       "\t<tr><td>0.12121212</td><td>0.21022760</td><td>0.6052288</td><td>0.3120603</td></tr>\n",
       "\t<tr><td>0.13131313</td><td>0.22123781</td><td>0.5671569</td><td>0.3183090</td></tr>\n",
       "\t<tr><td>0.14141414</td><td>0.23115937</td><td>0.5287582</td><td>0.3216860</td></tr>\n",
       "\t<tr><td>0.15151515</td><td>0.24130191</td><td>0.4918301</td><td>0.3237604</td></tr>\n",
       "\t<tr><td>0.16161616</td><td>0.25263349</td><td>0.4545752</td><td>0.3247724</td></tr>\n",
       "\t<tr><td>0.17171717</td><td>0.26883508</td><td>0.4227124</td><td>0.3286540</td></tr>\n",
       "\t<tr><td>0.18181818</td><td>0.28325268</td><td>0.3921569</td><td>0.3289248</td></tr>\n",
       "\t<tr><td>0.19191919</td><td>0.29704158</td><td>0.3642157</td><td>0.3272167</td></tr>\n",
       "\t<tr><td>0.20202020</td><td>0.31260303</td><td>0.3408497</td><td>0.3261158</td></tr>\n",
       "\t<tr><td>0.21212121</td><td>0.32508418</td><td>0.3155229</td><td>0.3202322</td></tr>\n",
       "\t<tr><td>0.22222222</td><td>0.33621013</td><td>0.2928105</td><td>0.3130131</td></tr>\n",
       "\t<tr><td>0.23232323</td><td>0.34484202</td><td>0.2692810</td><td>0.3024131</td></tr>\n",
       "\t<tr><td>0.24242424</td><td>0.35247027</td><td>0.2517974</td><td>0.2937476</td></tr>\n",
       "\t<tr><td>0.25252525</td><td>0.36151307</td><td>0.2326797</td><td>0.2831295</td></tr>\n",
       "\t<tr><td>0.26262626</td><td>0.37083683</td><td>0.2165033</td><td>0.2733932</td></tr>\n",
       "\t<tr><td>0.27272727</td><td>0.37647059</td><td>0.1986928</td><td>0.2601070</td></tr>\n",
       "\t<tr><td>0.28282828</td><td>0.38374096</td><td>0.1820261</td><td>0.2469245</td></tr>\n",
       "\t<tr><td>0.29292929</td><td>0.39549102</td><td>0.1691176</td><td>0.2369234</td></tr>\n",
       "\t<tr><td>⋮</td><td>⋮</td><td>⋮</td><td>⋮</td></tr>\n",
       "\t<tr><td>0.7070707</td><td>  0</td><td>0</td><td>NaN</td></tr>\n",
       "\t<tr><td>0.7171717</td><td>  0</td><td>0</td><td>NaN</td></tr>\n",
       "\t<tr><td>0.7272727</td><td>NaN</td><td>0</td><td>NaN</td></tr>\n",
       "\t<tr><td>0.7373737</td><td>NaN</td><td>0</td><td>NaN</td></tr>\n",
       "\t<tr><td>0.7474747</td><td>NaN</td><td>0</td><td>NaN</td></tr>\n",
       "\t<tr><td>0.7575758</td><td>NaN</td><td>0</td><td>NaN</td></tr>\n",
       "\t<tr><td>0.7676768</td><td>NaN</td><td>0</td><td>NaN</td></tr>\n",
       "\t<tr><td>0.7777778</td><td>NaN</td><td>0</td><td>NaN</td></tr>\n",
       "\t<tr><td>0.7878788</td><td>NaN</td><td>0</td><td>NaN</td></tr>\n",
       "\t<tr><td>0.7979798</td><td>NaN</td><td>0</td><td>NaN</td></tr>\n",
       "\t<tr><td>0.8080808</td><td>NaN</td><td>0</td><td>NaN</td></tr>\n",
       "\t<tr><td>0.8181818</td><td>NaN</td><td>0</td><td>NaN</td></tr>\n",
       "\t<tr><td>0.8282828</td><td>NaN</td><td>0</td><td>NaN</td></tr>\n",
       "\t<tr><td>0.8383838</td><td>NaN</td><td>0</td><td>NaN</td></tr>\n",
       "\t<tr><td>0.8484848</td><td>NaN</td><td>0</td><td>NaN</td></tr>\n",
       "\t<tr><td>0.8585859</td><td>NaN</td><td>0</td><td>NaN</td></tr>\n",
       "\t<tr><td>0.8686869</td><td>NaN</td><td>0</td><td>NaN</td></tr>\n",
       "\t<tr><td>0.8787879</td><td>NaN</td><td>0</td><td>NaN</td></tr>\n",
       "\t<tr><td>0.8888889</td><td>NaN</td><td>0</td><td>NaN</td></tr>\n",
       "\t<tr><td>0.8989899</td><td>NaN</td><td>0</td><td>NaN</td></tr>\n",
       "\t<tr><td>0.9090909</td><td>NaN</td><td>0</td><td>NaN</td></tr>\n",
       "\t<tr><td>0.9191919</td><td>NaN</td><td>0</td><td>NaN</td></tr>\n",
       "\t<tr><td>0.9292929</td><td>NaN</td><td>0</td><td>NaN</td></tr>\n",
       "\t<tr><td>0.9393939</td><td>NaN</td><td>0</td><td>NaN</td></tr>\n",
       "\t<tr><td>0.9494949</td><td>NaN</td><td>0</td><td>NaN</td></tr>\n",
       "\t<tr><td>0.9595960</td><td>NaN</td><td>0</td><td>NaN</td></tr>\n",
       "\t<tr><td>0.9696970</td><td>NaN</td><td>0</td><td>NaN</td></tr>\n",
       "\t<tr><td>0.9797980</td><td>NaN</td><td>0</td><td>NaN</td></tr>\n",
       "\t<tr><td>0.9898990</td><td>NaN</td><td>0</td><td>NaN</td></tr>\n",
       "\t<tr><td>1.0000000</td><td>NaN</td><td>0</td><td>NaN</td></tr>\n",
       "</tbody>\n",
       "</table>\n"
      ],
      "text/latex": [
       "A data.frame: 100 × 4\n",
       "\\begin{tabular}{llll}\n",
       " threshold & precision & recall & F1\\\\\n",
       " <dbl> & <dbl> & <dbl> & <dbl>\\\\\n",
       "\\hline\n",
       "\t 0.00000000 & 0.08461921 & 1.0000000 & 0.1560349\\\\\n",
       "\t 0.01010101 & 0.09079178 & 0.9887255 & 0.1663117\\\\\n",
       "\t 0.02020202 & 0.10115973 & 0.9663399 & 0.1831470\\\\\n",
       "\t 0.03030303 & 0.11357055 & 0.9356209 & 0.2025540\\\\\n",
       "\t 0.04040404 & 0.12453669 & 0.9058824 & 0.2189703\\\\\n",
       "\t 0.05050505 & 0.13521662 & 0.8720588 & 0.2341303\\\\\n",
       "\t 0.06060606 & 0.14581783 & 0.8323529 & 0.2481610\\\\\n",
       "\t 0.07070707 & 0.15710048 & 0.7960784 & 0.2624152\\\\\n",
       "\t 0.08080808 & 0.16808650 & 0.7544118 & 0.2749196\\\\\n",
       "\t 0.09090909 & 0.17844609 & 0.7145425 & 0.2855743\\\\\n",
       "\t 0.10101010 & 0.18972837 & 0.6790850 & 0.2965923\\\\\n",
       "\t 0.11111111 & 0.20098864 & 0.6444444 & 0.3064134\\\\\n",
       "\t 0.12121212 & 0.21022760 & 0.6052288 & 0.3120603\\\\\n",
       "\t 0.13131313 & 0.22123781 & 0.5671569 & 0.3183090\\\\\n",
       "\t 0.14141414 & 0.23115937 & 0.5287582 & 0.3216860\\\\\n",
       "\t 0.15151515 & 0.24130191 & 0.4918301 & 0.3237604\\\\\n",
       "\t 0.16161616 & 0.25263349 & 0.4545752 & 0.3247724\\\\\n",
       "\t 0.17171717 & 0.26883508 & 0.4227124 & 0.3286540\\\\\n",
       "\t 0.18181818 & 0.28325268 & 0.3921569 & 0.3289248\\\\\n",
       "\t 0.19191919 & 0.29704158 & 0.3642157 & 0.3272167\\\\\n",
       "\t 0.20202020 & 0.31260303 & 0.3408497 & 0.3261158\\\\\n",
       "\t 0.21212121 & 0.32508418 & 0.3155229 & 0.3202322\\\\\n",
       "\t 0.22222222 & 0.33621013 & 0.2928105 & 0.3130131\\\\\n",
       "\t 0.23232323 & 0.34484202 & 0.2692810 & 0.3024131\\\\\n",
       "\t 0.24242424 & 0.35247027 & 0.2517974 & 0.2937476\\\\\n",
       "\t 0.25252525 & 0.36151307 & 0.2326797 & 0.2831295\\\\\n",
       "\t 0.26262626 & 0.37083683 & 0.2165033 & 0.2733932\\\\\n",
       "\t 0.27272727 & 0.37647059 & 0.1986928 & 0.2601070\\\\\n",
       "\t 0.28282828 & 0.38374096 & 0.1820261 & 0.2469245\\\\\n",
       "\t 0.29292929 & 0.39549102 & 0.1691176 & 0.2369234\\\\\n",
       "\t ⋮ & ⋮ & ⋮ & ⋮\\\\\n",
       "\t 0.7070707 &   0 & 0 & NaN\\\\\n",
       "\t 0.7171717 &   0 & 0 & NaN\\\\\n",
       "\t 0.7272727 & NaN & 0 & NaN\\\\\n",
       "\t 0.7373737 & NaN & 0 & NaN\\\\\n",
       "\t 0.7474747 & NaN & 0 & NaN\\\\\n",
       "\t 0.7575758 & NaN & 0 & NaN\\\\\n",
       "\t 0.7676768 & NaN & 0 & NaN\\\\\n",
       "\t 0.7777778 & NaN & 0 & NaN\\\\\n",
       "\t 0.7878788 & NaN & 0 & NaN\\\\\n",
       "\t 0.7979798 & NaN & 0 & NaN\\\\\n",
       "\t 0.8080808 & NaN & 0 & NaN\\\\\n",
       "\t 0.8181818 & NaN & 0 & NaN\\\\\n",
       "\t 0.8282828 & NaN & 0 & NaN\\\\\n",
       "\t 0.8383838 & NaN & 0 & NaN\\\\\n",
       "\t 0.8484848 & NaN & 0 & NaN\\\\\n",
       "\t 0.8585859 & NaN & 0 & NaN\\\\\n",
       "\t 0.8686869 & NaN & 0 & NaN\\\\\n",
       "\t 0.8787879 & NaN & 0 & NaN\\\\\n",
       "\t 0.8888889 & NaN & 0 & NaN\\\\\n",
       "\t 0.8989899 & NaN & 0 & NaN\\\\\n",
       "\t 0.9090909 & NaN & 0 & NaN\\\\\n",
       "\t 0.9191919 & NaN & 0 & NaN\\\\\n",
       "\t 0.9292929 & NaN & 0 & NaN\\\\\n",
       "\t 0.9393939 & NaN & 0 & NaN\\\\\n",
       "\t 0.9494949 & NaN & 0 & NaN\\\\\n",
       "\t 0.9595960 & NaN & 0 & NaN\\\\\n",
       "\t 0.9696970 & NaN & 0 & NaN\\\\\n",
       "\t 0.9797980 & NaN & 0 & NaN\\\\\n",
       "\t 0.9898990 & NaN & 0 & NaN\\\\\n",
       "\t 1.0000000 & NaN & 0 & NaN\\\\\n",
       "\\end{tabular}\n"
      ],
      "text/markdown": [
       "\n",
       "A data.frame: 100 × 4\n",
       "\n",
       "| threshold &lt;dbl&gt; | precision &lt;dbl&gt; | recall &lt;dbl&gt; | F1 &lt;dbl&gt; |\n",
       "|---|---|---|---|\n",
       "| 0.00000000 | 0.08461921 | 1.0000000 | 0.1560349 |\n",
       "| 0.01010101 | 0.09079178 | 0.9887255 | 0.1663117 |\n",
       "| 0.02020202 | 0.10115973 | 0.9663399 | 0.1831470 |\n",
       "| 0.03030303 | 0.11357055 | 0.9356209 | 0.2025540 |\n",
       "| 0.04040404 | 0.12453669 | 0.9058824 | 0.2189703 |\n",
       "| 0.05050505 | 0.13521662 | 0.8720588 | 0.2341303 |\n",
       "| 0.06060606 | 0.14581783 | 0.8323529 | 0.2481610 |\n",
       "| 0.07070707 | 0.15710048 | 0.7960784 | 0.2624152 |\n",
       "| 0.08080808 | 0.16808650 | 0.7544118 | 0.2749196 |\n",
       "| 0.09090909 | 0.17844609 | 0.7145425 | 0.2855743 |\n",
       "| 0.10101010 | 0.18972837 | 0.6790850 | 0.2965923 |\n",
       "| 0.11111111 | 0.20098864 | 0.6444444 | 0.3064134 |\n",
       "| 0.12121212 | 0.21022760 | 0.6052288 | 0.3120603 |\n",
       "| 0.13131313 | 0.22123781 | 0.5671569 | 0.3183090 |\n",
       "| 0.14141414 | 0.23115937 | 0.5287582 | 0.3216860 |\n",
       "| 0.15151515 | 0.24130191 | 0.4918301 | 0.3237604 |\n",
       "| 0.16161616 | 0.25263349 | 0.4545752 | 0.3247724 |\n",
       "| 0.17171717 | 0.26883508 | 0.4227124 | 0.3286540 |\n",
       "| 0.18181818 | 0.28325268 | 0.3921569 | 0.3289248 |\n",
       "| 0.19191919 | 0.29704158 | 0.3642157 | 0.3272167 |\n",
       "| 0.20202020 | 0.31260303 | 0.3408497 | 0.3261158 |\n",
       "| 0.21212121 | 0.32508418 | 0.3155229 | 0.3202322 |\n",
       "| 0.22222222 | 0.33621013 | 0.2928105 | 0.3130131 |\n",
       "| 0.23232323 | 0.34484202 | 0.2692810 | 0.3024131 |\n",
       "| 0.24242424 | 0.35247027 | 0.2517974 | 0.2937476 |\n",
       "| 0.25252525 | 0.36151307 | 0.2326797 | 0.2831295 |\n",
       "| 0.26262626 | 0.37083683 | 0.2165033 | 0.2733932 |\n",
       "| 0.27272727 | 0.37647059 | 0.1986928 | 0.2601070 |\n",
       "| 0.28282828 | 0.38374096 | 0.1820261 | 0.2469245 |\n",
       "| 0.29292929 | 0.39549102 | 0.1691176 | 0.2369234 |\n",
       "| ⋮ | ⋮ | ⋮ | ⋮ |\n",
       "| 0.7070707 |   0 | 0 | NaN |\n",
       "| 0.7171717 |   0 | 0 | NaN |\n",
       "| 0.7272727 | NaN | 0 | NaN |\n",
       "| 0.7373737 | NaN | 0 | NaN |\n",
       "| 0.7474747 | NaN | 0 | NaN |\n",
       "| 0.7575758 | NaN | 0 | NaN |\n",
       "| 0.7676768 | NaN | 0 | NaN |\n",
       "| 0.7777778 | NaN | 0 | NaN |\n",
       "| 0.7878788 | NaN | 0 | NaN |\n",
       "| 0.7979798 | NaN | 0 | NaN |\n",
       "| 0.8080808 | NaN | 0 | NaN |\n",
       "| 0.8181818 | NaN | 0 | NaN |\n",
       "| 0.8282828 | NaN | 0 | NaN |\n",
       "| 0.8383838 | NaN | 0 | NaN |\n",
       "| 0.8484848 | NaN | 0 | NaN |\n",
       "| 0.8585859 | NaN | 0 | NaN |\n",
       "| 0.8686869 | NaN | 0 | NaN |\n",
       "| 0.8787879 | NaN | 0 | NaN |\n",
       "| 0.8888889 | NaN | 0 | NaN |\n",
       "| 0.8989899 | NaN | 0 | NaN |\n",
       "| 0.9090909 | NaN | 0 | NaN |\n",
       "| 0.9191919 | NaN | 0 | NaN |\n",
       "| 0.9292929 | NaN | 0 | NaN |\n",
       "| 0.9393939 | NaN | 0 | NaN |\n",
       "| 0.9494949 | NaN | 0 | NaN |\n",
       "| 0.9595960 | NaN | 0 | NaN |\n",
       "| 0.9696970 | NaN | 0 | NaN |\n",
       "| 0.9797980 | NaN | 0 | NaN |\n",
       "| 0.9898990 | NaN | 0 | NaN |\n",
       "| 1.0000000 | NaN | 0 | NaN |\n",
       "\n"
      ],
      "text/plain": [
       "    threshold  precision  recall    F1       \n",
       "1   0.00000000 0.08461921 1.0000000 0.1560349\n",
       "2   0.01010101 0.09079178 0.9887255 0.1663117\n",
       "3   0.02020202 0.10115973 0.9663399 0.1831470\n",
       "4   0.03030303 0.11357055 0.9356209 0.2025540\n",
       "5   0.04040404 0.12453669 0.9058824 0.2189703\n",
       "6   0.05050505 0.13521662 0.8720588 0.2341303\n",
       "7   0.06060606 0.14581783 0.8323529 0.2481610\n",
       "8   0.07070707 0.15710048 0.7960784 0.2624152\n",
       "9   0.08080808 0.16808650 0.7544118 0.2749196\n",
       "10  0.09090909 0.17844609 0.7145425 0.2855743\n",
       "11  0.10101010 0.18972837 0.6790850 0.2965923\n",
       "12  0.11111111 0.20098864 0.6444444 0.3064134\n",
       "13  0.12121212 0.21022760 0.6052288 0.3120603\n",
       "14  0.13131313 0.22123781 0.5671569 0.3183090\n",
       "15  0.14141414 0.23115937 0.5287582 0.3216860\n",
       "16  0.15151515 0.24130191 0.4918301 0.3237604\n",
       "17  0.16161616 0.25263349 0.4545752 0.3247724\n",
       "18  0.17171717 0.26883508 0.4227124 0.3286540\n",
       "19  0.18181818 0.28325268 0.3921569 0.3289248\n",
       "20  0.19191919 0.29704158 0.3642157 0.3272167\n",
       "21  0.20202020 0.31260303 0.3408497 0.3261158\n",
       "22  0.21212121 0.32508418 0.3155229 0.3202322\n",
       "23  0.22222222 0.33621013 0.2928105 0.3130131\n",
       "24  0.23232323 0.34484202 0.2692810 0.3024131\n",
       "25  0.24242424 0.35247027 0.2517974 0.2937476\n",
       "26  0.25252525 0.36151307 0.2326797 0.2831295\n",
       "27  0.26262626 0.37083683 0.2165033 0.2733932\n",
       "28  0.27272727 0.37647059 0.1986928 0.2601070\n",
       "29  0.28282828 0.38374096 0.1820261 0.2469245\n",
       "30  0.29292929 0.39549102 0.1691176 0.2369234\n",
       "⋮   ⋮          ⋮          ⋮         ⋮        \n",
       "71  0.7070707    0        0         NaN      \n",
       "72  0.7171717    0        0         NaN      \n",
       "73  0.7272727  NaN        0         NaN      \n",
       "74  0.7373737  NaN        0         NaN      \n",
       "75  0.7474747  NaN        0         NaN      \n",
       "76  0.7575758  NaN        0         NaN      \n",
       "77  0.7676768  NaN        0         NaN      \n",
       "78  0.7777778  NaN        0         NaN      \n",
       "79  0.7878788  NaN        0         NaN      \n",
       "80  0.7979798  NaN        0         NaN      \n",
       "81  0.8080808  NaN        0         NaN      \n",
       "82  0.8181818  NaN        0         NaN      \n",
       "83  0.8282828  NaN        0         NaN      \n",
       "84  0.8383838  NaN        0         NaN      \n",
       "85  0.8484848  NaN        0         NaN      \n",
       "86  0.8585859  NaN        0         NaN      \n",
       "87  0.8686869  NaN        0         NaN      \n",
       "88  0.8787879  NaN        0         NaN      \n",
       "89  0.8888889  NaN        0         NaN      \n",
       "90  0.8989899  NaN        0         NaN      \n",
       "91  0.9090909  NaN        0         NaN      \n",
       "92  0.9191919  NaN        0         NaN      \n",
       "93  0.9292929  NaN        0         NaN      \n",
       "94  0.9393939  NaN        0         NaN      \n",
       "95  0.9494949  NaN        0         NaN      \n",
       "96  0.9595960  NaN        0         NaN      \n",
       "97  0.9696970  NaN        0         NaN      \n",
       "98  0.9797980  NaN        0         NaN      \n",
       "99  0.9898990  NaN        0         NaN      \n",
       "100 1.0000000  NaN        0         NaN      "
      ]
     },
     "metadata": {},
     "output_type": "display_data"
    }
   ],
   "source": [
    "prec_recall<- prec_recall  %>% mutate(F1=(2*precision*recall)/(precision+recall))\n",
    "prec_recall"
   ]
  },
  {
   "cell_type": "code",
   "execution_count": 36,
   "id": "04ae0e6e-e936-4fb6-bb35-714948c204f2",
   "metadata": {
    "vscode": {
     "languageId": "r"
    }
   },
   "outputs": [
    {
     "data": {
      "text/html": [
       "0.181818181818182"
      ],
      "text/latex": [
       "0.181818181818182"
      ],
      "text/markdown": [
       "0.181818181818182"
      ],
      "text/plain": [
       "[1] 0.1818182"
      ]
     },
     "metadata": {},
     "output_type": "display_data"
    }
   ],
   "source": [
    "# Encontrar el umbral óptimo que maximiza el F1-score\n",
    "prec_recall$threshold[which.max(prec_recall$F1)]"
   ]
  },
  {
   "cell_type": "code",
   "execution_count": 37,
   "id": "ecb1ebe1-70ec-4d0e-ab66-1035978b8364",
   "metadata": {
    "vscode": {
     "languageId": "r"
    }
   },
   "outputs": [],
   "source": [
    "# Evaluando en el Test Set\n",
    "test<- test  %>% mutate(desempleo_prob_ranger_sens=predict(tree_ranger_sens, newdata = test,\n",
    "                           type = \"prob\")$desempleado)\n",
    "\n",
    "test<- test  %>% mutate(desempleo_hat_ranger_sens_cutoff_F1=factor(ifelse(desempleo_prob_ranger_sens>=prec_recall$threshold[which.max(prec_recall$F1)],1,0),\n",
    "                                                                 levels = c(1,0), labels = c(\"desempleado\",\"empleado\")))"
   ]
  },
  {
   "cell_type": "code",
   "execution_count": 38,
   "id": "b57d4e39-8bff-4956-8a47-a09e47f05507",
   "metadata": {
    "vscode": {
     "languageId": "r"
    }
   },
   "outputs": [],
   "source": [
    "# Matriz de Confusión\n",
    "cm_logit_ranger_PR <- confusionMatrix(data = test$desempleo_hat_ranger_sens_cutoff_F1, \n",
    "                 reference = test$desempleado, positive=\"desempleado\", mode = \"prec_recall\")"
   ]
  },
  {
   "cell_type": "code",
   "execution_count": 39,
   "id": "ef8c1839-f4e2-4fcc-ab70-d8a981ee8557",
   "metadata": {
    "vscode": {
     "languageId": "r"
    }
   },
   "outputs": [
    {
     "data": {
      "text/html": [
       "<table class=\"dataframe\">\n",
       "<caption>A data.frame: 1 × 5</caption>\n",
       "<thead>\n",
       "\t<tr><th scope=col>Model</th><th scope=col>Accuracy</th><th scope=col>Precision</th><th scope=col>Recall</th><th scope=col>F1_Score</th></tr>\n",
       "\t<tr><th scope=col>&lt;chr&gt;</th><th scope=col>&lt;dbl&gt;</th><th scope=col>&lt;dbl&gt;</th><th scope=col>&lt;dbl&gt;</th><th scope=col>&lt;dbl&gt;</th></tr>\n",
       "</thead>\n",
       "<tbody>\n",
       "\t<tr><td>Ranger_Recall_PR</td><td>0.8660214</td><td>0.2613636</td><td>0.5036496</td><td>0.3441397</td></tr>\n",
       "</tbody>\n",
       "</table>\n"
      ],
      "text/latex": [
       "A data.frame: 1 × 5\n",
       "\\begin{tabular}{lllll}\n",
       " Model & Accuracy & Precision & Recall & F1\\_Score\\\\\n",
       " <chr> & <dbl> & <dbl> & <dbl> & <dbl>\\\\\n",
       "\\hline\n",
       "\t Ranger\\_Recall\\_PR & 0.8660214 & 0.2613636 & 0.5036496 & 0.3441397\\\\\n",
       "\\end{tabular}\n"
      ],
      "text/markdown": [
       "\n",
       "A data.frame: 1 × 5\n",
       "\n",
       "| Model &lt;chr&gt; | Accuracy &lt;dbl&gt; | Precision &lt;dbl&gt; | Recall &lt;dbl&gt; | F1_Score &lt;dbl&gt; |\n",
       "|---|---|---|---|---|\n",
       "| Ranger_Recall_PR | 0.8660214 | 0.2613636 | 0.5036496 | 0.3441397 |\n",
       "\n"
      ],
      "text/plain": [
       "  Model            Accuracy  Precision Recall    F1_Score \n",
       "1 Ranger_Recall_PR 0.8660214 0.2613636 0.5036496 0.3441397"
      ]
     },
     "metadata": {},
     "output_type": "display_data"
    }
   ],
   "source": [
    "# guardo en un data frame\n",
    "df_ranger_sens_PR <- data.frame(\n",
    "  Model = \"Ranger_Recall_PR\",\n",
    "  Accuracy = cm_logit_ranger_PR$overall[\"Accuracy\"],\n",
    "  Precision = cm_logit_ranger_PR$byClass[\"Precision\"],\n",
    "  Recall = cm_logit_ranger_PR$byClass[\"Recall\"],\n",
    "  F1_Score = cm_logit_ranger_PR$byClass[\"F1\"]\n",
    ")\n",
    "#  Elimino los nombres de las filas que no informan nada.\n",
    "rownames(df_ranger_sens_PR)<-NULL\n",
    "\n",
    "# Ver los resultados\n",
    "df_ranger_sens_PR"
   ]
  },
  {
   "cell_type": "code",
   "execution_count": 40,
   "id": "1fc37ebe-60f1-41da-bdc6-b4726d1ed85c",
   "metadata": {
    "vscode": {
     "languageId": "r"
    }
   },
   "outputs": [
    {
     "data": {
      "text/html": [
       "<table class=\"dataframe\">\n",
       "<caption>A data.frame: 4 × 5</caption>\n",
       "<thead>\n",
       "\t<tr><th scope=col>Model</th><th scope=col>Accuracy</th><th scope=col>Precision</th><th scope=col>Recall</th><th scope=col>F1_Score</th></tr>\n",
       "\t<tr><th scope=col>&lt;chr&gt;</th><th scope=col>&lt;dbl&gt;</th><th scope=col>&lt;dbl&gt;</th><th scope=col>&lt;dbl&gt;</th><th scope=col>&lt;dbl&gt;</th></tr>\n",
       "</thead>\n",
       "<tbody>\n",
       "\t<tr><td>Ranger_Basico            </td><td>0.9317371</td><td>0.8000000</td><td>0.02919708</td><td>0.05633803</td></tr>\n",
       "\t<tr><td>Ranger_Sens              </td><td>0.9337748</td><td>0.6842105</td><td>0.09489051</td><td>0.16666667</td></tr>\n",
       "\t<tr><td>Ranger_Recall_Diff_cutoff</td><td>0.7182883</td><td>0.1612378</td><td>0.72262774</td><td>0.26364847</td></tr>\n",
       "\t<tr><td>Ranger_Recall_PR         </td><td>0.8660214</td><td>0.2613636</td><td>0.50364964</td><td>0.34413965</td></tr>\n",
       "</tbody>\n",
       "</table>\n"
      ],
      "text/latex": [
       "A data.frame: 4 × 5\n",
       "\\begin{tabular}{lllll}\n",
       " Model & Accuracy & Precision & Recall & F1\\_Score\\\\\n",
       " <chr> & <dbl> & <dbl> & <dbl> & <dbl>\\\\\n",
       "\\hline\n",
       "\t Ranger\\_Basico             & 0.9317371 & 0.8000000 & 0.02919708 & 0.05633803\\\\\n",
       "\t Ranger\\_Sens               & 0.9337748 & 0.6842105 & 0.09489051 & 0.16666667\\\\\n",
       "\t Ranger\\_Recall\\_Diff\\_cutoff & 0.7182883 & 0.1612378 & 0.72262774 & 0.26364847\\\\\n",
       "\t Ranger\\_Recall\\_PR          & 0.8660214 & 0.2613636 & 0.50364964 & 0.34413965\\\\\n",
       "\\end{tabular}\n"
      ],
      "text/markdown": [
       "\n",
       "A data.frame: 4 × 5\n",
       "\n",
       "| Model &lt;chr&gt; | Accuracy &lt;dbl&gt; | Precision &lt;dbl&gt; | Recall &lt;dbl&gt; | F1_Score &lt;dbl&gt; |\n",
       "|---|---|---|---|---|\n",
       "| Ranger_Basico             | 0.9317371 | 0.8000000 | 0.02919708 | 0.05633803 |\n",
       "| Ranger_Sens               | 0.9337748 | 0.6842105 | 0.09489051 | 0.16666667 |\n",
       "| Ranger_Recall_Diff_cutoff | 0.7182883 | 0.1612378 | 0.72262774 | 0.26364847 |\n",
       "| Ranger_Recall_PR          | 0.8660214 | 0.2613636 | 0.50364964 | 0.34413965 |\n",
       "\n"
      ],
      "text/plain": [
       "  Model                     Accuracy  Precision Recall     F1_Score  \n",
       "1 Ranger_Basico             0.9317371 0.8000000 0.02919708 0.05633803\n",
       "2 Ranger_Sens               0.9337748 0.6842105 0.09489051 0.16666667\n",
       "3 Ranger_Recall_Diff_cutoff 0.7182883 0.1612378 0.72262774 0.26364847\n",
       "4 Ranger_Recall_PR          0.8660214 0.2613636 0.50364964 0.34413965"
      ]
     },
     "metadata": {},
     "output_type": "display_data"
    }
   ],
   "source": [
    "# Comparamos\n",
    "metrics_df <- rbind(metrics_df, df_ranger_sens_PR)\n",
    "\n",
    "metrics_df"
   ]
  },
  {
   "cell_type": "markdown",
   "id": "e537b0c6-5871-4223-87b2-86e5d6d6f010",
   "metadata": {},
   "source": [
    "## Rebalanceo de Clases (*Class Rebalancing*)  \n",
    "\n",
    "### Re-ponderar observaciones\n",
    "\n",
    "Otra estrategias comun es **ponderar las observaciones** (class weights). La idea es asignar un mayor peso a las observaciones de la clase minoritaria, así igualamos la importancia relativa de las observaciones.\n",
    "\n",
    "Una forma de hacerlo es asignar a las observaciones de la clase mayoritaria  un peso de 1 (o un valor menor, dependiendo de la estrategia), y la forma minoritaria escalarlos de forma tal que iguala la distribución."
   ]
  },
  {
   "cell_type": "code",
   "execution_count": 50,
   "id": "5c6aea59-2c13-4dcd-91ea-c5d1a74f12d6",
   "metadata": {
    "vscode": {
     "languageId": "r"
    }
   },
   "outputs": [
    {
     "data": {
      "text/html": [
       "10.8176470588235"
      ],
      "text/latex": [
       "10.8176470588235"
      ],
      "text/markdown": [
       "10.8176470588235"
      ],
      "text/plain": [
       "[1] 10.81765"
      ]
     },
     "metadata": {},
     "output_type": "display_data"
    }
   ],
   "source": [
    "# Constructir los ponderadores\n",
    "pos_weight <- sum(train$desempleado == \"empleado\") / sum(train$desempleado == \"desempleado\")\n",
    "pos_weight\n"
   ]
  },
  {
   "cell_type": "code",
   "execution_count": 53,
   "id": "09c91481-c9e3-4182-a711-0a0ad387fc66",
   "metadata": {
    "vscode": {
     "languageId": "r"
    }
   },
   "outputs": [],
   "source": [
    "wts <- ifelse(train$desempleado == \"desempleado\", pos_weight, 1) "
   ]
  },
  {
   "cell_type": "code",
   "execution_count": 55,
   "id": "96a0a61b-583d-410a-884e-f3ab73015776",
   "metadata": {
    "vscode": {
     "languageId": "r"
    }
   },
   "outputs": [
    {
     "data": {
      "text/plain": [
       "Random Forest \n",
       "\n",
       "12054 samples\n",
       "    9 predictor\n",
       "    2 classes: 'desempleado', 'empleado' \n",
       "\n",
       "No pre-processing\n",
       "Resampling: Cross-Validated (5 fold) \n",
       "Summary of sample sizes: 9643, 9643, 9643, 9643, 9644 \n",
       "Resampling results across tuning parameters:\n",
       "\n",
       "  mtry  min.node.size  ROC        Sens       Spec       Accuracy   Kappa    \n",
       "  3     30             0.7754631  0.6235294  0.7843037  0.7706992  0.2160338\n",
       "  3     50             0.7759608  0.6392157  0.7674466  0.7565959  0.2055597\n",
       "  5     30             0.7761073  0.5490196  0.8372309  0.8128430  0.2420258\n",
       "  5     50             0.7790423  0.5901961  0.8074137  0.7890331  0.2259107\n",
       "  9     30             0.7692611  0.4578431  0.8781048  0.8425427  0.2482123\n",
       "  9     50             0.7744181  0.5313725  0.8418528  0.8155804  0.2383388\n",
       "  AUC        Precision  Recall     F        \n",
       "  0.2546954  0.2109644  0.6235294  0.3151430\n",
       "  0.2548931  0.2026394  0.6392157  0.3076100\n",
       "  0.2556767  0.2376586  0.5490196  0.3314646\n",
       "  0.2595068  0.2207902  0.5901961  0.3212031\n",
       "  0.2451423  0.2578501  0.4578431  0.3295102\n",
       "  0.2517036  0.2368032  0.5313725  0.3274103\n",
       "\n",
       "Tuning parameter 'splitrule' was held constant at a value of gini\n",
       "Sens was used to select the optimal model using the largest value.\n",
       "The final values used for the model were mtry = 3, splitrule = gini\n",
       " and min.node.size = 50."
      ]
     },
     "metadata": {},
     "output_type": "display_data"
    }
   ],
   "source": [
    "set.seed(123)  # Fijamos semilla para reproducibilidad garantizando que todos los modelos se entrenan con las mismas particiones, asegurando una comparación justa.\n",
    "\n",
    "\n",
    "\n",
    "\n",
    "tree_ranger_sens_wgt <- train(desempleado~edad+mujer+nivel_ed+ parentesco +\n",
    "                        estado_civil+tipo_vivienda+ing_tot_fam+total_miembros_hogar+miembros_hogar_menores10,  # Fórmula del modelo\n",
    "     data = train,  # Dataset de entrenamiento\n",
    "    method = \"ranger\",  # Usamos el motor ranger para Random Forests\n",
    "    trControl = ctrl_multiStats,  # Especificamos los controles de validación cruzada definidos antes\n",
    "tuneGrid = expand.grid(   # Definimos la grilla de hiperparámetros a explorar\n",
    "        mtry = c(3,5,9),  # Número de predictores seleccionados al azar en cada división\n",
    "        splitrule = \"gini\",  # Regla de partición basada en la reducción de varianza (regresión)\n",
    "        min.node.size = c(30, 50)  # Tamaño mínimo de nodos terminales\n",
    "    ),\n",
    "    metric = \"Sens\",  # Optimiza la métrica de sensibilidad (recall para la clase positiva)\n",
    "    num.trees = 500,\n",
    "    weights    = wts   # <-- pesos\n",
    "    \n",
    ")\n",
    "\n",
    "\n",
    "tree_ranger_sens_wgt  \n"
   ]
  },
  {
   "cell_type": "code",
   "execution_count": 56,
   "id": "759794c9-f829-4b05-9c43-69e268bd06b4",
   "metadata": {
    "vscode": {
     "languageId": "r"
    }
   },
   "outputs": [],
   "source": [
    "# Evaluando en el Test Set\n",
    "test<- test  %>% mutate(desempleo_ranger_sens_pesos=predict(tree_ranger_sens_wgt,newdata = test,\n",
    "                           type = \"raw\"))"
   ]
  },
  {
   "cell_type": "code",
   "execution_count": 57,
   "id": "262e040c-02a7-490e-96e4-8c378d849004",
   "metadata": {
    "vscode": {
     "languageId": "r"
    }
   },
   "outputs": [
    {
     "data": {
      "text/plain": [
       "Confusion Matrix and Statistics\n",
       "\n",
       "             Reference\n",
       "Prediction    desempleado empleado\n",
       "  desempleado          95      412\n",
       "  empleado             42     1414\n",
       "                                          \n",
       "               Accuracy : 0.7687          \n",
       "                 95% CI : (0.7494, 0.7872)\n",
       "    No Information Rate : 0.9302          \n",
       "    P-Value [Acc > NIR] : 1               \n",
       "                                          \n",
       "                  Kappa : 0.208           \n",
       "                                          \n",
       " Mcnemar's Test P-Value : <2e-16          \n",
       "                                          \n",
       "              Precision : 0.18738         \n",
       "                 Recall : 0.69343         \n",
       "                     F1 : 0.29503         \n",
       "             Prevalence : 0.06979         \n",
       "         Detection Rate : 0.04840         \n",
       "   Detection Prevalence : 0.25828         \n",
       "      Balanced Accuracy : 0.73390         \n",
       "                                          \n",
       "       'Positive' Class : desempleado     \n",
       "                                          "
      ]
     },
     "metadata": {},
     "output_type": "display_data"
    }
   ],
   "source": [
    "# Matriz de Confusión\n",
    "cm_ranger_sens_pesos <- confusionMatrix(data = test$desempleo_ranger_sens_pesos, \n",
    "                 reference = test$desempleado, positive=\"desempleado\", mode = \"prec_recall\")\n",
    "cm_ranger_sens_pesos"
   ]
  },
  {
   "cell_type": "code",
   "execution_count": 58,
   "id": "46b67e80-f393-4ef2-9b97-593c88e53ba8",
   "metadata": {
    "vscode": {
     "languageId": "r"
    }
   },
   "outputs": [
    {
     "data": {
      "text/html": [
       "<table class=\"dataframe\">\n",
       "<caption>A data.frame: 5 × 5</caption>\n",
       "<thead>\n",
       "\t<tr><th scope=col>Model</th><th scope=col>Accuracy</th><th scope=col>Precision</th><th scope=col>Recall</th><th scope=col>F1_Score</th></tr>\n",
       "\t<tr><th scope=col>&lt;chr&gt;</th><th scope=col>&lt;dbl&gt;</th><th scope=col>&lt;dbl&gt;</th><th scope=col>&lt;dbl&gt;</th><th scope=col>&lt;dbl&gt;</th></tr>\n",
       "</thead>\n",
       "<tbody>\n",
       "\t<tr><td>Ranger_Basico            </td><td>0.9317371</td><td>0.8000000</td><td>0.02919708</td><td>0.05633803</td></tr>\n",
       "\t<tr><td>Ranger_Sens              </td><td>0.9337748</td><td>0.6842105</td><td>0.09489051</td><td>0.16666667</td></tr>\n",
       "\t<tr><td>Ranger_Recall_Diff_cutoff</td><td>0.7182883</td><td>0.1612378</td><td>0.72262774</td><td>0.26364847</td></tr>\n",
       "\t<tr><td>Ranger_Recall_PR         </td><td>0.8660214</td><td>0.2613636</td><td>0.50364964</td><td>0.34413965</td></tr>\n",
       "\t<tr><td>Ranger_Recall_pesos      </td><td>0.7687213</td><td>0.1873767</td><td>0.69343066</td><td>0.29503106</td></tr>\n",
       "</tbody>\n",
       "</table>\n"
      ],
      "text/latex": [
       "A data.frame: 5 × 5\n",
       "\\begin{tabular}{lllll}\n",
       " Model & Accuracy & Precision & Recall & F1\\_Score\\\\\n",
       " <chr> & <dbl> & <dbl> & <dbl> & <dbl>\\\\\n",
       "\\hline\n",
       "\t Ranger\\_Basico             & 0.9317371 & 0.8000000 & 0.02919708 & 0.05633803\\\\\n",
       "\t Ranger\\_Sens               & 0.9337748 & 0.6842105 & 0.09489051 & 0.16666667\\\\\n",
       "\t Ranger\\_Recall\\_Diff\\_cutoff & 0.7182883 & 0.1612378 & 0.72262774 & 0.26364847\\\\\n",
       "\t Ranger\\_Recall\\_PR          & 0.8660214 & 0.2613636 & 0.50364964 & 0.34413965\\\\\n",
       "\t Ranger\\_Recall\\_pesos       & 0.7687213 & 0.1873767 & 0.69343066 & 0.29503106\\\\\n",
       "\\end{tabular}\n"
      ],
      "text/markdown": [
       "\n",
       "A data.frame: 5 × 5\n",
       "\n",
       "| Model &lt;chr&gt; | Accuracy &lt;dbl&gt; | Precision &lt;dbl&gt; | Recall &lt;dbl&gt; | F1_Score &lt;dbl&gt; |\n",
       "|---|---|---|---|---|\n",
       "| Ranger_Basico             | 0.9317371 | 0.8000000 | 0.02919708 | 0.05633803 |\n",
       "| Ranger_Sens               | 0.9337748 | 0.6842105 | 0.09489051 | 0.16666667 |\n",
       "| Ranger_Recall_Diff_cutoff | 0.7182883 | 0.1612378 | 0.72262774 | 0.26364847 |\n",
       "| Ranger_Recall_PR          | 0.8660214 | 0.2613636 | 0.50364964 | 0.34413965 |\n",
       "| Ranger_Recall_pesos       | 0.7687213 | 0.1873767 | 0.69343066 | 0.29503106 |\n",
       "\n"
      ],
      "text/plain": [
       "  Model                     Accuracy  Precision Recall     F1_Score  \n",
       "1 Ranger_Basico             0.9317371 0.8000000 0.02919708 0.05633803\n",
       "2 Ranger_Sens               0.9337748 0.6842105 0.09489051 0.16666667\n",
       "3 Ranger_Recall_Diff_cutoff 0.7182883 0.1612378 0.72262774 0.26364847\n",
       "4 Ranger_Recall_PR          0.8660214 0.2613636 0.50364964 0.34413965\n",
       "5 Ranger_Recall_pesos       0.7687213 0.1873767 0.69343066 0.29503106"
      ]
     },
     "metadata": {},
     "output_type": "display_data"
    }
   ],
   "source": [
    "# guardo en un data frame\n",
    "\n",
    "df_ranger_sens_pesos <- data.frame(\n",
    "  Model = \"Ranger_Recall_pesos\",\n",
    "  Accuracy = cm_ranger_sens_pesos$overall[\"Accuracy\"],\n",
    "  Precision = cm_ranger_sens_pesos$byClass[\"Precision\"],\n",
    "  Recall = cm_ranger_sens_pesos$byClass[\"Recall\"],\n",
    "  F1_Score = cm_ranger_sens_pesos$byClass[\"F1\"]\n",
    ")\n",
    "#  Elimino los nombres de las filas que no informan nada.\n",
    "rownames(df_ranger_sens_pesos)<-NULL\n",
    "\n",
    "# Comparamos\n",
    "metrics_df <- rbind(metrics_df, df_ranger_sens_pesos)\n",
    "\n",
    "metrics_df"
   ]
  },
  {
   "cell_type": "markdown",
   "id": "d588ac49-1512-42bd-818d-23e8f2cf89a5",
   "metadata": {},
   "source": [
    "### Remuestreo\n",
    "\n"
   ]
  },
  {
   "cell_type": "markdown",
   "id": "72014e30-053f-4f44-94df-333995d28333",
   "metadata": {},
   "source": [
    "<div >\n",
    "<img src = \"../Lecture08/figs/sampling_methods.png\" />\n",
    "</div>"
   ]
  },
  {
   "cell_type": "markdown",
   "id": "8520d011-79f4-4d31-8978-983b12ef9116",
   "metadata": {},
   "source": [
    "### Submuestreo (*Down Sampling*)"
   ]
  },
  {
   "cell_type": "code",
   "execution_count": 59,
   "id": "287b1d7f-3004-4577-988d-9b417ca6d753",
   "metadata": {
    "vscode": {
     "languageId": "r"
    }
   },
   "outputs": [
    {
     "data": {
      "text/html": [
       "<style>\n",
       ".list-inline {list-style: none; margin:0; padding: 0}\n",
       ".list-inline>li {display: inline-block}\n",
       ".list-inline>li:not(:last-child)::after {content: \"\\00b7\"; padding: 0 .5ex}\n",
       "</style>\n",
       "<ol class=list-inline><li>12054</li><li>10</li></ol>\n"
      ],
      "text/latex": [
       "\\begin{enumerate*}\n",
       "\\item 12054\n",
       "\\item 10\n",
       "\\end{enumerate*}\n"
      ],
      "text/markdown": [
       "1. 12054\n",
       "2. 10\n",
       "\n",
       "\n"
      ],
      "text/plain": [
       "[1] 12054    10"
      ]
     },
     "metadata": {},
     "output_type": "display_data"
    }
   ],
   "source": [
    "set.seed(1103)\n",
    "downSampledTrain <- downSample(x = train,\n",
    "                           y = train$desempleado,\n",
    "                           ## keep the class variable name the same:\n",
    "                           yname = \"desempleado\")\n",
    "dim(train)\n"
   ]
  },
  {
   "cell_type": "code",
   "execution_count": 60,
   "id": "bbd58084-1da1-4544-8ab6-129ca0bc3a36",
   "metadata": {
    "vscode": {
     "languageId": "r"
    }
   },
   "outputs": [
    {
     "data": {
      "text/html": [
       "<style>\n",
       ".list-inline {list-style: none; margin:0; padding: 0}\n",
       ".list-inline>li {display: inline-block}\n",
       ".list-inline>li:not(:last-child)::after {content: \"\\00b7\"; padding: 0 .5ex}\n",
       "</style>\n",
       "<ol class=list-inline><li>2040</li><li>11</li></ol>\n"
      ],
      "text/latex": [
       "\\begin{enumerate*}\n",
       "\\item 2040\n",
       "\\item 11\n",
       "\\end{enumerate*}\n"
      ],
      "text/markdown": [
       "1. 2040\n",
       "2. 11\n",
       "\n",
       "\n"
      ],
      "text/plain": [
       "[1] 2040   11"
      ]
     },
     "metadata": {},
     "output_type": "display_data"
    }
   ],
   "source": [
    "dim(downSampledTrain)"
   ]
  },
  {
   "cell_type": "code",
   "execution_count": 61,
   "id": "c7f13f49-2058-4db1-99b4-b3a98d5c5eca",
   "metadata": {
    "vscode": {
     "languageId": "r"
    }
   },
   "outputs": [
    {
     "data": {
      "text/plain": [
       "\n",
       "desempleado    empleado \n",
       "       1020        1020 "
      ]
     },
     "metadata": {},
     "output_type": "display_data"
    }
   ],
   "source": [
    "table(downSampledTrain$desempleado)"
   ]
  },
  {
   "cell_type": "code",
   "execution_count": 62,
   "id": "096f6a21-df64-4ff2-b65d-42aacee06e92",
   "metadata": {
    "vscode": {
     "languageId": "r"
    }
   },
   "outputs": [
    {
     "data": {
      "text/plain": [
       "Random Forest \n",
       "\n",
       "2040 samples\n",
       "   9 predictor\n",
       "   2 classes: 'desempleado', 'empleado' \n",
       "\n",
       "No pre-processing\n",
       "Resampling: Cross-Validated (5 fold) \n",
       "Summary of sample sizes: 1632, 1632, 1632, 1632, 1632 \n",
       "Resampling results across tuning parameters:\n",
       "\n",
       "  mtry  min.node.size  ROC        Sens       Spec       Accuracy   Kappa    \n",
       "  3     30             0.7731017  0.7205882  0.6960784  0.7083333  0.4166667\n",
       "  3     50             0.7716551  0.7147059  0.6950980  0.7049020  0.4098039\n",
       "  5     30             0.7752739  0.7362745  0.6980392  0.7171569  0.4343137\n",
       "  5     50             0.7761390  0.7303922  0.6970588  0.7137255  0.4274510\n",
       "  9     30             0.7764562  0.7303922  0.7039216  0.7171569  0.4343137\n",
       "  9     50             0.7778258  0.7245098  0.7127451  0.7186275  0.4372549\n",
       "  AUC        Precision  Recall     F        \n",
       "  0.7508669  0.7036188  0.7205882  0.7118694\n",
       "  0.7476141  0.7014283  0.7147059  0.7078288\n",
       "  0.7499357  0.7092571  0.7362745  0.7224145\n",
       "  0.7508643  0.7070707  0.7303922  0.7183522\n",
       "  0.7526448  0.7118469  0.7303922  0.7208409\n",
       "  0.7529677  0.7161189  0.7245098  0.7201916\n",
       "\n",
       "Tuning parameter 'splitrule' was held constant at a value of gini\n",
       "Sens was used to select the optimal model using the largest value.\n",
       "The final values used for the model were mtry = 5, splitrule = gini\n",
       " and min.node.size = 30."
      ]
     },
     "metadata": {},
     "output_type": "display_data"
    }
   ],
   "source": [
    "\n",
    "set.seed(123)  # Fijamos semilla para reproducibilidad garantizando que todos los modelos se entrenan con las mismas particiones, asegurando una comparación justa.\n",
    "\n",
    "\n",
    "tree_ranger_downsampple <- train(desempleado~edad+mujer+nivel_ed+ parentesco +\n",
    "                        estado_civil+tipo_vivienda+ing_tot_fam+total_miembros_hogar+miembros_hogar_menores10,  # Fórmula del modelo\n",
    "     data = downSampledTrain,  # Dataset de entrenamiento\n",
    "    method = \"ranger\",  # Usamos el motor ranger para Random Forests\n",
    "    trControl = ctrl_multiStats,  # Especificamos los controles de validación cruzada definidos antes\n",
    "    tuneGrid = expand.grid(   # Definimos la grilla de hiperparámetros a explorar\n",
    "        mtry = c(3,5,9),  # Número de predictores seleccionados al azar en cada división\n",
    "        splitrule = \"gini\",  # Regla de partición basada en la reducción de varianza (regresión)\n",
    "        min.node.size = c(30, 50)  # Tamaño mínimo de nodos terminales\n",
    "    ),\n",
    "    metric = \"Sens\",  # Optimiza la métrica de sensibilidad (recall para la clase positiva)\n",
    "    num.trees = 500\n",
    ")\n",
    "\n",
    "\n",
    "tree_ranger_downsampple  \n",
    "\n"
   ]
  },
  {
   "cell_type": "code",
   "execution_count": 63,
   "id": "d494c232-8f52-426e-b644-e6275b0cd41a",
   "metadata": {
    "vscode": {
     "languageId": "r"
    }
   },
   "outputs": [],
   "source": [
    "# Evaluando en el Test Set\n",
    "test<- test  %>% mutate(desempleo_ranger_downsample=predict(tree_ranger_downsampple,newdata = test,\n",
    "                           type = \"raw\"))"
   ]
  },
  {
   "cell_type": "code",
   "execution_count": 64,
   "id": "92fe0d99-2caa-4fc8-a0dc-258443ae6368",
   "metadata": {
    "vscode": {
     "languageId": "r"
    }
   },
   "outputs": [
    {
     "data": {
      "text/plain": [
       "Confusion Matrix and Statistics\n",
       "\n",
       "             Reference\n",
       "Prediction    desempleado empleado\n",
       "  desempleado         106      539\n",
       "  empleado             31     1287\n",
       "                                         \n",
       "               Accuracy : 0.7096         \n",
       "                 95% CI : (0.689, 0.7296)\n",
       "    No Information Rate : 0.9302         \n",
       "    P-Value [Acc > NIR] : 1              \n",
       "                                         \n",
       "                  Kappa : 0.1763         \n",
       "                                         \n",
       " Mcnemar's Test P-Value : <2e-16         \n",
       "                                         \n",
       "              Precision : 0.16434        \n",
       "                 Recall : 0.77372        \n",
       "                     F1 : 0.27110        \n",
       "             Prevalence : 0.06979        \n",
       "         Detection Rate : 0.05400        \n",
       "   Detection Prevalence : 0.32858        \n",
       "      Balanced Accuracy : 0.73927        \n",
       "                                         \n",
       "       'Positive' Class : desempleado    \n",
       "                                         "
      ]
     },
     "metadata": {},
     "output_type": "display_data"
    }
   ],
   "source": [
    "# Matriz de Confusión\n",
    "cm_downsample <- confusionMatrix(data = test$desempleo_ranger_downsample, \n",
    "                reference = test$desempleado, positive=\"desempleado\", mode = \"prec_recall\")\n",
    "\n",
    "cm_downsample"
   ]
  },
  {
   "cell_type": "code",
   "execution_count": 65,
   "id": "d01a3f7b-e134-438f-b7b3-25c55e4dce16",
   "metadata": {
    "vscode": {
     "languageId": "r"
    }
   },
   "outputs": [
    {
     "data": {
      "text/html": [
       "<table class=\"dataframe\">\n",
       "<caption>A data.frame: 6 × 5</caption>\n",
       "<thead>\n",
       "\t<tr><th scope=col>Model</th><th scope=col>Accuracy</th><th scope=col>Precision</th><th scope=col>Recall</th><th scope=col>F1_Score</th></tr>\n",
       "\t<tr><th scope=col>&lt;chr&gt;</th><th scope=col>&lt;dbl&gt;</th><th scope=col>&lt;dbl&gt;</th><th scope=col>&lt;dbl&gt;</th><th scope=col>&lt;dbl&gt;</th></tr>\n",
       "</thead>\n",
       "<tbody>\n",
       "\t<tr><td>Ranger_Basico            </td><td>0.9317371</td><td>0.8000000</td><td>0.02919708</td><td>0.05633803</td></tr>\n",
       "\t<tr><td>Ranger_Sens              </td><td>0.9337748</td><td>0.6842105</td><td>0.09489051</td><td>0.16666667</td></tr>\n",
       "\t<tr><td>Ranger_Recall_Diff_cutoff</td><td>0.7182883</td><td>0.1612378</td><td>0.72262774</td><td>0.26364847</td></tr>\n",
       "\t<tr><td>Ranger_Recall_PR         </td><td>0.8660214</td><td>0.2613636</td><td>0.50364964</td><td>0.34413965</td></tr>\n",
       "\t<tr><td>Ranger_Recall_pesos      </td><td>0.7687213</td><td>0.1873767</td><td>0.69343066</td><td>0.29503106</td></tr>\n",
       "\t<tr><td>Downsample               </td><td>0.7096281</td><td>0.1643411</td><td>0.77372263</td><td>0.27109974</td></tr>\n",
       "</tbody>\n",
       "</table>\n"
      ],
      "text/latex": [
       "A data.frame: 6 × 5\n",
       "\\begin{tabular}{lllll}\n",
       " Model & Accuracy & Precision & Recall & F1\\_Score\\\\\n",
       " <chr> & <dbl> & <dbl> & <dbl> & <dbl>\\\\\n",
       "\\hline\n",
       "\t Ranger\\_Basico             & 0.9317371 & 0.8000000 & 0.02919708 & 0.05633803\\\\\n",
       "\t Ranger\\_Sens               & 0.9337748 & 0.6842105 & 0.09489051 & 0.16666667\\\\\n",
       "\t Ranger\\_Recall\\_Diff\\_cutoff & 0.7182883 & 0.1612378 & 0.72262774 & 0.26364847\\\\\n",
       "\t Ranger\\_Recall\\_PR          & 0.8660214 & 0.2613636 & 0.50364964 & 0.34413965\\\\\n",
       "\t Ranger\\_Recall\\_pesos       & 0.7687213 & 0.1873767 & 0.69343066 & 0.29503106\\\\\n",
       "\t Downsample                & 0.7096281 & 0.1643411 & 0.77372263 & 0.27109974\\\\\n",
       "\\end{tabular}\n"
      ],
      "text/markdown": [
       "\n",
       "A data.frame: 6 × 5\n",
       "\n",
       "| Model &lt;chr&gt; | Accuracy &lt;dbl&gt; | Precision &lt;dbl&gt; | Recall &lt;dbl&gt; | F1_Score &lt;dbl&gt; |\n",
       "|---|---|---|---|---|\n",
       "| Ranger_Basico             | 0.9317371 | 0.8000000 | 0.02919708 | 0.05633803 |\n",
       "| Ranger_Sens               | 0.9337748 | 0.6842105 | 0.09489051 | 0.16666667 |\n",
       "| Ranger_Recall_Diff_cutoff | 0.7182883 | 0.1612378 | 0.72262774 | 0.26364847 |\n",
       "| Ranger_Recall_PR          | 0.8660214 | 0.2613636 | 0.50364964 | 0.34413965 |\n",
       "| Ranger_Recall_pesos       | 0.7687213 | 0.1873767 | 0.69343066 | 0.29503106 |\n",
       "| Downsample                | 0.7096281 | 0.1643411 | 0.77372263 | 0.27109974 |\n",
       "\n"
      ],
      "text/plain": [
       "  Model                     Accuracy  Precision Recall     F1_Score  \n",
       "1 Ranger_Basico             0.9317371 0.8000000 0.02919708 0.05633803\n",
       "2 Ranger_Sens               0.9337748 0.6842105 0.09489051 0.16666667\n",
       "3 Ranger_Recall_Diff_cutoff 0.7182883 0.1612378 0.72262774 0.26364847\n",
       "4 Ranger_Recall_PR          0.8660214 0.2613636 0.50364964 0.34413965\n",
       "5 Ranger_Recall_pesos       0.7687213 0.1873767 0.69343066 0.29503106\n",
       "6 Downsample                0.7096281 0.1643411 0.77372263 0.27109974"
      ]
     },
     "metadata": {},
     "output_type": "display_data"
    }
   ],
   "source": [
    "# guardo en un data frame\n",
    "df_ranger_downsample <- data.frame(\n",
    "  Model = \"Downsample\",\n",
    "  Accuracy = cm_downsample$overall[\"Accuracy\"],\n",
    "  Precision = cm_downsample$byClass[\"Precision\"],\n",
    "  Recall = cm_downsample$byClass[\"Recall\"],\n",
    "  F1_Score = cm_downsample$byClass[\"F1\"]\n",
    ")\n",
    "#  Elimino los nombres de las filas que no informan nada.\n",
    "rownames(df_ranger_downsample)<-NULL\n",
    "\n",
    "# Comparamos\n",
    "metrics_df <- rbind(metrics_df, df_ranger_downsample)\n",
    "\n",
    "metrics_df"
   ]
  },
  {
   "cell_type": "markdown",
   "id": "82a2db2b-3bc8-4b5a-829e-86d2eff0a79a",
   "metadata": {},
   "source": [
    "### Sobremuestreo (*Up Sampling*)"
   ]
  },
  {
   "cell_type": "code",
   "execution_count": 66,
   "id": "927084fe-8ff7-4978-9e94-d086b0cdb8d5",
   "metadata": {
    "vscode": {
     "languageId": "r"
    }
   },
   "outputs": [
    {
     "data": {
      "text/html": [
       "<style>\n",
       ".list-inline {list-style: none; margin:0; padding: 0}\n",
       ".list-inline>li {display: inline-block}\n",
       ".list-inline>li:not(:last-child)::after {content: \"\\00b7\"; padding: 0 .5ex}\n",
       "</style>\n",
       "<ol class=list-inline><li>12054</li><li>10</li></ol>\n"
      ],
      "text/latex": [
       "\\begin{enumerate*}\n",
       "\\item 12054\n",
       "\\item 10\n",
       "\\end{enumerate*}\n"
      ],
      "text/markdown": [
       "1. 12054\n",
       "2. 10\n",
       "\n",
       "\n"
      ],
      "text/plain": [
       "[1] 12054    10"
      ]
     },
     "metadata": {},
     "output_type": "display_data"
    }
   ],
   "source": [
    "set.seed(1103)\n",
    "upSampledTrain <- upSample(x = train,\n",
    "                           y = train$desempleado,\n",
    "                           yname = \"desempleado\")\n",
    "dim(train)"
   ]
  },
  {
   "cell_type": "code",
   "execution_count": 67,
   "id": "6e03511c-0b1e-4bd8-a9cd-226c2dd5cd82",
   "metadata": {
    "vscode": {
     "languageId": "r"
    }
   },
   "outputs": [
    {
     "data": {
      "text/html": [
       "<style>\n",
       ".list-inline {list-style: none; margin:0; padding: 0}\n",
       ".list-inline>li {display: inline-block}\n",
       ".list-inline>li:not(:last-child)::after {content: \"\\00b7\"; padding: 0 .5ex}\n",
       "</style>\n",
       "<ol class=list-inline><li>22068</li><li>11</li></ol>\n"
      ],
      "text/latex": [
       "\\begin{enumerate*}\n",
       "\\item 22068\n",
       "\\item 11\n",
       "\\end{enumerate*}\n"
      ],
      "text/markdown": [
       "1. 22068\n",
       "2. 11\n",
       "\n",
       "\n"
      ],
      "text/plain": [
       "[1] 22068    11"
      ]
     },
     "metadata": {},
     "output_type": "display_data"
    }
   ],
   "source": [
    "dim(upSampledTrain)"
   ]
  },
  {
   "cell_type": "code",
   "execution_count": 68,
   "id": "381a77a3-d40f-487c-969a-c493a76626c4",
   "metadata": {
    "vscode": {
     "languageId": "r"
    }
   },
   "outputs": [
    {
     "data": {
      "text/plain": [
       "\n",
       "desempleado    empleado \n",
       "      11034       11034 "
      ]
     },
     "metadata": {},
     "output_type": "display_data"
    }
   ],
   "source": [
    "table(upSampledTrain$desempleado)"
   ]
  },
  {
   "cell_type": "code",
   "execution_count": 69,
   "id": "79232af0-aa21-4847-aa91-72549ad02f7d",
   "metadata": {
    "vscode": {
     "languageId": "r"
    }
   },
   "outputs": [
    {
     "data": {
      "text/plain": [
       "Random Forest \n",
       "\n",
       "22068 samples\n",
       "    9 predictor\n",
       "    2 classes: 'desempleado', 'empleado' \n",
       "\n",
       "No pre-processing\n",
       "Resampling: Cross-Validated (5 fold) \n",
       "Summary of sample sizes: 17655, 17654, 17654, 17655, 17654 \n",
       "Resampling results across tuning parameters:\n",
       "\n",
       "  mtry  min.node.size  ROC        Sens       Spec       Accuracy   Kappa    \n",
       "  3     30             0.9088407  0.8672281  0.7946343  0.8309315  0.6618627\n",
       "  3     50             0.8952417  0.8513683  0.7816746  0.8165217  0.6330432\n",
       "  5     30             0.9664372  0.9524198  0.8591613  0.9057910  0.8115817\n",
       "  5     50             0.9481912  0.9208809  0.8353260  0.8781038  0.7562073\n",
       "  9     30             0.9875294  0.9871305  0.9074666  0.9472988  0.8945976\n",
       "  9     50             0.9725544  0.9575853  0.8800056  0.9187958  0.8375915\n",
       "  AUC        Precision  Recall     F        \n",
       "  0.8935888  0.8085716  0.8672281  0.8368571\n",
       "  0.8790588  0.7959114  0.8513683  0.8226987\n",
       "  0.9583976  0.8712051  0.9524198  0.9099927\n",
       "  0.9374102  0.8483191  0.9208809  0.8830904\n",
       "  0.9833208  0.9143281  0.9871305  0.9493266\n",
       "  0.9660023  0.8886909  0.9575853  0.9218360\n",
       "\n",
       "Tuning parameter 'splitrule' was held constant at a value of gini\n",
       "Sens was used to select the optimal model using the largest value.\n",
       "The final values used for the model were mtry = 9, splitrule = gini\n",
       " and min.node.size = 30."
      ]
     },
     "metadata": {},
     "output_type": "display_data"
    }
   ],
   "source": [
    "\n",
    "set.seed(123)  # Fijamos semilla para reproducibilidad garantizando que todos los modelos se entrenan con las mismas particiones, asegurando una comparación justa.\n",
    "\n",
    "\n",
    "tree_ranger_upsample <- train(desempleado~edad+mujer+nivel_ed+ parentesco +\n",
    "                        estado_civil+tipo_vivienda+ing_tot_fam+total_miembros_hogar+miembros_hogar_menores10,  # Fórmula del modelo\n",
    "     data = upSampledTrain,  # Dataset de entrenamiento\n",
    "    method = \"ranger\",  # Usamos el motor ranger para Random Forests\n",
    "    trControl = ctrl_multiStats,  # Especificamos los controles de validación cruzada definidos antes\n",
    "    tuneGrid = expand.grid(   # Definimos la grilla de hiperparámetros a explorar\n",
    "        mtry = c(3,5,9),  # Número de predictores seleccionados al azar en cada división\n",
    "        splitrule = \"gini\",  # Regla de partición basada en la reducción de varianza (regresión)\n",
    "        min.node.size = c(30, 50)  # Tamaño mínimo de nodos terminales\n",
    "    ),\n",
    "    metric = \"Sens\",  # Optimiza la métrica de sensibilidad (recall para la clase positiva)\n",
    "    num.trees = 500\n",
    ")\n",
    "\n",
    "\n",
    "tree_ranger_upsample\n",
    "\n"
   ]
  },
  {
   "cell_type": "code",
   "execution_count": 70,
   "id": "130db2c7-2d12-469e-a09f-4c7b84f70222",
   "metadata": {
    "vscode": {
     "languageId": "r"
    }
   },
   "outputs": [],
   "source": [
    "# Evaluando en el Test Set\n",
    "test<- test  %>% mutate(desempleo_ranger_upsample=predict(tree_ranger_upsample,newdata = test,\n",
    "                           type = \"raw\"))"
   ]
  },
  {
   "cell_type": "code",
   "execution_count": 71,
   "id": "0d474b5e-7853-4b2b-9ca9-9892eb38b831",
   "metadata": {
    "vscode": {
     "languageId": "r"
    }
   },
   "outputs": [
    {
     "data": {
      "text/plain": [
       "Confusion Matrix and Statistics\n",
       "\n",
       "             Reference\n",
       "Prediction    desempleado empleado\n",
       "  desempleado          40      109\n",
       "  empleado             97     1717\n",
       "                                          \n",
       "               Accuracy : 0.8951          \n",
       "                 95% CI : (0.8807, 0.9083)\n",
       "    No Information Rate : 0.9302          \n",
       "    P-Value [Acc > NIR] : 1.0000          \n",
       "                                          \n",
       "                  Kappa : 0.2232          \n",
       "                                          \n",
       " Mcnemar's Test P-Value : 0.4434          \n",
       "                                          \n",
       "              Precision : 0.26846         \n",
       "                 Recall : 0.29197         \n",
       "                     F1 : 0.27972         \n",
       "             Prevalence : 0.06979         \n",
       "         Detection Rate : 0.02038         \n",
       "   Detection Prevalence : 0.07590         \n",
       "      Balanced Accuracy : 0.61614         \n",
       "                                          \n",
       "       'Positive' Class : desempleado     \n",
       "                                          "
      ]
     },
     "metadata": {},
     "output_type": "display_data"
    }
   ],
   "source": [
    "# Matriz de Confusión\n",
    "cm_upsample <- confusionMatrix(data = test$desempleo_ranger_upsample, \n",
    "                reference = test$desempleado, positive=\"desempleado\", mode = \"prec_recall\")\n",
    "cm_upsample"
   ]
  },
  {
   "cell_type": "code",
   "execution_count": 72,
   "id": "a8538ec1-68c6-4b6b-8efc-fa1457748788",
   "metadata": {
    "vscode": {
     "languageId": "r"
    }
   },
   "outputs": [
    {
     "data": {
      "text/html": [
       "<table class=\"dataframe\">\n",
       "<caption>A data.frame: 7 × 5</caption>\n",
       "<thead>\n",
       "\t<tr><th scope=col>Model</th><th scope=col>Accuracy</th><th scope=col>Precision</th><th scope=col>Recall</th><th scope=col>F1_Score</th></tr>\n",
       "\t<tr><th scope=col>&lt;chr&gt;</th><th scope=col>&lt;dbl&gt;</th><th scope=col>&lt;dbl&gt;</th><th scope=col>&lt;dbl&gt;</th><th scope=col>&lt;dbl&gt;</th></tr>\n",
       "</thead>\n",
       "<tbody>\n",
       "\t<tr><td>Ranger_Basico            </td><td>0.9317371</td><td>0.8000000</td><td>0.02919708</td><td>0.05633803</td></tr>\n",
       "\t<tr><td>Ranger_Sens              </td><td>0.9337748</td><td>0.6842105</td><td>0.09489051</td><td>0.16666667</td></tr>\n",
       "\t<tr><td>Ranger_Recall_Diff_cutoff</td><td>0.7182883</td><td>0.1612378</td><td>0.72262774</td><td>0.26364847</td></tr>\n",
       "\t<tr><td>Ranger_Recall_PR         </td><td>0.8660214</td><td>0.2613636</td><td>0.50364964</td><td>0.34413965</td></tr>\n",
       "\t<tr><td>Ranger_Recall_pesos      </td><td>0.7687213</td><td>0.1873767</td><td>0.69343066</td><td>0.29503106</td></tr>\n",
       "\t<tr><td>Downsample               </td><td>0.7096281</td><td>0.1643411</td><td>0.77372263</td><td>0.27109974</td></tr>\n",
       "\t<tr><td>Upsample                 </td><td>0.8950586</td><td>0.2684564</td><td>0.29197080</td><td>0.27972028</td></tr>\n",
       "</tbody>\n",
       "</table>\n"
      ],
      "text/latex": [
       "A data.frame: 7 × 5\n",
       "\\begin{tabular}{lllll}\n",
       " Model & Accuracy & Precision & Recall & F1\\_Score\\\\\n",
       " <chr> & <dbl> & <dbl> & <dbl> & <dbl>\\\\\n",
       "\\hline\n",
       "\t Ranger\\_Basico             & 0.9317371 & 0.8000000 & 0.02919708 & 0.05633803\\\\\n",
       "\t Ranger\\_Sens               & 0.9337748 & 0.6842105 & 0.09489051 & 0.16666667\\\\\n",
       "\t Ranger\\_Recall\\_Diff\\_cutoff & 0.7182883 & 0.1612378 & 0.72262774 & 0.26364847\\\\\n",
       "\t Ranger\\_Recall\\_PR          & 0.8660214 & 0.2613636 & 0.50364964 & 0.34413965\\\\\n",
       "\t Ranger\\_Recall\\_pesos       & 0.7687213 & 0.1873767 & 0.69343066 & 0.29503106\\\\\n",
       "\t Downsample                & 0.7096281 & 0.1643411 & 0.77372263 & 0.27109974\\\\\n",
       "\t Upsample                  & 0.8950586 & 0.2684564 & 0.29197080 & 0.27972028\\\\\n",
       "\\end{tabular}\n"
      ],
      "text/markdown": [
       "\n",
       "A data.frame: 7 × 5\n",
       "\n",
       "| Model &lt;chr&gt; | Accuracy &lt;dbl&gt; | Precision &lt;dbl&gt; | Recall &lt;dbl&gt; | F1_Score &lt;dbl&gt; |\n",
       "|---|---|---|---|---|\n",
       "| Ranger_Basico             | 0.9317371 | 0.8000000 | 0.02919708 | 0.05633803 |\n",
       "| Ranger_Sens               | 0.9337748 | 0.6842105 | 0.09489051 | 0.16666667 |\n",
       "| Ranger_Recall_Diff_cutoff | 0.7182883 | 0.1612378 | 0.72262774 | 0.26364847 |\n",
       "| Ranger_Recall_PR          | 0.8660214 | 0.2613636 | 0.50364964 | 0.34413965 |\n",
       "| Ranger_Recall_pesos       | 0.7687213 | 0.1873767 | 0.69343066 | 0.29503106 |\n",
       "| Downsample                | 0.7096281 | 0.1643411 | 0.77372263 | 0.27109974 |\n",
       "| Upsample                  | 0.8950586 | 0.2684564 | 0.29197080 | 0.27972028 |\n",
       "\n"
      ],
      "text/plain": [
       "  Model                     Accuracy  Precision Recall     F1_Score  \n",
       "1 Ranger_Basico             0.9317371 0.8000000 0.02919708 0.05633803\n",
       "2 Ranger_Sens               0.9337748 0.6842105 0.09489051 0.16666667\n",
       "3 Ranger_Recall_Diff_cutoff 0.7182883 0.1612378 0.72262774 0.26364847\n",
       "4 Ranger_Recall_PR          0.8660214 0.2613636 0.50364964 0.34413965\n",
       "5 Ranger_Recall_pesos       0.7687213 0.1873767 0.69343066 0.29503106\n",
       "6 Downsample                0.7096281 0.1643411 0.77372263 0.27109974\n",
       "7 Upsample                  0.8950586 0.2684564 0.29197080 0.27972028"
      ]
     },
     "metadata": {},
     "output_type": "display_data"
    }
   ],
   "source": [
    "# guardo en un data frame\n",
    "df_ranger_upsample <- data.frame(\n",
    "  Model = \"Upsample\",\n",
    "  Accuracy = cm_upsample$overall[\"Accuracy\"],\n",
    "  Precision = cm_upsample$byClass[\"Precision\"],\n",
    "  Recall = cm_upsample$byClass[\"Recall\"],\n",
    "  F1_Score = cm_upsample$byClass[\"F1\"]\n",
    ")\n",
    "#  Elimino los nombres de las filas que no informan nada.\n",
    "rownames(df_ranger_upsample)<-NULL\n",
    "\n",
    "# Comparamos\n",
    "metrics_df <- rbind(metrics_df, df_ranger_upsample)\n",
    "\n",
    "metrics_df"
   ]
  },
  {
   "cell_type": "markdown",
   "id": "0faa9147-abf1-4fff-a9bf-492741aec6a7",
   "metadata": {},
   "source": [
    "### SMOTE\n",
    "\n",
    "El synthetic minority over-sampling technique (SMOTE) (Chawla et al., 2002)  SMOTE sintetiza nuevos casos, para mejorar la muestra de la clase minoritaria. Para ello, se selecciona aleatoriamente un punto de datos de la clase minoritaria y se determinan sus K vecinos más cercanos (KNN). El nuevo punto de datos sintético es una combinación convexa aleatoria de los predictores del punto de datos seleccionado al azar y sus vecinos.\n",
    "\n",
    "Por ejemplo para un vecino cercano (K=1) el dato sintetico se genera\n",
    "   - Para cada observación $x_i $ de la clase minoritaria, se selecciona aleatoriamente uno de sus k vecinos más cercanos, $ x^{vecino}_{i} $.\n",
    "   - Luego, se genera un punto sintético $ x_{new} $ mediante interpolación lineal:\n",
    "\n",
    "$$\n",
    "x_{new} = (1 - \\lambda) x_i + \\lambda x^{vecino}_{i}\n",
    "$$\n",
    "\n",
    "donde $\\lambda $ es un valor aleatorio entre 0 y 1.\n",
    "\n",
    "\n",
    "\n",
    "En resumen, SMOTE ayuda a crear un balance generando nuevos puntos intermedios entre los ejemplos de la clase minoritaria, aumentando así su presencia en el conjunto de datos.\n"
   ]
  },
  {
   "cell_type": "markdown",
   "id": "b6cf6106-1bd8-4eae-b770-dee4b6d4cc48",
   "metadata": {},
   "source": [
    "<div >\n",
    "<img src = \"../Lecture08/figs/smote.png\" />\n",
    "</div>"
   ]
  },
  {
   "cell_type": "markdown",
   "id": "d1c4da41-779b-4490-9e3c-601c19645d2e",
   "metadata": {},
   "source": [
    "Hiperparámetros:\n",
    "   - **K**: Número de vecinos más cercanos. Es crucial porque determina la cantidad de variabilidad en los nuevos ejemplos generados.\n",
    "   - **$\\lambda$**: Factor de interpolación que controla dónde se ubica el nuevo punto entre los vecinos.\n",
    "\n",
    "Si bien el algoritmo SMOTE agrega nuevas muestras a la clase minoritaria a través de un muestreo ascendente, también puede reducir la muestra de casos de la clase mayoritaria a través de un muestreo aleatorio para ayudar a equilibrar el conjunto de entrenamiento."
   ]
  },
  {
   "cell_type": "code",
   "execution_count": 73,
   "id": "d3d2d421-6617-43b7-b49c-1397a3dce972",
   "metadata": {},
   "outputs": [],
   "source": [
    "multiStats <- function(...) c(twoClassSummary(...), defaultSummary(...), prSummary(...))\n",
    "\n",
    "\n",
    "# `twoClassSummary(...)`: Calcula métricas específicas para clasificación binaria, como AUC, sensibilidad y especificidad.  \n",
    "# `defaultSummary(...)`: Incluye métricas generales como precisión.  \n",
    "# `prSummary(...)`: Agrega métricas basadas en precisión y recall, útiles para datos desbalanceados.  \n",
    "\n",
    "\n",
    "ctrl_multiStats_SMOTE <- trainControl(\n",
    "  method = \"cv\",  # Usamos validación cruzada\n",
    "  number = 5,  # 5-fold cross-validation\n",
    "  sampling = \"smote\", #SMOTE\n",
    "  summaryFunction = multiStats,  # Usamos la función de evaluación personalizada\n",
    "  classProbs = TRUE,  # Habilita el cálculo de probabilidades para cada clase\n",
    "  verbose = FALSE,  # Evita mensajes innecesarios en la consola\n",
    "  savePredictions = TRUE  # Guarda las predicciones para análisis posterior\n",
    "    )\n"
   ]
  },
  {
   "cell_type": "code",
   "execution_count": 74,
   "id": "c750c541-bff6-4234-b782-5e54f0d2102d",
   "metadata": {},
   "outputs": [],
   "source": [
    "p_load(\"themis\")\n",
    "\n",
    "set.seed(123)  # Fijamos semilla para reproducibilidad garantizando que todos los modelos se entrenan con las mismas particiones, asegurando una comparación justa.\n",
    "\n",
    "\n",
    "tree_ranger_smote <- train(desempleado~edad+mujer+nivel_ed+ parentesco +\n",
    "                        estado_civil+tipo_vivienda+ing_tot_fam+total_miembros_hogar+miembros_hogar_menores10,  # Fórmula del modelo\n",
    "     data = train,  # Dataset de entrenamiento\n",
    "    method = \"ranger\",  # Usamos el motor ranger para Random Forests\n",
    "    trControl = ctrl_multiStats_SMOTE,  # Especificamos los controles de validación cruzada definidos antes\n",
    "    tuneGrid = expand.grid(   # Definimos la grilla de hiperparámetros a explorar\n",
    "        mtry = c(3,5,9),  # Número de predictores seleccionados al azar en cada división\n",
    "        splitrule = \"gini\",  # Regla de partición basada en la reducción de varianza (regresión)\n",
    "        min.node.size = c(30, 50)  # Tamaño mínimo de nodos terminales\n",
    "    ),\n",
    "    metric = \"Sens\",  # Optimiza la métrica de sensibilidad (recall para la clase positiva)\n",
    "    num.trees = 500\n",
    ")\n"
   ]
  },
  {
   "cell_type": "code",
   "execution_count": 75,
   "id": "5df95f23-eeda-425d-aa55-8247d379eaff",
   "metadata": {},
   "outputs": [
    {
     "data": {
      "text/plain": [
       "Random Forest \n",
       "\n",
       "12054 samples\n",
       "    9 predictor\n",
       "    2 classes: 'desempleado', 'empleado' \n",
       "\n",
       "No pre-processing\n",
       "Resampling: Cross-Validated (5 fold) \n",
       "Summary of sample sizes: 9643, 9643, 9643, 9643, 9644 \n",
       "Addtional sampling using SMOTE\n",
       "\n",
       "Resampling results across tuning parameters:\n",
       "\n",
       "  mtry  min.node.size  ROC        Sens        Spec       Accuracy   Kappa    \n",
       "  3     30             0.7649944  0.09803922  0.9855000  0.9104036  0.1260869\n",
       "  3     50             0.7658726  0.09901961  0.9837781  0.9089103  0.1229331\n",
       "  5     30             0.7710167  0.07450980  0.9892156  0.9118137  0.1001883\n",
       "  5     50             0.7695987  0.07745098  0.9875844  0.9105694  0.1008644\n",
       "  9     30             0.7688472  0.08235294  0.9878563  0.9112330  0.1084280\n",
       "  9     50             0.7707172  0.08235294  0.9880376  0.9113990  0.1092397\n",
       "  AUC        Precision  Recall      F        \n",
       "  0.2412411  0.3977990  0.09803922  0.1558440\n",
       "  0.2423611  0.3715185  0.09901961  0.1544800\n",
       "  0.2524356  0.3967060  0.07450980  0.1243425\n",
       "  0.2478056  0.3755000  0.07745098  0.1271383\n",
       "  0.2509219  0.3911259  0.08235294  0.1346092\n",
       "  0.2524805  0.4019138  0.08235294  0.1352829\n",
       "\n",
       "Tuning parameter 'splitrule' was held constant at a value of gini\n",
       "Sens was used to select the optimal model using the largest value.\n",
       "The final values used for the model were mtry = 3, splitrule = gini\n",
       " and min.node.size = 50."
      ]
     },
     "metadata": {},
     "output_type": "display_data"
    }
   ],
   "source": [
    "tree_ranger_smote"
   ]
  },
  {
   "cell_type": "code",
   "execution_count": 76,
   "id": "f6600274-7704-4dd3-b5f2-f118061a25b3",
   "metadata": {
    "vscode": {
     "languageId": "r"
    }
   },
   "outputs": [],
   "source": [
    "# Evaluando en el Test Set\n",
    "test<- test  %>% mutate(desempleado_hat_smote=predict(tree_ranger_smote,newdata = test,\n",
    "                           type = \"raw\"))"
   ]
  },
  {
   "cell_type": "code",
   "execution_count": 77,
   "id": "d52a1b55-4990-4289-bee5-714740820284",
   "metadata": {
    "vscode": {
     "languageId": "r"
    }
   },
   "outputs": [
    {
     "data": {
      "text/plain": [
       "Confusion Matrix and Statistics\n",
       "\n",
       "             Reference\n",
       "Prediction    desempleado empleado\n",
       "  desempleado          14       30\n",
       "  empleado            123     1796\n",
       "                                          \n",
       "               Accuracy : 0.9221          \n",
       "                 95% CI : (0.9093, 0.9335)\n",
       "    No Information Rate : 0.9302          \n",
       "    P-Value [Acc > NIR] : 0.9262          \n",
       "                                          \n",
       "                  Kappa : 0.125           \n",
       "                                          \n",
       " Mcnemar's Test P-Value : 1.024e-13       \n",
       "                                          \n",
       "              Precision : 0.318182        \n",
       "                 Recall : 0.102190        \n",
       "                     F1 : 0.154696        \n",
       "             Prevalence : 0.069791        \n",
       "         Detection Rate : 0.007132        \n",
       "   Detection Prevalence : 0.022415        \n",
       "      Balanced Accuracy : 0.542880        \n",
       "                                          \n",
       "       'Positive' Class : desempleado     \n",
       "                                          "
      ]
     },
     "metadata": {},
     "output_type": "display_data"
    }
   ],
   "source": [
    "# Matriz de Confusión\n",
    "cm_smote <- confusionMatrix(data = test$desempleado_hat_smote, \n",
    "                reference = test$desempleado, positive=\"desempleado\", mode = \"prec_recall\")\n",
    "\n",
    "cm_smote "
   ]
  },
  {
   "cell_type": "code",
   "execution_count": 78,
   "id": "2496cca2-67ec-4347-a064-a874d1927d0c",
   "metadata": {
    "vscode": {
     "languageId": "r"
    }
   },
   "outputs": [
    {
     "data": {
      "text/html": [
       "<table class=\"dataframe\">\n",
       "<caption>A data.frame: 8 × 5</caption>\n",
       "<thead>\n",
       "\t<tr><th scope=col>Model</th><th scope=col>Accuracy</th><th scope=col>Precision</th><th scope=col>Recall</th><th scope=col>F1_Score</th></tr>\n",
       "\t<tr><th scope=col>&lt;chr&gt;</th><th scope=col>&lt;dbl&gt;</th><th scope=col>&lt;dbl&gt;</th><th scope=col>&lt;dbl&gt;</th><th scope=col>&lt;dbl&gt;</th></tr>\n",
       "</thead>\n",
       "<tbody>\n",
       "\t<tr><td>Ranger_Basico            </td><td>0.9317371</td><td>0.8000000</td><td>0.02919708</td><td>0.05633803</td></tr>\n",
       "\t<tr><td>Ranger_Sens              </td><td>0.9337748</td><td>0.6842105</td><td>0.09489051</td><td>0.16666667</td></tr>\n",
       "\t<tr><td>Ranger_Recall_Diff_cutoff</td><td>0.7182883</td><td>0.1612378</td><td>0.72262774</td><td>0.26364847</td></tr>\n",
       "\t<tr><td>Ranger_Recall_PR         </td><td>0.8660214</td><td>0.2613636</td><td>0.50364964</td><td>0.34413965</td></tr>\n",
       "\t<tr><td>Ranger_Recall_pesos      </td><td>0.7687213</td><td>0.1873767</td><td>0.69343066</td><td>0.29503106</td></tr>\n",
       "\t<tr><td>Downsample               </td><td>0.7096281</td><td>0.1643411</td><td>0.77372263</td><td>0.27109974</td></tr>\n",
       "\t<tr><td>Upsample                 </td><td>0.8950586</td><td>0.2684564</td><td>0.29197080</td><td>0.27972028</td></tr>\n",
       "\t<tr><td>SMOTE                    </td><td>0.9220581</td><td>0.3181818</td><td>0.10218978</td><td>0.15469613</td></tr>\n",
       "</tbody>\n",
       "</table>\n"
      ],
      "text/latex": [
       "A data.frame: 8 × 5\n",
       "\\begin{tabular}{lllll}\n",
       " Model & Accuracy & Precision & Recall & F1\\_Score\\\\\n",
       " <chr> & <dbl> & <dbl> & <dbl> & <dbl>\\\\\n",
       "\\hline\n",
       "\t Ranger\\_Basico             & 0.9317371 & 0.8000000 & 0.02919708 & 0.05633803\\\\\n",
       "\t Ranger\\_Sens               & 0.9337748 & 0.6842105 & 0.09489051 & 0.16666667\\\\\n",
       "\t Ranger\\_Recall\\_Diff\\_cutoff & 0.7182883 & 0.1612378 & 0.72262774 & 0.26364847\\\\\n",
       "\t Ranger\\_Recall\\_PR          & 0.8660214 & 0.2613636 & 0.50364964 & 0.34413965\\\\\n",
       "\t Ranger\\_Recall\\_pesos       & 0.7687213 & 0.1873767 & 0.69343066 & 0.29503106\\\\\n",
       "\t Downsample                & 0.7096281 & 0.1643411 & 0.77372263 & 0.27109974\\\\\n",
       "\t Upsample                  & 0.8950586 & 0.2684564 & 0.29197080 & 0.27972028\\\\\n",
       "\t SMOTE                     & 0.9220581 & 0.3181818 & 0.10218978 & 0.15469613\\\\\n",
       "\\end{tabular}\n"
      ],
      "text/markdown": [
       "\n",
       "A data.frame: 8 × 5\n",
       "\n",
       "| Model &lt;chr&gt; | Accuracy &lt;dbl&gt; | Precision &lt;dbl&gt; | Recall &lt;dbl&gt; | F1_Score &lt;dbl&gt; |\n",
       "|---|---|---|---|---|\n",
       "| Ranger_Basico             | 0.9317371 | 0.8000000 | 0.02919708 | 0.05633803 |\n",
       "| Ranger_Sens               | 0.9337748 | 0.6842105 | 0.09489051 | 0.16666667 |\n",
       "| Ranger_Recall_Diff_cutoff | 0.7182883 | 0.1612378 | 0.72262774 | 0.26364847 |\n",
       "| Ranger_Recall_PR          | 0.8660214 | 0.2613636 | 0.50364964 | 0.34413965 |\n",
       "| Ranger_Recall_pesos       | 0.7687213 | 0.1873767 | 0.69343066 | 0.29503106 |\n",
       "| Downsample                | 0.7096281 | 0.1643411 | 0.77372263 | 0.27109974 |\n",
       "| Upsample                  | 0.8950586 | 0.2684564 | 0.29197080 | 0.27972028 |\n",
       "| SMOTE                     | 0.9220581 | 0.3181818 | 0.10218978 | 0.15469613 |\n",
       "\n"
      ],
      "text/plain": [
       "  Model                     Accuracy  Precision Recall     F1_Score  \n",
       "1 Ranger_Basico             0.9317371 0.8000000 0.02919708 0.05633803\n",
       "2 Ranger_Sens               0.9337748 0.6842105 0.09489051 0.16666667\n",
       "3 Ranger_Recall_Diff_cutoff 0.7182883 0.1612378 0.72262774 0.26364847\n",
       "4 Ranger_Recall_PR          0.8660214 0.2613636 0.50364964 0.34413965\n",
       "5 Ranger_Recall_pesos       0.7687213 0.1873767 0.69343066 0.29503106\n",
       "6 Downsample                0.7096281 0.1643411 0.77372263 0.27109974\n",
       "7 Upsample                  0.8950586 0.2684564 0.29197080 0.27972028\n",
       "8 SMOTE                     0.9220581 0.3181818 0.10218978 0.15469613"
      ]
     },
     "metadata": {},
     "output_type": "display_data"
    }
   ],
   "source": [
    "# guardo en un data frame\n",
    "df_ranger_smote <- data.frame(\n",
    "  Model = \"SMOTE\",\n",
    "  Accuracy = cm_smote$overall[\"Accuracy\"],\n",
    "  Precision = cm_smote$byClass[\"Precision\"],\n",
    "  Recall = cm_smote$byClass[\"Recall\"],\n",
    "  F1_Score = cm_smote$byClass[\"F1\"]\n",
    ")\n",
    "#  Elimino los nombres de las filas que no informan nada.\n",
    "rownames(df_ranger_smote)<-NULL\n",
    "\n",
    "# Comparamos\n",
    "metrics_df <- rbind(metrics_df, df_ranger_smote)\n",
    "\n",
    "metrics_df"
   ]
  },
  {
   "cell_type": "code",
   "execution_count": 79,
   "id": "6bac9d8b-302d-4840-9033-d524abea44f2",
   "metadata": {},
   "outputs": [
    {
     "data": {
      "text/html": [
       "<table class=\"dataframe\">\n",
       "<caption>A data.frame: 1 × 5</caption>\n",
       "<thead>\n",
       "\t<tr><th scope=col>Model</th><th scope=col>Accuracy</th><th scope=col>Precision</th><th scope=col>Recall</th><th scope=col>F1_Score</th></tr>\n",
       "\t<tr><th scope=col>&lt;chr&gt;</th><th scope=col>&lt;dbl&gt;</th><th scope=col>&lt;dbl&gt;</th><th scope=col>&lt;dbl&gt;</th><th scope=col>&lt;dbl&gt;</th></tr>\n",
       "</thead>\n",
       "<tbody>\n",
       "\t<tr><td>SMOTE</td><td>0.9220581</td><td>0.3181818</td><td>0.1021898</td><td>0.1546961</td></tr>\n",
       "</tbody>\n",
       "</table>\n"
      ],
      "text/latex": [
       "A data.frame: 1 × 5\n",
       "\\begin{tabular}{lllll}\n",
       " Model & Accuracy & Precision & Recall & F1\\_Score\\\\\n",
       " <chr> & <dbl> & <dbl> & <dbl> & <dbl>\\\\\n",
       "\\hline\n",
       "\t SMOTE & 0.9220581 & 0.3181818 & 0.1021898 & 0.1546961\\\\\n",
       "\\end{tabular}\n"
      ],
      "text/markdown": [
       "\n",
       "A data.frame: 1 × 5\n",
       "\n",
       "| Model &lt;chr&gt; | Accuracy &lt;dbl&gt; | Precision &lt;dbl&gt; | Recall &lt;dbl&gt; | F1_Score &lt;dbl&gt; |\n",
       "|---|---|---|---|---|\n",
       "| SMOTE | 0.9220581 | 0.3181818 | 0.1021898 | 0.1546961 |\n",
       "\n"
      ],
      "text/plain": [
       "  Model Accuracy  Precision Recall    F1_Score \n",
       "1 SMOTE 0.9220581 0.3181818 0.1021898 0.1546961"
      ]
     },
     "metadata": {},
     "output_type": "display_data"
    }
   ],
   "source": [
    "df_ranger_smote"
   ]
  },
  {
   "cell_type": "code",
   "execution_count": 80,
   "id": "e3c05223-653a-4c12-957b-413a45184f06",
   "metadata": {},
   "outputs": [
    {
     "data": {
      "text/html": [
       "<table class=\"dataframe\">\n",
       "<caption>A data.frame: 100 × 4</caption>\n",
       "<thead>\n",
       "\t<tr><th scope=col>threshold</th><th scope=col>precision</th><th scope=col>recall</th><th scope=col>F1</th></tr>\n",
       "\t<tr><th scope=col>&lt;dbl&gt;</th><th scope=col>&lt;dbl&gt;</th><th scope=col>&lt;dbl&gt;</th><th scope=col>&lt;dbl&gt;</th></tr>\n",
       "</thead>\n",
       "<tbody>\n",
       "\t<tr><td>0.00000000</td><td>0.08461921</td><td>1.0000000</td><td>0.1560349</td></tr>\n",
       "\t<tr><td>0.01010101</td><td>0.08934303</td><td>0.9915033</td><td>0.1639158</td></tr>\n",
       "\t<tr><td>0.02020202</td><td>0.09550894</td><td>0.9767974</td><td>0.1740042</td></tr>\n",
       "\t<tr><td>0.03030303</td><td>0.10225590</td><td>0.9591503</td><td>0.1848091</td></tr>\n",
       "\t<tr><td>0.04040404</td><td>0.10920702</td><td>0.9444444</td><td>0.1957762</td></tr>\n",
       "\t<tr><td>0.05050505</td><td>0.11612229</td><td>0.9259804</td><td>0.2063654</td></tr>\n",
       "\t<tr><td>0.06060606</td><td>0.12262751</td><td>0.9047386</td><td>0.2159811</td></tr>\n",
       "\t<tr><td>0.07070707</td><td>0.12924895</td><td>0.8866013</td><td>0.2256086</td></tr>\n",
       "\t<tr><td>0.08080808</td><td>0.13496854</td><td>0.8622549</td><td>0.2334026</td></tr>\n",
       "\t<tr><td>0.09090909</td><td>0.14097205</td><td>0.8431373</td><td>0.2415561</td></tr>\n",
       "\t<tr><td>0.10101010</td><td>0.14600954</td><td>0.8151961</td><td>0.2476607</td></tr>\n",
       "\t<tr><td>0.11111111</td><td>0.15149425</td><td>0.7893791</td><td>0.2542030</td></tr>\n",
       "\t<tr><td>0.12121212</td><td>0.15721936</td><td>0.7627451</td><td>0.2607020</td></tr>\n",
       "\t<tr><td>0.13131313</td><td>0.16317825</td><td>0.7375817</td><td>0.2672350</td></tr>\n",
       "\t<tr><td>0.14141414</td><td>0.16978417</td><td>0.7133987</td><td>0.2742893</td></tr>\n",
       "\t<tr><td>0.15151515</td><td>0.17584392</td><td>0.6877451</td><td>0.2800772</td></tr>\n",
       "\t<tr><td>0.16161616</td><td>0.18303133</td><td>0.6700980</td><td>0.2875272</td></tr>\n",
       "\t<tr><td>0.17171717</td><td>0.18840580</td><td>0.6436275</td><td>0.2914863</td></tr>\n",
       "\t<tr><td>0.18181818</td><td>0.19438589</td><td>0.6178105</td><td>0.2957256</td></tr>\n",
       "\t<tr><td>0.19191919</td><td>0.20016561</td><td>0.5924837</td><td>0.2992366</td></tr>\n",
       "\t<tr><td>0.20202020</td><td>0.20697219</td><td>0.5704248</td><td>0.3037369</td></tr>\n",
       "\t<tr><td>0.21212121</td><td>0.21376374</td><td>0.5496732</td><td>0.3078190</td></tr>\n",
       "\t<tr><td>0.22222222</td><td>0.22056317</td><td>0.5285948</td><td>0.3112522</td></tr>\n",
       "\t<tr><td>0.23232323</td><td>0.22674291</td><td>0.5053922</td><td>0.3130408</td></tr>\n",
       "\t<tr><td>0.24242424</td><td>0.23298532</td><td>0.4849673</td><td>0.3147569</td></tr>\n",
       "\t<tr><td>0.25252525</td><td>0.23929535</td><td>0.4638889</td><td>0.3157251</td></tr>\n",
       "\t<tr><td>0.26262626</td><td>0.24669403</td><td>0.4419935</td><td>0.3166520</td></tr>\n",
       "\t<tr><td>0.27272727</td><td>0.25478209</td><td>0.4222222</td><td>0.3177961</td></tr>\n",
       "\t<tr><td>0.28282828</td><td>0.26318027</td><td>0.4045752</td><td>0.3189078</td></tr>\n",
       "\t<tr><td>0.29292929</td><td>0.26952228</td><td>0.3834967</td><td>0.3165633</td></tr>\n",
       "\t<tr><td>⋮</td><td>⋮</td><td>⋮</td><td>⋮</td></tr>\n",
       "\t<tr><td>0.7070707</td><td>0.6166667</td><td>0.0060457516</td><td>0.0119741100</td></tr>\n",
       "\t<tr><td>0.7171717</td><td>0.6888889</td><td>0.0050653595</td><td>0.0100567721</td></tr>\n",
       "\t<tr><td>0.7272727</td><td>0.6969697</td><td>0.0037581699</td><td>0.0074760280</td></tr>\n",
       "\t<tr><td>0.7373737</td><td>0.7142857</td><td>0.0024509804</td><td>0.0048851979</td></tr>\n",
       "\t<tr><td>0.7474747</td><td>0.7777778</td><td>0.0022875817</td><td>0.0045617465</td></tr>\n",
       "\t<tr><td>0.7575758</td><td>0.8666667</td><td>0.0021241830</td><td>0.0042379788</td></tr>\n",
       "\t<tr><td>0.7676768</td><td>0.8461538</td><td>0.0017973856</td><td>0.0035871515</td></tr>\n",
       "\t<tr><td>0.7777778</td><td>0.7777778</td><td>0.0011437908</td><td>0.0022842225</td></tr>\n",
       "\t<tr><td>0.7878788</td><td>0.7142857</td><td>0.0008169935</td><td>0.0016321201</td></tr>\n",
       "\t<tr><td>0.7979798</td><td>0.6666667</td><td>0.0003267974</td><td>0.0006532745</td></tr>\n",
       "\t<tr><td>0.8080808</td><td>1.0000000</td><td>0.0003267974</td><td>0.0006533812</td></tr>\n",
       "\t<tr><td>0.8181818</td><td>1.0000000</td><td>0.0003267974</td><td>0.0006533812</td></tr>\n",
       "\t<tr><td>0.8282828</td><td>1.0000000</td><td>0.0001633987</td><td>0.0003267440</td></tr>\n",
       "\t<tr><td>0.8383838</td><td>1.0000000</td><td>0.0001633987</td><td>0.0003267440</td></tr>\n",
       "\t<tr><td>0.8484848</td><td>1.0000000</td><td>0.0001633987</td><td>0.0003267440</td></tr>\n",
       "\t<tr><td>0.8585859</td><td>1.0000000</td><td>0.0001633987</td><td>0.0003267440</td></tr>\n",
       "\t<tr><td>0.8686869</td><td>1.0000000</td><td>0.0001633987</td><td>0.0003267440</td></tr>\n",
       "\t<tr><td>0.8787879</td><td>      NaN</td><td>0.0000000000</td><td>         NaN</td></tr>\n",
       "\t<tr><td>0.8888889</td><td>      NaN</td><td>0.0000000000</td><td>         NaN</td></tr>\n",
       "\t<tr><td>0.8989899</td><td>      NaN</td><td>0.0000000000</td><td>         NaN</td></tr>\n",
       "\t<tr><td>0.9090909</td><td>      NaN</td><td>0.0000000000</td><td>         NaN</td></tr>\n",
       "\t<tr><td>0.9191919</td><td>      NaN</td><td>0.0000000000</td><td>         NaN</td></tr>\n",
       "\t<tr><td>0.9292929</td><td>      NaN</td><td>0.0000000000</td><td>         NaN</td></tr>\n",
       "\t<tr><td>0.9393939</td><td>      NaN</td><td>0.0000000000</td><td>         NaN</td></tr>\n",
       "\t<tr><td>0.9494949</td><td>      NaN</td><td>0.0000000000</td><td>         NaN</td></tr>\n",
       "\t<tr><td>0.9595960</td><td>      NaN</td><td>0.0000000000</td><td>         NaN</td></tr>\n",
       "\t<tr><td>0.9696970</td><td>      NaN</td><td>0.0000000000</td><td>         NaN</td></tr>\n",
       "\t<tr><td>0.9797980</td><td>      NaN</td><td>0.0000000000</td><td>         NaN</td></tr>\n",
       "\t<tr><td>0.9898990</td><td>      NaN</td><td>0.0000000000</td><td>         NaN</td></tr>\n",
       "\t<tr><td>1.0000000</td><td>      NaN</td><td>0.0000000000</td><td>         NaN</td></tr>\n",
       "</tbody>\n",
       "</table>\n"
      ],
      "text/latex": [
       "A data.frame: 100 × 4\n",
       "\\begin{tabular}{llll}\n",
       " threshold & precision & recall & F1\\\\\n",
       " <dbl> & <dbl> & <dbl> & <dbl>\\\\\n",
       "\\hline\n",
       "\t 0.00000000 & 0.08461921 & 1.0000000 & 0.1560349\\\\\n",
       "\t 0.01010101 & 0.08934303 & 0.9915033 & 0.1639158\\\\\n",
       "\t 0.02020202 & 0.09550894 & 0.9767974 & 0.1740042\\\\\n",
       "\t 0.03030303 & 0.10225590 & 0.9591503 & 0.1848091\\\\\n",
       "\t 0.04040404 & 0.10920702 & 0.9444444 & 0.1957762\\\\\n",
       "\t 0.05050505 & 0.11612229 & 0.9259804 & 0.2063654\\\\\n",
       "\t 0.06060606 & 0.12262751 & 0.9047386 & 0.2159811\\\\\n",
       "\t 0.07070707 & 0.12924895 & 0.8866013 & 0.2256086\\\\\n",
       "\t 0.08080808 & 0.13496854 & 0.8622549 & 0.2334026\\\\\n",
       "\t 0.09090909 & 0.14097205 & 0.8431373 & 0.2415561\\\\\n",
       "\t 0.10101010 & 0.14600954 & 0.8151961 & 0.2476607\\\\\n",
       "\t 0.11111111 & 0.15149425 & 0.7893791 & 0.2542030\\\\\n",
       "\t 0.12121212 & 0.15721936 & 0.7627451 & 0.2607020\\\\\n",
       "\t 0.13131313 & 0.16317825 & 0.7375817 & 0.2672350\\\\\n",
       "\t 0.14141414 & 0.16978417 & 0.7133987 & 0.2742893\\\\\n",
       "\t 0.15151515 & 0.17584392 & 0.6877451 & 0.2800772\\\\\n",
       "\t 0.16161616 & 0.18303133 & 0.6700980 & 0.2875272\\\\\n",
       "\t 0.17171717 & 0.18840580 & 0.6436275 & 0.2914863\\\\\n",
       "\t 0.18181818 & 0.19438589 & 0.6178105 & 0.2957256\\\\\n",
       "\t 0.19191919 & 0.20016561 & 0.5924837 & 0.2992366\\\\\n",
       "\t 0.20202020 & 0.20697219 & 0.5704248 & 0.3037369\\\\\n",
       "\t 0.21212121 & 0.21376374 & 0.5496732 & 0.3078190\\\\\n",
       "\t 0.22222222 & 0.22056317 & 0.5285948 & 0.3112522\\\\\n",
       "\t 0.23232323 & 0.22674291 & 0.5053922 & 0.3130408\\\\\n",
       "\t 0.24242424 & 0.23298532 & 0.4849673 & 0.3147569\\\\\n",
       "\t 0.25252525 & 0.23929535 & 0.4638889 & 0.3157251\\\\\n",
       "\t 0.26262626 & 0.24669403 & 0.4419935 & 0.3166520\\\\\n",
       "\t 0.27272727 & 0.25478209 & 0.4222222 & 0.3177961\\\\\n",
       "\t 0.28282828 & 0.26318027 & 0.4045752 & 0.3189078\\\\\n",
       "\t 0.29292929 & 0.26952228 & 0.3834967 & 0.3165633\\\\\n",
       "\t ⋮ & ⋮ & ⋮ & ⋮\\\\\n",
       "\t 0.7070707 & 0.6166667 & 0.0060457516 & 0.0119741100\\\\\n",
       "\t 0.7171717 & 0.6888889 & 0.0050653595 & 0.0100567721\\\\\n",
       "\t 0.7272727 & 0.6969697 & 0.0037581699 & 0.0074760280\\\\\n",
       "\t 0.7373737 & 0.7142857 & 0.0024509804 & 0.0048851979\\\\\n",
       "\t 0.7474747 & 0.7777778 & 0.0022875817 & 0.0045617465\\\\\n",
       "\t 0.7575758 & 0.8666667 & 0.0021241830 & 0.0042379788\\\\\n",
       "\t 0.7676768 & 0.8461538 & 0.0017973856 & 0.0035871515\\\\\n",
       "\t 0.7777778 & 0.7777778 & 0.0011437908 & 0.0022842225\\\\\n",
       "\t 0.7878788 & 0.7142857 & 0.0008169935 & 0.0016321201\\\\\n",
       "\t 0.7979798 & 0.6666667 & 0.0003267974 & 0.0006532745\\\\\n",
       "\t 0.8080808 & 1.0000000 & 0.0003267974 & 0.0006533812\\\\\n",
       "\t 0.8181818 & 1.0000000 & 0.0003267974 & 0.0006533812\\\\\n",
       "\t 0.8282828 & 1.0000000 & 0.0001633987 & 0.0003267440\\\\\n",
       "\t 0.8383838 & 1.0000000 & 0.0001633987 & 0.0003267440\\\\\n",
       "\t 0.8484848 & 1.0000000 & 0.0001633987 & 0.0003267440\\\\\n",
       "\t 0.8585859 & 1.0000000 & 0.0001633987 & 0.0003267440\\\\\n",
       "\t 0.8686869 & 1.0000000 & 0.0001633987 & 0.0003267440\\\\\n",
       "\t 0.8787879 &       NaN & 0.0000000000 &          NaN\\\\\n",
       "\t 0.8888889 &       NaN & 0.0000000000 &          NaN\\\\\n",
       "\t 0.8989899 &       NaN & 0.0000000000 &          NaN\\\\\n",
       "\t 0.9090909 &       NaN & 0.0000000000 &          NaN\\\\\n",
       "\t 0.9191919 &       NaN & 0.0000000000 &          NaN\\\\\n",
       "\t 0.9292929 &       NaN & 0.0000000000 &          NaN\\\\\n",
       "\t 0.9393939 &       NaN & 0.0000000000 &          NaN\\\\\n",
       "\t 0.9494949 &       NaN & 0.0000000000 &          NaN\\\\\n",
       "\t 0.9595960 &       NaN & 0.0000000000 &          NaN\\\\\n",
       "\t 0.9696970 &       NaN & 0.0000000000 &          NaN\\\\\n",
       "\t 0.9797980 &       NaN & 0.0000000000 &          NaN\\\\\n",
       "\t 0.9898990 &       NaN & 0.0000000000 &          NaN\\\\\n",
       "\t 1.0000000 &       NaN & 0.0000000000 &          NaN\\\\\n",
       "\\end{tabular}\n"
      ],
      "text/markdown": [
       "\n",
       "A data.frame: 100 × 4\n",
       "\n",
       "| threshold &lt;dbl&gt; | precision &lt;dbl&gt; | recall &lt;dbl&gt; | F1 &lt;dbl&gt; |\n",
       "|---|---|---|---|\n",
       "| 0.00000000 | 0.08461921 | 1.0000000 | 0.1560349 |\n",
       "| 0.01010101 | 0.08934303 | 0.9915033 | 0.1639158 |\n",
       "| 0.02020202 | 0.09550894 | 0.9767974 | 0.1740042 |\n",
       "| 0.03030303 | 0.10225590 | 0.9591503 | 0.1848091 |\n",
       "| 0.04040404 | 0.10920702 | 0.9444444 | 0.1957762 |\n",
       "| 0.05050505 | 0.11612229 | 0.9259804 | 0.2063654 |\n",
       "| 0.06060606 | 0.12262751 | 0.9047386 | 0.2159811 |\n",
       "| 0.07070707 | 0.12924895 | 0.8866013 | 0.2256086 |\n",
       "| 0.08080808 | 0.13496854 | 0.8622549 | 0.2334026 |\n",
       "| 0.09090909 | 0.14097205 | 0.8431373 | 0.2415561 |\n",
       "| 0.10101010 | 0.14600954 | 0.8151961 | 0.2476607 |\n",
       "| 0.11111111 | 0.15149425 | 0.7893791 | 0.2542030 |\n",
       "| 0.12121212 | 0.15721936 | 0.7627451 | 0.2607020 |\n",
       "| 0.13131313 | 0.16317825 | 0.7375817 | 0.2672350 |\n",
       "| 0.14141414 | 0.16978417 | 0.7133987 | 0.2742893 |\n",
       "| 0.15151515 | 0.17584392 | 0.6877451 | 0.2800772 |\n",
       "| 0.16161616 | 0.18303133 | 0.6700980 | 0.2875272 |\n",
       "| 0.17171717 | 0.18840580 | 0.6436275 | 0.2914863 |\n",
       "| 0.18181818 | 0.19438589 | 0.6178105 | 0.2957256 |\n",
       "| 0.19191919 | 0.20016561 | 0.5924837 | 0.2992366 |\n",
       "| 0.20202020 | 0.20697219 | 0.5704248 | 0.3037369 |\n",
       "| 0.21212121 | 0.21376374 | 0.5496732 | 0.3078190 |\n",
       "| 0.22222222 | 0.22056317 | 0.5285948 | 0.3112522 |\n",
       "| 0.23232323 | 0.22674291 | 0.5053922 | 0.3130408 |\n",
       "| 0.24242424 | 0.23298532 | 0.4849673 | 0.3147569 |\n",
       "| 0.25252525 | 0.23929535 | 0.4638889 | 0.3157251 |\n",
       "| 0.26262626 | 0.24669403 | 0.4419935 | 0.3166520 |\n",
       "| 0.27272727 | 0.25478209 | 0.4222222 | 0.3177961 |\n",
       "| 0.28282828 | 0.26318027 | 0.4045752 | 0.3189078 |\n",
       "| 0.29292929 | 0.26952228 | 0.3834967 | 0.3165633 |\n",
       "| ⋮ | ⋮ | ⋮ | ⋮ |\n",
       "| 0.7070707 | 0.6166667 | 0.0060457516 | 0.0119741100 |\n",
       "| 0.7171717 | 0.6888889 | 0.0050653595 | 0.0100567721 |\n",
       "| 0.7272727 | 0.6969697 | 0.0037581699 | 0.0074760280 |\n",
       "| 0.7373737 | 0.7142857 | 0.0024509804 | 0.0048851979 |\n",
       "| 0.7474747 | 0.7777778 | 0.0022875817 | 0.0045617465 |\n",
       "| 0.7575758 | 0.8666667 | 0.0021241830 | 0.0042379788 |\n",
       "| 0.7676768 | 0.8461538 | 0.0017973856 | 0.0035871515 |\n",
       "| 0.7777778 | 0.7777778 | 0.0011437908 | 0.0022842225 |\n",
       "| 0.7878788 | 0.7142857 | 0.0008169935 | 0.0016321201 |\n",
       "| 0.7979798 | 0.6666667 | 0.0003267974 | 0.0006532745 |\n",
       "| 0.8080808 | 1.0000000 | 0.0003267974 | 0.0006533812 |\n",
       "| 0.8181818 | 1.0000000 | 0.0003267974 | 0.0006533812 |\n",
       "| 0.8282828 | 1.0000000 | 0.0001633987 | 0.0003267440 |\n",
       "| 0.8383838 | 1.0000000 | 0.0001633987 | 0.0003267440 |\n",
       "| 0.8484848 | 1.0000000 | 0.0001633987 | 0.0003267440 |\n",
       "| 0.8585859 | 1.0000000 | 0.0001633987 | 0.0003267440 |\n",
       "| 0.8686869 | 1.0000000 | 0.0001633987 | 0.0003267440 |\n",
       "| 0.8787879 |       NaN | 0.0000000000 |          NaN |\n",
       "| 0.8888889 |       NaN | 0.0000000000 |          NaN |\n",
       "| 0.8989899 |       NaN | 0.0000000000 |          NaN |\n",
       "| 0.9090909 |       NaN | 0.0000000000 |          NaN |\n",
       "| 0.9191919 |       NaN | 0.0000000000 |          NaN |\n",
       "| 0.9292929 |       NaN | 0.0000000000 |          NaN |\n",
       "| 0.9393939 |       NaN | 0.0000000000 |          NaN |\n",
       "| 0.9494949 |       NaN | 0.0000000000 |          NaN |\n",
       "| 0.9595960 |       NaN | 0.0000000000 |          NaN |\n",
       "| 0.9696970 |       NaN | 0.0000000000 |          NaN |\n",
       "| 0.9797980 |       NaN | 0.0000000000 |          NaN |\n",
       "| 0.9898990 |       NaN | 0.0000000000 |          NaN |\n",
       "| 1.0000000 |       NaN | 0.0000000000 |          NaN |\n",
       "\n"
      ],
      "text/plain": [
       "    threshold  precision  recall       F1          \n",
       "1   0.00000000 0.08461921 1.0000000    0.1560349   \n",
       "2   0.01010101 0.08934303 0.9915033    0.1639158   \n",
       "3   0.02020202 0.09550894 0.9767974    0.1740042   \n",
       "4   0.03030303 0.10225590 0.9591503    0.1848091   \n",
       "5   0.04040404 0.10920702 0.9444444    0.1957762   \n",
       "6   0.05050505 0.11612229 0.9259804    0.2063654   \n",
       "7   0.06060606 0.12262751 0.9047386    0.2159811   \n",
       "8   0.07070707 0.12924895 0.8866013    0.2256086   \n",
       "9   0.08080808 0.13496854 0.8622549    0.2334026   \n",
       "10  0.09090909 0.14097205 0.8431373    0.2415561   \n",
       "11  0.10101010 0.14600954 0.8151961    0.2476607   \n",
       "12  0.11111111 0.15149425 0.7893791    0.2542030   \n",
       "13  0.12121212 0.15721936 0.7627451    0.2607020   \n",
       "14  0.13131313 0.16317825 0.7375817    0.2672350   \n",
       "15  0.14141414 0.16978417 0.7133987    0.2742893   \n",
       "16  0.15151515 0.17584392 0.6877451    0.2800772   \n",
       "17  0.16161616 0.18303133 0.6700980    0.2875272   \n",
       "18  0.17171717 0.18840580 0.6436275    0.2914863   \n",
       "19  0.18181818 0.19438589 0.6178105    0.2957256   \n",
       "20  0.19191919 0.20016561 0.5924837    0.2992366   \n",
       "21  0.20202020 0.20697219 0.5704248    0.3037369   \n",
       "22  0.21212121 0.21376374 0.5496732    0.3078190   \n",
       "23  0.22222222 0.22056317 0.5285948    0.3112522   \n",
       "24  0.23232323 0.22674291 0.5053922    0.3130408   \n",
       "25  0.24242424 0.23298532 0.4849673    0.3147569   \n",
       "26  0.25252525 0.23929535 0.4638889    0.3157251   \n",
       "27  0.26262626 0.24669403 0.4419935    0.3166520   \n",
       "28  0.27272727 0.25478209 0.4222222    0.3177961   \n",
       "29  0.28282828 0.26318027 0.4045752    0.3189078   \n",
       "30  0.29292929 0.26952228 0.3834967    0.3165633   \n",
       "⋮   ⋮          ⋮          ⋮            ⋮           \n",
       "71  0.7070707  0.6166667  0.0060457516 0.0119741100\n",
       "72  0.7171717  0.6888889  0.0050653595 0.0100567721\n",
       "73  0.7272727  0.6969697  0.0037581699 0.0074760280\n",
       "74  0.7373737  0.7142857  0.0024509804 0.0048851979\n",
       "75  0.7474747  0.7777778  0.0022875817 0.0045617465\n",
       "76  0.7575758  0.8666667  0.0021241830 0.0042379788\n",
       "77  0.7676768  0.8461538  0.0017973856 0.0035871515\n",
       "78  0.7777778  0.7777778  0.0011437908 0.0022842225\n",
       "79  0.7878788  0.7142857  0.0008169935 0.0016321201\n",
       "80  0.7979798  0.6666667  0.0003267974 0.0006532745\n",
       "81  0.8080808  1.0000000  0.0003267974 0.0006533812\n",
       "82  0.8181818  1.0000000  0.0003267974 0.0006533812\n",
       "83  0.8282828  1.0000000  0.0001633987 0.0003267440\n",
       "84  0.8383838  1.0000000  0.0001633987 0.0003267440\n",
       "85  0.8484848  1.0000000  0.0001633987 0.0003267440\n",
       "86  0.8585859  1.0000000  0.0001633987 0.0003267440\n",
       "87  0.8686869  1.0000000  0.0001633987 0.0003267440\n",
       "88  0.8787879        NaN  0.0000000000          NaN\n",
       "89  0.8888889        NaN  0.0000000000          NaN\n",
       "90  0.8989899        NaN  0.0000000000          NaN\n",
       "91  0.9090909        NaN  0.0000000000          NaN\n",
       "92  0.9191919        NaN  0.0000000000          NaN\n",
       "93  0.9292929        NaN  0.0000000000          NaN\n",
       "94  0.9393939        NaN  0.0000000000          NaN\n",
       "95  0.9494949        NaN  0.0000000000          NaN\n",
       "96  0.9595960        NaN  0.0000000000          NaN\n",
       "97  0.9696970        NaN  0.0000000000          NaN\n",
       "98  0.9797980        NaN  0.0000000000          NaN\n",
       "99  0.9898990        NaN  0.0000000000          NaN\n",
       "100 1.0000000        NaN  0.0000000000          NaN"
      ]
     },
     "metadata": {},
     "output_type": "display_data"
    }
   ],
   "source": [
    "roc_obj_smote<-roc(response=tree_ranger_smote$pred$obs,  # Valores reales de la variable objetivo\n",
    "                   predictor=tree_ranger_smote$pred$desempleado, # Probabilidades predichas por el modelo\n",
    "                  levels = c(\"empleado\", \"desempleado\"),  # # Establece la referencia control y caso (empleado = negativo, desempleado = positivo) \n",
    "                  direction = \"<\")  # \"<\" significa que \"desempleado\" es positivo\n",
    "prec_recall<-data.frame(coords(roc_obj_smote, seq(0,1,length=100), ret=c(\"threshold\", \"precision\", \"recall\")))\n",
    "prec_recall<- prec_recall  %>% mutate(F1=(2*precision*recall)/(precision+recall))\n",
    "prec_recall"
   ]
  },
  {
   "cell_type": "code",
   "execution_count": 81,
   "id": "9c36fa54-4d6f-4793-b45e-1da12967b6eb",
   "metadata": {},
   "outputs": [
    {
     "data": {
      "text/html": [
       "<table class=\"dataframe\">\n",
       "<caption>A tibble: 6 × 21</caption>\n",
       "<thead>\n",
       "\t<tr><th scope=col>desempleado</th><th scope=col>edad</th><th scope=col>mujer</th><th scope=col>nivel_ed</th><th scope=col>parentesco</th><th scope=col>estado_civil</th><th scope=col>tipo_vivienda</th><th scope=col>ing_tot_fam</th><th scope=col>total_miembros_hogar</th><th scope=col>miembros_hogar_menores10</th><th scope=col>⋯</th><th scope=col>desempleo_hat_ranger_sens</th><th scope=col>desempleo_ranger_sens</th><th scope=col>desempleo_hat_ranger_sens_cutoff</th><th scope=col>desempleo_prob_ranger_sens</th><th scope=col>desempleo_hat_ranger_sens_cutoff_F1</th><th scope=col>desempleo_ranger_sens_pesos</th><th scope=col>desempleo_ranger_downsample</th><th scope=col>desempleo_ranger_upsample</th><th scope=col>desempleado_hat_smote</th><th scope=col>desempleo_prob_smote</th></tr>\n",
       "\t<tr><th scope=col>&lt;fct&gt;</th><th scope=col>&lt;dbl&gt;</th><th scope=col>&lt;fct&gt;</th><th scope=col>&lt;fct&gt;</th><th scope=col>&lt;fct&gt;</th><th scope=col>&lt;fct&gt;</th><th scope=col>&lt;fct&gt;</th><th scope=col>&lt;dbl&gt;</th><th scope=col>&lt;dbl&gt;</th><th scope=col>&lt;dbl&gt;</th><th scope=col>⋯</th><th scope=col>&lt;fct&gt;</th><th scope=col>&lt;dbl&gt;</th><th scope=col>&lt;fct&gt;</th><th scope=col>&lt;dbl&gt;</th><th scope=col>&lt;fct&gt;</th><th scope=col>&lt;fct&gt;</th><th scope=col>&lt;fct&gt;</th><th scope=col>&lt;fct&gt;</th><th scope=col>&lt;fct&gt;</th><th scope=col>&lt;dbl&gt;</th></tr>\n",
       "</thead>\n",
       "<tbody>\n",
       "\t<tr><td>empleado</td><td>54</td><td>mujer </td><td>Secundaria Incompleta            </td><td>Conyuge/Pareja</td><td>Casado/a                 </td><td>Departamento</td><td>4000</td><td>2</td><td>0</td><td>⋯</td><td>empleado</td><td>0.06549720</td><td>empleado   </td><td>0.06549720</td><td>empleado   </td><td>empleado   </td><td>empleado   </td><td>empleado</td><td>empleado</td><td>0.16844775</td></tr>\n",
       "\t<tr><td>empleado</td><td>30</td><td>hombre</td><td>Primaria Completa                </td><td>Jefe/a        </td><td>Unido/a                  </td><td>Casa        </td><td>2400</td><td>9</td><td>4</td><td>⋯</td><td>empleado</td><td>0.02675662</td><td>empleado   </td><td>0.02675662</td><td>empleado   </td><td>empleado   </td><td>empleado   </td><td>empleado</td><td>empleado</td><td>0.04851494</td></tr>\n",
       "\t<tr><td>empleado</td><td>24</td><td>hombre</td><td>Secundaria Completa              </td><td>Hermano/a     </td><td>Soltero/a                </td><td>Casa        </td><td>2400</td><td>9</td><td>4</td><td>⋯</td><td>empleado</td><td>0.28362759</td><td>desempleado</td><td>0.28362759</td><td>desempleado</td><td>desempleado</td><td>desempleado</td><td>empleado</td><td>empleado</td><td>0.29049263</td></tr>\n",
       "\t<tr><td>empleado</td><td>51</td><td>hombre</td><td>Superior Universitaria Incompleta</td><td>Conyuge/Pareja</td><td>Unido/a                  </td><td>Casa        </td><td>5100</td><td>2</td><td>0</td><td>⋯</td><td>empleado</td><td>0.04368777</td><td>empleado   </td><td>0.04368777</td><td>empleado   </td><td>empleado   </td><td>empleado   </td><td>empleado</td><td>empleado</td><td>0.13634940</td></tr>\n",
       "\t<tr><td>empleado</td><td>60</td><td>mujer </td><td>Superior Universitaria Incompleta</td><td>Conyuge/Pareja</td><td>Unido/a                  </td><td>Casa        </td><td>3800</td><td>3</td><td>0</td><td>⋯</td><td>empleado</td><td>0.10100388</td><td>desempleado</td><td>0.10100388</td><td>empleado   </td><td>empleado   </td><td>desempleado</td><td>empleado</td><td>empleado</td><td>0.25740944</td></tr>\n",
       "\t<tr><td>empleado</td><td>63</td><td>hombre</td><td>Secundaria Incompleta            </td><td>Jefe/a        </td><td>Separado/a o Divorciado/a</td><td>Casa        </td><td>1000</td><td>1</td><td>0</td><td>⋯</td><td>empleado</td><td>0.22719691</td><td>desempleado</td><td>0.22719691</td><td>desempleado</td><td>desempleado</td><td>desempleado</td><td>empleado</td><td>empleado</td><td>0.27904890</td></tr>\n",
       "</tbody>\n",
       "</table>\n"
      ],
      "text/latex": [
       "A tibble: 6 × 21\n",
       "\\begin{tabular}{lllllllllllllllllllll}\n",
       " desempleado & edad & mujer & nivel\\_ed & parentesco & estado\\_civil & tipo\\_vivienda & ing\\_tot\\_fam & total\\_miembros\\_hogar & miembros\\_hogar\\_menores10 & ⋯ & desempleo\\_hat\\_ranger\\_sens & desempleo\\_ranger\\_sens & desempleo\\_hat\\_ranger\\_sens\\_cutoff & desempleo\\_prob\\_ranger\\_sens & desempleo\\_hat\\_ranger\\_sens\\_cutoff\\_F1 & desempleo\\_ranger\\_sens\\_pesos & desempleo\\_ranger\\_downsample & desempleo\\_ranger\\_upsample & desempleado\\_hat\\_smote & desempleo\\_prob\\_smote\\\\\n",
       " <fct> & <dbl> & <fct> & <fct> & <fct> & <fct> & <fct> & <dbl> & <dbl> & <dbl> & ⋯ & <fct> & <dbl> & <fct> & <dbl> & <fct> & <fct> & <fct> & <fct> & <fct> & <dbl>\\\\\n",
       "\\hline\n",
       "\t empleado & 54 & mujer  & Secundaria Incompleta             & Conyuge/Pareja & Casado/a                  & Departamento & 4000 & 2 & 0 & ⋯ & empleado & 0.06549720 & empleado    & 0.06549720 & empleado    & empleado    & empleado    & empleado & empleado & 0.16844775\\\\\n",
       "\t empleado & 30 & hombre & Primaria Completa                 & Jefe/a         & Unido/a                   & Casa         & 2400 & 9 & 4 & ⋯ & empleado & 0.02675662 & empleado    & 0.02675662 & empleado    & empleado    & empleado    & empleado & empleado & 0.04851494\\\\\n",
       "\t empleado & 24 & hombre & Secundaria Completa               & Hermano/a      & Soltero/a                 & Casa         & 2400 & 9 & 4 & ⋯ & empleado & 0.28362759 & desempleado & 0.28362759 & desempleado & desempleado & desempleado & empleado & empleado & 0.29049263\\\\\n",
       "\t empleado & 51 & hombre & Superior Universitaria Incompleta & Conyuge/Pareja & Unido/a                   & Casa         & 5100 & 2 & 0 & ⋯ & empleado & 0.04368777 & empleado    & 0.04368777 & empleado    & empleado    & empleado    & empleado & empleado & 0.13634940\\\\\n",
       "\t empleado & 60 & mujer  & Superior Universitaria Incompleta & Conyuge/Pareja & Unido/a                   & Casa         & 3800 & 3 & 0 & ⋯ & empleado & 0.10100388 & desempleado & 0.10100388 & empleado    & empleado    & desempleado & empleado & empleado & 0.25740944\\\\\n",
       "\t empleado & 63 & hombre & Secundaria Incompleta             & Jefe/a         & Separado/a o Divorciado/a & Casa         & 1000 & 1 & 0 & ⋯ & empleado & 0.22719691 & desempleado & 0.22719691 & desempleado & desempleado & desempleado & empleado & empleado & 0.27904890\\\\\n",
       "\\end{tabular}\n"
      ],
      "text/markdown": [
       "\n",
       "A tibble: 6 × 21\n",
       "\n",
       "| desempleado &lt;fct&gt; | edad &lt;dbl&gt; | mujer &lt;fct&gt; | nivel_ed &lt;fct&gt; | parentesco &lt;fct&gt; | estado_civil &lt;fct&gt; | tipo_vivienda &lt;fct&gt; | ing_tot_fam &lt;dbl&gt; | total_miembros_hogar &lt;dbl&gt; | miembros_hogar_menores10 &lt;dbl&gt; | ⋯ ⋯ | desempleo_hat_ranger_sens &lt;fct&gt; | desempleo_ranger_sens &lt;dbl&gt; | desempleo_hat_ranger_sens_cutoff &lt;fct&gt; | desempleo_prob_ranger_sens &lt;dbl&gt; | desempleo_hat_ranger_sens_cutoff_F1 &lt;fct&gt; | desempleo_ranger_sens_pesos &lt;fct&gt; | desempleo_ranger_downsample &lt;fct&gt; | desempleo_ranger_upsample &lt;fct&gt; | desempleado_hat_smote &lt;fct&gt; | desempleo_prob_smote &lt;dbl&gt; |\n",
       "|---|---|---|---|---|---|---|---|---|---|---|---|---|---|---|---|---|---|---|---|---|\n",
       "| empleado | 54 | mujer  | Secundaria Incompleta             | Conyuge/Pareja | Casado/a                  | Departamento | 4000 | 2 | 0 | ⋯ | empleado | 0.06549720 | empleado    | 0.06549720 | empleado    | empleado    | empleado    | empleado | empleado | 0.16844775 |\n",
       "| empleado | 30 | hombre | Primaria Completa                 | Jefe/a         | Unido/a                   | Casa         | 2400 | 9 | 4 | ⋯ | empleado | 0.02675662 | empleado    | 0.02675662 | empleado    | empleado    | empleado    | empleado | empleado | 0.04851494 |\n",
       "| empleado | 24 | hombre | Secundaria Completa               | Hermano/a      | Soltero/a                 | Casa         | 2400 | 9 | 4 | ⋯ | empleado | 0.28362759 | desempleado | 0.28362759 | desempleado | desempleado | desempleado | empleado | empleado | 0.29049263 |\n",
       "| empleado | 51 | hombre | Superior Universitaria Incompleta | Conyuge/Pareja | Unido/a                   | Casa         | 5100 | 2 | 0 | ⋯ | empleado | 0.04368777 | empleado    | 0.04368777 | empleado    | empleado    | empleado    | empleado | empleado | 0.13634940 |\n",
       "| empleado | 60 | mujer  | Superior Universitaria Incompleta | Conyuge/Pareja | Unido/a                   | Casa         | 3800 | 3 | 0 | ⋯ | empleado | 0.10100388 | desempleado | 0.10100388 | empleado    | empleado    | desempleado | empleado | empleado | 0.25740944 |\n",
       "| empleado | 63 | hombre | Secundaria Incompleta             | Jefe/a         | Separado/a o Divorciado/a | Casa         | 1000 | 1 | 0 | ⋯ | empleado | 0.22719691 | desempleado | 0.22719691 | desempleado | desempleado | desempleado | empleado | empleado | 0.27904890 |\n",
       "\n"
      ],
      "text/plain": [
       "  desempleado edad mujer  nivel_ed                          parentesco    \n",
       "1 empleado    54   mujer  Secundaria Incompleta             Conyuge/Pareja\n",
       "2 empleado    30   hombre Primaria Completa                 Jefe/a        \n",
       "3 empleado    24   hombre Secundaria Completa               Hermano/a     \n",
       "4 empleado    51   hombre Superior Universitaria Incompleta Conyuge/Pareja\n",
       "5 empleado    60   mujer  Superior Universitaria Incompleta Conyuge/Pareja\n",
       "6 empleado    63   hombre Secundaria Incompleta             Jefe/a        \n",
       "  estado_civil              tipo_vivienda ing_tot_fam total_miembros_hogar\n",
       "1 Casado/a                  Departamento  4000        2                   \n",
       "2 Unido/a                   Casa          2400        9                   \n",
       "3 Soltero/a                 Casa          2400        9                   \n",
       "4 Unido/a                   Casa          5100        2                   \n",
       "5 Unido/a                   Casa          3800        3                   \n",
       "6 Separado/a o Divorciado/a Casa          1000        1                   \n",
       "  miembros_hogar_menores10 ⋯ desempleo_hat_ranger_sens desempleo_ranger_sens\n",
       "1 0                        ⋯ empleado                  0.06549720           \n",
       "2 4                        ⋯ empleado                  0.02675662           \n",
       "3 4                        ⋯ empleado                  0.28362759           \n",
       "4 0                        ⋯ empleado                  0.04368777           \n",
       "5 0                        ⋯ empleado                  0.10100388           \n",
       "6 0                        ⋯ empleado                  0.22719691           \n",
       "  desempleo_hat_ranger_sens_cutoff desempleo_prob_ranger_sens\n",
       "1 empleado                         0.06549720                \n",
       "2 empleado                         0.02675662                \n",
       "3 desempleado                      0.28362759                \n",
       "4 empleado                         0.04368777                \n",
       "5 desempleado                      0.10100388                \n",
       "6 desempleado                      0.22719691                \n",
       "  desempleo_hat_ranger_sens_cutoff_F1 desempleo_ranger_sens_pesos\n",
       "1 empleado                            empleado                   \n",
       "2 empleado                            empleado                   \n",
       "3 desempleado                         desempleado                \n",
       "4 empleado                            empleado                   \n",
       "5 empleado                            empleado                   \n",
       "6 desempleado                         desempleado                \n",
       "  desempleo_ranger_downsample desempleo_ranger_upsample desempleado_hat_smote\n",
       "1 empleado                    empleado                  empleado             \n",
       "2 empleado                    empleado                  empleado             \n",
       "3 desempleado                 empleado                  empleado             \n",
       "4 empleado                    empleado                  empleado             \n",
       "5 desempleado                 empleado                  empleado             \n",
       "6 desempleado                 empleado                  empleado             \n",
       "  desempleo_prob_smote\n",
       "1 0.16844775          \n",
       "2 0.04851494          \n",
       "3 0.29049263          \n",
       "4 0.13634940          \n",
       "5 0.25740944          \n",
       "6 0.27904890          "
      ]
     },
     "metadata": {},
     "output_type": "display_data"
    }
   ],
   "source": [
    "# Evaluando en el Test Set\n",
    "test<- test  %>% mutate(desempleo_prob_smote = predict(tree_ranger_smote, newdata = test,\n",
    "                           type = \"prob\")$desempleado)\n",
    "head(test)"
   ]
  },
  {
   "cell_type": "code",
   "execution_count": 82,
   "id": "a80a7aca-1027-4a2a-bbd7-64b29980ee75",
   "metadata": {},
   "outputs": [
    {
     "data": {
      "text/html": [
       "<table class=\"dataframe\">\n",
       "<caption>A tibble: 6 × 22</caption>\n",
       "<thead>\n",
       "\t<tr><th scope=col>desempleado</th><th scope=col>edad</th><th scope=col>mujer</th><th scope=col>nivel_ed</th><th scope=col>parentesco</th><th scope=col>estado_civil</th><th scope=col>tipo_vivienda</th><th scope=col>ing_tot_fam</th><th scope=col>total_miembros_hogar</th><th scope=col>miembros_hogar_menores10</th><th scope=col>⋯</th><th scope=col>desempleo_ranger_sens</th><th scope=col>desempleo_hat_ranger_sens_cutoff</th><th scope=col>desempleo_prob_ranger_sens</th><th scope=col>desempleo_hat_ranger_sens_cutoff_F1</th><th scope=col>desempleo_ranger_sens_pesos</th><th scope=col>desempleo_ranger_downsample</th><th scope=col>desempleo_ranger_upsample</th><th scope=col>desempleado_hat_smote</th><th scope=col>desempleo_prob_smote</th><th scope=col>desempleo_smote_sens_cutoff_F1</th></tr>\n",
       "\t<tr><th scope=col>&lt;fct&gt;</th><th scope=col>&lt;dbl&gt;</th><th scope=col>&lt;fct&gt;</th><th scope=col>&lt;fct&gt;</th><th scope=col>&lt;fct&gt;</th><th scope=col>&lt;fct&gt;</th><th scope=col>&lt;fct&gt;</th><th scope=col>&lt;dbl&gt;</th><th scope=col>&lt;dbl&gt;</th><th scope=col>&lt;dbl&gt;</th><th scope=col>⋯</th><th scope=col>&lt;dbl&gt;</th><th scope=col>&lt;fct&gt;</th><th scope=col>&lt;dbl&gt;</th><th scope=col>&lt;fct&gt;</th><th scope=col>&lt;fct&gt;</th><th scope=col>&lt;fct&gt;</th><th scope=col>&lt;fct&gt;</th><th scope=col>&lt;fct&gt;</th><th scope=col>&lt;dbl&gt;</th><th scope=col>&lt;fct&gt;</th></tr>\n",
       "</thead>\n",
       "<tbody>\n",
       "\t<tr><td>empleado</td><td>54</td><td>mujer </td><td>Secundaria Incompleta            </td><td>Conyuge/Pareja</td><td>Casado/a                 </td><td>Departamento</td><td>4000</td><td>2</td><td>0</td><td>⋯</td><td>0.06549720</td><td>empleado   </td><td>0.06549720</td><td>empleado   </td><td>empleado   </td><td>empleado   </td><td>empleado</td><td>empleado</td><td>0.16844775</td><td>empleado   </td></tr>\n",
       "\t<tr><td>empleado</td><td>30</td><td>hombre</td><td>Primaria Completa                </td><td>Jefe/a        </td><td>Unido/a                  </td><td>Casa        </td><td>2400</td><td>9</td><td>4</td><td>⋯</td><td>0.02675662</td><td>empleado   </td><td>0.02675662</td><td>empleado   </td><td>empleado   </td><td>empleado   </td><td>empleado</td><td>empleado</td><td>0.04851494</td><td>empleado   </td></tr>\n",
       "\t<tr><td>empleado</td><td>24</td><td>hombre</td><td>Secundaria Completa              </td><td>Hermano/a     </td><td>Soltero/a                </td><td>Casa        </td><td>2400</td><td>9</td><td>4</td><td>⋯</td><td>0.28362759</td><td>desempleado</td><td>0.28362759</td><td>desempleado</td><td>desempleado</td><td>desempleado</td><td>empleado</td><td>empleado</td><td>0.29049263</td><td>desempleado</td></tr>\n",
       "\t<tr><td>empleado</td><td>51</td><td>hombre</td><td>Superior Universitaria Incompleta</td><td>Conyuge/Pareja</td><td>Unido/a                  </td><td>Casa        </td><td>5100</td><td>2</td><td>0</td><td>⋯</td><td>0.04368777</td><td>empleado   </td><td>0.04368777</td><td>empleado   </td><td>empleado   </td><td>empleado   </td><td>empleado</td><td>empleado</td><td>0.13634940</td><td>empleado   </td></tr>\n",
       "\t<tr><td>empleado</td><td>60</td><td>mujer </td><td>Superior Universitaria Incompleta</td><td>Conyuge/Pareja</td><td>Unido/a                  </td><td>Casa        </td><td>3800</td><td>3</td><td>0</td><td>⋯</td><td>0.10100388</td><td>desempleado</td><td>0.10100388</td><td>empleado   </td><td>empleado   </td><td>desempleado</td><td>empleado</td><td>empleado</td><td>0.25740944</td><td>empleado   </td></tr>\n",
       "\t<tr><td>empleado</td><td>63</td><td>hombre</td><td>Secundaria Incompleta            </td><td>Jefe/a        </td><td>Separado/a o Divorciado/a</td><td>Casa        </td><td>1000</td><td>1</td><td>0</td><td>⋯</td><td>0.22719691</td><td>desempleado</td><td>0.22719691</td><td>desempleado</td><td>desempleado</td><td>desempleado</td><td>empleado</td><td>empleado</td><td>0.27904890</td><td>empleado   </td></tr>\n",
       "</tbody>\n",
       "</table>\n"
      ],
      "text/latex": [
       "A tibble: 6 × 22\n",
       "\\begin{tabular}{lllllllllllllllllllll}\n",
       " desempleado & edad & mujer & nivel\\_ed & parentesco & estado\\_civil & tipo\\_vivienda & ing\\_tot\\_fam & total\\_miembros\\_hogar & miembros\\_hogar\\_menores10 & ⋯ & desempleo\\_ranger\\_sens & desempleo\\_hat\\_ranger\\_sens\\_cutoff & desempleo\\_prob\\_ranger\\_sens & desempleo\\_hat\\_ranger\\_sens\\_cutoff\\_F1 & desempleo\\_ranger\\_sens\\_pesos & desempleo\\_ranger\\_downsample & desempleo\\_ranger\\_upsample & desempleado\\_hat\\_smote & desempleo\\_prob\\_smote & desempleo\\_smote\\_sens\\_cutoff\\_F1\\\\\n",
       " <fct> & <dbl> & <fct> & <fct> & <fct> & <fct> & <fct> & <dbl> & <dbl> & <dbl> & ⋯ & <dbl> & <fct> & <dbl> & <fct> & <fct> & <fct> & <fct> & <fct> & <dbl> & <fct>\\\\\n",
       "\\hline\n",
       "\t empleado & 54 & mujer  & Secundaria Incompleta             & Conyuge/Pareja & Casado/a                  & Departamento & 4000 & 2 & 0 & ⋯ & 0.06549720 & empleado    & 0.06549720 & empleado    & empleado    & empleado    & empleado & empleado & 0.16844775 & empleado   \\\\\n",
       "\t empleado & 30 & hombre & Primaria Completa                 & Jefe/a         & Unido/a                   & Casa         & 2400 & 9 & 4 & ⋯ & 0.02675662 & empleado    & 0.02675662 & empleado    & empleado    & empleado    & empleado & empleado & 0.04851494 & empleado   \\\\\n",
       "\t empleado & 24 & hombre & Secundaria Completa               & Hermano/a      & Soltero/a                 & Casa         & 2400 & 9 & 4 & ⋯ & 0.28362759 & desempleado & 0.28362759 & desempleado & desempleado & desempleado & empleado & empleado & 0.29049263 & desempleado\\\\\n",
       "\t empleado & 51 & hombre & Superior Universitaria Incompleta & Conyuge/Pareja & Unido/a                   & Casa         & 5100 & 2 & 0 & ⋯ & 0.04368777 & empleado    & 0.04368777 & empleado    & empleado    & empleado    & empleado & empleado & 0.13634940 & empleado   \\\\\n",
       "\t empleado & 60 & mujer  & Superior Universitaria Incompleta & Conyuge/Pareja & Unido/a                   & Casa         & 3800 & 3 & 0 & ⋯ & 0.10100388 & desempleado & 0.10100388 & empleado    & empleado    & desempleado & empleado & empleado & 0.25740944 & empleado   \\\\\n",
       "\t empleado & 63 & hombre & Secundaria Incompleta             & Jefe/a         & Separado/a o Divorciado/a & Casa         & 1000 & 1 & 0 & ⋯ & 0.22719691 & desempleado & 0.22719691 & desempleado & desempleado & desempleado & empleado & empleado & 0.27904890 & empleado   \\\\\n",
       "\\end{tabular}\n"
      ],
      "text/markdown": [
       "\n",
       "A tibble: 6 × 22\n",
       "\n",
       "| desempleado &lt;fct&gt; | edad &lt;dbl&gt; | mujer &lt;fct&gt; | nivel_ed &lt;fct&gt; | parentesco &lt;fct&gt; | estado_civil &lt;fct&gt; | tipo_vivienda &lt;fct&gt; | ing_tot_fam &lt;dbl&gt; | total_miembros_hogar &lt;dbl&gt; | miembros_hogar_menores10 &lt;dbl&gt; | ⋯ ⋯ | desempleo_ranger_sens &lt;dbl&gt; | desempleo_hat_ranger_sens_cutoff &lt;fct&gt; | desempleo_prob_ranger_sens &lt;dbl&gt; | desempleo_hat_ranger_sens_cutoff_F1 &lt;fct&gt; | desempleo_ranger_sens_pesos &lt;fct&gt; | desempleo_ranger_downsample &lt;fct&gt; | desempleo_ranger_upsample &lt;fct&gt; | desempleado_hat_smote &lt;fct&gt; | desempleo_prob_smote &lt;dbl&gt; | desempleo_smote_sens_cutoff_F1 &lt;fct&gt; |\n",
       "|---|---|---|---|---|---|---|---|---|---|---|---|---|---|---|---|---|---|---|---|---|\n",
       "| empleado | 54 | mujer  | Secundaria Incompleta             | Conyuge/Pareja | Casado/a                  | Departamento | 4000 | 2 | 0 | ⋯ | 0.06549720 | empleado    | 0.06549720 | empleado    | empleado    | empleado    | empleado | empleado | 0.16844775 | empleado    |\n",
       "| empleado | 30 | hombre | Primaria Completa                 | Jefe/a         | Unido/a                   | Casa         | 2400 | 9 | 4 | ⋯ | 0.02675662 | empleado    | 0.02675662 | empleado    | empleado    | empleado    | empleado | empleado | 0.04851494 | empleado    |\n",
       "| empleado | 24 | hombre | Secundaria Completa               | Hermano/a      | Soltero/a                 | Casa         | 2400 | 9 | 4 | ⋯ | 0.28362759 | desempleado | 0.28362759 | desempleado | desempleado | desempleado | empleado | empleado | 0.29049263 | desempleado |\n",
       "| empleado | 51 | hombre | Superior Universitaria Incompleta | Conyuge/Pareja | Unido/a                   | Casa         | 5100 | 2 | 0 | ⋯ | 0.04368777 | empleado    | 0.04368777 | empleado    | empleado    | empleado    | empleado | empleado | 0.13634940 | empleado    |\n",
       "| empleado | 60 | mujer  | Superior Universitaria Incompleta | Conyuge/Pareja | Unido/a                   | Casa         | 3800 | 3 | 0 | ⋯ | 0.10100388 | desempleado | 0.10100388 | empleado    | empleado    | desempleado | empleado | empleado | 0.25740944 | empleado    |\n",
       "| empleado | 63 | hombre | Secundaria Incompleta             | Jefe/a         | Separado/a o Divorciado/a | Casa         | 1000 | 1 | 0 | ⋯ | 0.22719691 | desempleado | 0.22719691 | desempleado | desempleado | desempleado | empleado | empleado | 0.27904890 | empleado    |\n",
       "\n"
      ],
      "text/plain": [
       "  desempleado edad mujer  nivel_ed                          parentesco    \n",
       "1 empleado    54   mujer  Secundaria Incompleta             Conyuge/Pareja\n",
       "2 empleado    30   hombre Primaria Completa                 Jefe/a        \n",
       "3 empleado    24   hombre Secundaria Completa               Hermano/a     \n",
       "4 empleado    51   hombre Superior Universitaria Incompleta Conyuge/Pareja\n",
       "5 empleado    60   mujer  Superior Universitaria Incompleta Conyuge/Pareja\n",
       "6 empleado    63   hombre Secundaria Incompleta             Jefe/a        \n",
       "  estado_civil              tipo_vivienda ing_tot_fam total_miembros_hogar\n",
       "1 Casado/a                  Departamento  4000        2                   \n",
       "2 Unido/a                   Casa          2400        9                   \n",
       "3 Soltero/a                 Casa          2400        9                   \n",
       "4 Unido/a                   Casa          5100        2                   \n",
       "5 Unido/a                   Casa          3800        3                   \n",
       "6 Separado/a o Divorciado/a Casa          1000        1                   \n",
       "  miembros_hogar_menores10 ⋯ desempleo_ranger_sens\n",
       "1 0                        ⋯ 0.06549720           \n",
       "2 4                        ⋯ 0.02675662           \n",
       "3 4                        ⋯ 0.28362759           \n",
       "4 0                        ⋯ 0.04368777           \n",
       "5 0                        ⋯ 0.10100388           \n",
       "6 0                        ⋯ 0.22719691           \n",
       "  desempleo_hat_ranger_sens_cutoff desempleo_prob_ranger_sens\n",
       "1 empleado                         0.06549720                \n",
       "2 empleado                         0.02675662                \n",
       "3 desempleado                      0.28362759                \n",
       "4 empleado                         0.04368777                \n",
       "5 desempleado                      0.10100388                \n",
       "6 desempleado                      0.22719691                \n",
       "  desempleo_hat_ranger_sens_cutoff_F1 desempleo_ranger_sens_pesos\n",
       "1 empleado                            empleado                   \n",
       "2 empleado                            empleado                   \n",
       "3 desempleado                         desempleado                \n",
       "4 empleado                            empleado                   \n",
       "5 empleado                            empleado                   \n",
       "6 desempleado                         desempleado                \n",
       "  desempleo_ranger_downsample desempleo_ranger_upsample desempleado_hat_smote\n",
       "1 empleado                    empleado                  empleado             \n",
       "2 empleado                    empleado                  empleado             \n",
       "3 desempleado                 empleado                  empleado             \n",
       "4 empleado                    empleado                  empleado             \n",
       "5 desempleado                 empleado                  empleado             \n",
       "6 desempleado                 empleado                  empleado             \n",
       "  desempleo_prob_smote desempleo_smote_sens_cutoff_F1\n",
       "1 0.16844775           empleado                      \n",
       "2 0.04851494           empleado                      \n",
       "3 0.29049263           desempleado                   \n",
       "4 0.13634940           empleado                      \n",
       "5 0.25740944           empleado                      \n",
       "6 0.27904890           empleado                      "
      ]
     },
     "metadata": {},
     "output_type": "display_data"
    }
   ],
   "source": [
    "test<- test  %>% mutate(desempleo_smote_sens_cutoff_F1=factor(ifelse(desempleo_prob_smote>=prec_recall$threshold[which.max(prec_recall$F1)],1,0),\n",
    "                                                                 levels = c(1,0), labels = c(\"desempleado\",\"empleado\")))\n",
    "\n",
    "head(test)"
   ]
  },
  {
   "cell_type": "code",
   "execution_count": 83,
   "id": "a565f83e-4f65-4c94-9eb5-0e48bbbc31cd",
   "metadata": {},
   "outputs": [
    {
     "data": {
      "text/html": [
       "<table class=\"dataframe\">\n",
       "<caption>A data.frame: 9 × 5</caption>\n",
       "<thead>\n",
       "\t<tr><th scope=col>Model</th><th scope=col>Accuracy</th><th scope=col>Precision</th><th scope=col>Recall</th><th scope=col>F1_Score</th></tr>\n",
       "\t<tr><th scope=col>&lt;chr&gt;</th><th scope=col>&lt;dbl&gt;</th><th scope=col>&lt;dbl&gt;</th><th scope=col>&lt;dbl&gt;</th><th scope=col>&lt;dbl&gt;</th></tr>\n",
       "</thead>\n",
       "<tbody>\n",
       "\t<tr><td>Ranger_Basico            </td><td>0.9317371</td><td>0.8000000</td><td>0.02919708</td><td>0.05633803</td></tr>\n",
       "\t<tr><td>Ranger_Sens              </td><td>0.9337748</td><td>0.6842105</td><td>0.09489051</td><td>0.16666667</td></tr>\n",
       "\t<tr><td>Ranger_Recall_Diff_cutoff</td><td>0.7182883</td><td>0.1612378</td><td>0.72262774</td><td>0.26364847</td></tr>\n",
       "\t<tr><td>Ranger_Recall_PR         </td><td>0.8660214</td><td>0.2613636</td><td>0.50364964</td><td>0.34413965</td></tr>\n",
       "\t<tr><td>Ranger_Recall_pesos      </td><td>0.7687213</td><td>0.1873767</td><td>0.69343066</td><td>0.29503106</td></tr>\n",
       "\t<tr><td>Downsample               </td><td>0.7096281</td><td>0.1643411</td><td>0.77372263</td><td>0.27109974</td></tr>\n",
       "\t<tr><td>Upsample                 </td><td>0.8950586</td><td>0.2684564</td><td>0.29197080</td><td>0.27972028</td></tr>\n",
       "\t<tr><td>SMOTE                    </td><td>0.9220581</td><td>0.3181818</td><td>0.10218978</td><td>0.15469613</td></tr>\n",
       "\t<tr><td>Ranger_SMOTE_PR          </td><td>0.8497198</td><td>0.2435065</td><td>0.54744526</td><td>0.33707865</td></tr>\n",
       "</tbody>\n",
       "</table>\n"
      ],
      "text/latex": [
       "A data.frame: 9 × 5\n",
       "\\begin{tabular}{lllll}\n",
       " Model & Accuracy & Precision & Recall & F1\\_Score\\\\\n",
       " <chr> & <dbl> & <dbl> & <dbl> & <dbl>\\\\\n",
       "\\hline\n",
       "\t Ranger\\_Basico             & 0.9317371 & 0.8000000 & 0.02919708 & 0.05633803\\\\\n",
       "\t Ranger\\_Sens               & 0.9337748 & 0.6842105 & 0.09489051 & 0.16666667\\\\\n",
       "\t Ranger\\_Recall\\_Diff\\_cutoff & 0.7182883 & 0.1612378 & 0.72262774 & 0.26364847\\\\\n",
       "\t Ranger\\_Recall\\_PR          & 0.8660214 & 0.2613636 & 0.50364964 & 0.34413965\\\\\n",
       "\t Ranger\\_Recall\\_pesos       & 0.7687213 & 0.1873767 & 0.69343066 & 0.29503106\\\\\n",
       "\t Downsample                & 0.7096281 & 0.1643411 & 0.77372263 & 0.27109974\\\\\n",
       "\t Upsample                  & 0.8950586 & 0.2684564 & 0.29197080 & 0.27972028\\\\\n",
       "\t SMOTE                     & 0.9220581 & 0.3181818 & 0.10218978 & 0.15469613\\\\\n",
       "\t Ranger\\_SMOTE\\_PR           & 0.8497198 & 0.2435065 & 0.54744526 & 0.33707865\\\\\n",
       "\\end{tabular}\n"
      ],
      "text/markdown": [
       "\n",
       "A data.frame: 9 × 5\n",
       "\n",
       "| Model &lt;chr&gt; | Accuracy &lt;dbl&gt; | Precision &lt;dbl&gt; | Recall &lt;dbl&gt; | F1_Score &lt;dbl&gt; |\n",
       "|---|---|---|---|---|\n",
       "| Ranger_Basico             | 0.9317371 | 0.8000000 | 0.02919708 | 0.05633803 |\n",
       "| Ranger_Sens               | 0.9337748 | 0.6842105 | 0.09489051 | 0.16666667 |\n",
       "| Ranger_Recall_Diff_cutoff | 0.7182883 | 0.1612378 | 0.72262774 | 0.26364847 |\n",
       "| Ranger_Recall_PR          | 0.8660214 | 0.2613636 | 0.50364964 | 0.34413965 |\n",
       "| Ranger_Recall_pesos       | 0.7687213 | 0.1873767 | 0.69343066 | 0.29503106 |\n",
       "| Downsample                | 0.7096281 | 0.1643411 | 0.77372263 | 0.27109974 |\n",
       "| Upsample                  | 0.8950586 | 0.2684564 | 0.29197080 | 0.27972028 |\n",
       "| SMOTE                     | 0.9220581 | 0.3181818 | 0.10218978 | 0.15469613 |\n",
       "| Ranger_SMOTE_PR           | 0.8497198 | 0.2435065 | 0.54744526 | 0.33707865 |\n",
       "\n"
      ],
      "text/plain": [
       "  Model                     Accuracy  Precision Recall     F1_Score  \n",
       "1 Ranger_Basico             0.9317371 0.8000000 0.02919708 0.05633803\n",
       "2 Ranger_Sens               0.9337748 0.6842105 0.09489051 0.16666667\n",
       "3 Ranger_Recall_Diff_cutoff 0.7182883 0.1612378 0.72262774 0.26364847\n",
       "4 Ranger_Recall_PR          0.8660214 0.2613636 0.50364964 0.34413965\n",
       "5 Ranger_Recall_pesos       0.7687213 0.1873767 0.69343066 0.29503106\n",
       "6 Downsample                0.7096281 0.1643411 0.77372263 0.27109974\n",
       "7 Upsample                  0.8950586 0.2684564 0.29197080 0.27972028\n",
       "8 SMOTE                     0.9220581 0.3181818 0.10218978 0.15469613\n",
       "9 Ranger_SMOTE_PR           0.8497198 0.2435065 0.54744526 0.33707865"
      ]
     },
     "metadata": {},
     "output_type": "display_data"
    }
   ],
   "source": [
    "# Matriz de Confusión\n",
    "cm_ranger_smote_PR <- confusionMatrix(data = test$desempleo_smote_sens_cutoff_F1, \n",
    "                 reference = test$desempleado, positive=\"desempleado\", mode = \"prec_recall\")\n",
    "\n",
    "# guardo en un data frame\n",
    "cm_ranger_smote_PR <- data.frame(\n",
    "  Model = \"Ranger_SMOTE_PR\",\n",
    "  Accuracy = cm_ranger_smote_PR$overall[\"Accuracy\"],\n",
    "  Precision = cm_ranger_smote_PR$byClass[\"Precision\"],\n",
    "  Recall = cm_ranger_smote_PR$byClass[\"Recall\"],\n",
    "  F1_Score = cm_ranger_smote_PR$byClass[\"F1\"]\n",
    ")\n",
    "#  Elimino los nombres de las filas que no informan nada.\n",
    "rownames(cm_ranger_smote_PR)<-NULL\n",
    "\n",
    "\n",
    "# Comparamos\n",
    "metrics_df <- rbind(metrics_df, cm_ranger_smote_PR)\n",
    "\n",
    "metrics_df                                                                                  "
   ]
  }
 ],
 "metadata": {
  "jupytext": {
   "cell_metadata_filter": "tags,name,-all",
   "main_language": "R",
   "notebook_metadata_filter": "-all"
  },
  "kernelspec": {
   "display_name": "R",
   "language": "R",
   "name": "ir"
  },
  "language_info": {
   "codemirror_mode": "r",
   "file_extension": ".r",
   "mimetype": "text/x-r-source",
   "name": "R",
   "pygments_lexer": "r",
   "version": "4.5.1"
  },
  "toc": {
   "base_numbering": 1,
   "nav_menu": {},
   "number_sections": true,
   "sideBar": true,
   "skip_h1_title": false,
   "title_cell": "Table of Contents",
   "title_sidebar": "Contents",
   "toc_cell": false,
   "toc_position": {
    "height": "calc(100% - 180px)",
    "left": "10px",
    "top": "150px",
    "width": "344.4px"
   },
   "toc_section_display": true,
   "toc_window_display": false
  }
 },
 "nbformat": 4,
 "nbformat_minor": 5
}
